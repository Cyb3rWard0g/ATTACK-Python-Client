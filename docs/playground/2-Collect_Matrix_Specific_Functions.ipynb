{
 "cells": [
  {
   "cell_type": "markdown",
   "metadata": {},
   "source": [
    "# Collect Matrix Specific Functions\n",
    "------------------\n",
    "This project also comes with functions that collect several STIX objects from specific ATT&CK matrices. These functions help to collect more with less API call requests one matrix at the time."
   ]
  },
  {
   "cell_type": "markdown",
   "metadata": {},
   "source": [
    "## Import ATTACK API Client"
   ]
  },
  {
   "cell_type": "code",
   "execution_count": 1,
   "metadata": {},
   "outputs": [],
   "source": [
    "from attackcti import attack_client"
   ]
  },
  {
   "cell_type": "markdown",
   "metadata": {},
   "source": [
    "## Import Extra Libraries"
   ]
  },
  {
   "cell_type": "code",
   "execution_count": 2,
   "metadata": {},
   "outputs": [],
   "source": [
    "import pandas\n",
    "import json"
   ]
  },
  {
   "cell_type": "code",
   "execution_count": 3,
   "metadata": {},
   "outputs": [
    {
     "data": {
      "text/plain": [
       "'2.2.3'"
      ]
     },
     "execution_count": 3,
     "metadata": {},
     "output_type": "execute_result"
    }
   ],
   "source": [
    "pandas.__version__"
   ]
  },
  {
   "cell_type": "markdown",
   "metadata": {},
   "source": [
    "## Initialize ATT&CK Client Variable"
   ]
  },
  {
   "cell_type": "code",
   "execution_count": 4,
   "metadata": {},
   "outputs": [],
   "source": [
    "lift = attack_client()"
   ]
  },
  {
   "cell_type": "markdown",
   "metadata": {},
   "source": [
    "## Collect Enterprise ATT&CK\n",
    "We can start by collecting everything from Enterprise ATT&CK such as 'techniques', 'data-component', 'mitigations', 'groups', 'malware', 'tools', 'data-source', 'relationships', 'tactics', 'matrix', 'identity', 'marking-definition'. This function returns a dictionary where keys are mapped to each type of object available in the matrix."
   ]
  },
  {
   "cell_type": "code",
   "execution_count": 5,
   "metadata": {},
   "outputs": [
    {
     "name": "stdout",
     "output_type": "stream",
     "text": [
      "CPU times: user 2.47 s, sys: 180 ms, total: 2.65 s\n",
      "Wall time: 50.6 s\n"
     ]
    }
   ],
   "source": [
    "%time enterprise = lift.get_enterprise()"
   ]
  },
  {
   "cell_type": "code",
   "execution_count": 6,
   "metadata": {},
   "outputs": [
    {
     "data": {
      "text/plain": [
       "dict_keys(['techniques', 'data-component', 'mitigations', 'groups', 'malware', 'tools', 'data-source', 'relationships', 'tactics', 'matrix', 'identity', 'marking-definition', 'campaigns'])"
      ]
     },
     "execution_count": 6,
     "metadata": {},
     "output_type": "execute_result"
    }
   ],
   "source": [
    "enterprise.keys()"
   ]
  },
  {
   "cell_type": "markdown",
   "metadata": {},
   "source": [
    "### Access All Enterprise Techniques\n",
    "We can then access information such as `techniques` from the all the data collected from `enterprise`:"
   ]
  },
  {
   "cell_type": "code",
   "execution_count": 7,
   "metadata": {},
   "outputs": [
    {
     "name": "stdout",
     "output_type": "stream",
     "text": [
      "Number of Techniques in Enterprise ATT&CK\n"
     ]
    },
    {
     "data": {
      "text/plain": [
       "656"
      ]
     },
     "execution_count": 7,
     "metadata": {},
     "output_type": "execute_result"
    }
   ],
   "source": [
    "print(\"Number of Techniques in Enterprise ATT&CK\")\n",
    "len(enterprise['techniques'])"
   ]
  },
  {
   "cell_type": "markdown",
   "metadata": {},
   "source": [
    "By default, the data returned by the available functions in the attackcti library is of type **stix2**. However, if you want to interact with libraries such as **Pandas**, it needs to be of type **dict**"
   ]
  },
  {
   "cell_type": "code",
   "execution_count": 8,
   "metadata": {},
   "outputs": [
    {
     "data": {
      "text/html": [
       "<div>\n",
       "<style scoped>\n",
       "    .dataframe tbody tr th:only-of-type {\n",
       "        vertical-align: middle;\n",
       "    }\n",
       "\n",
       "    .dataframe tbody tr th {\n",
       "        vertical-align: top;\n",
       "    }\n",
       "\n",
       "    .dataframe thead th {\n",
       "        text-align: right;\n",
       "    }\n",
       "</style>\n",
       "<table border=\"1\" class=\"dataframe\">\n",
       "  <thead>\n",
       "    <tr style=\"text-align: right;\">\n",
       "      <th></th>\n",
       "      <th>created</th>\n",
       "      <th>name</th>\n",
       "      <th>x_mitre_data_sources</th>\n",
       "      <th>x_mitre_platforms</th>\n",
       "    </tr>\n",
       "  </thead>\n",
       "  <tbody>\n",
       "    <tr>\n",
       "      <th>0</th>\n",
       "      <td>2020-02-20T22:10:20.484Z</td>\n",
       "      <td>Disk Structure Wipe</td>\n",
       "      <td>[Driver: Driver Load, Drive: Drive Modificatio...</td>\n",
       "      <td>[Linux, macOS, Windows, Network]</td>\n",
       "    </tr>\n",
       "    <tr>\n",
       "      <th>1</th>\n",
       "      <td>2020-10-02T16:39:33.966Z</td>\n",
       "      <td>Gather Victim Host Information</td>\n",
       "      <td>[Internet Scan: Response Content]</td>\n",
       "      <td>[PRE]</td>\n",
       "    </tr>\n",
       "    <tr>\n",
       "      <th>2</th>\n",
       "      <td>2020-10-02T16:58:58.738Z</td>\n",
       "      <td>Digital Certificates</td>\n",
       "      <td>NaN</td>\n",
       "      <td>[PRE]</td>\n",
       "    </tr>\n",
       "    <tr>\n",
       "      <th>3</th>\n",
       "      <td>2020-02-11T18:58:11.791Z</td>\n",
       "      <td>Keylogging</td>\n",
       "      <td>[Driver: Driver Load, Process: OS API Executio...</td>\n",
       "      <td>[Windows, macOS, Linux, Network]</td>\n",
       "    </tr>\n",
       "    <tr>\n",
       "      <th>4</th>\n",
       "      <td>2024-03-29T16:59:10.374Z</td>\n",
       "      <td>File/Path Exclusions</td>\n",
       "      <td>[File: File Creation]</td>\n",
       "      <td>[Linux, macOS, Windows]</td>\n",
       "    </tr>\n",
       "  </tbody>\n",
       "</table>\n",
       "</div>"
      ],
      "text/plain": [
       "                    created                            name  \\\n",
       "0  2020-02-20T22:10:20.484Z             Disk Structure Wipe   \n",
       "1  2020-10-02T16:39:33.966Z  Gather Victim Host Information   \n",
       "2  2020-10-02T16:58:58.738Z            Digital Certificates   \n",
       "3  2020-02-11T18:58:11.791Z                      Keylogging   \n",
       "4  2024-03-29T16:59:10.374Z            File/Path Exclusions   \n",
       "\n",
       "                                x_mitre_data_sources  \\\n",
       "0  [Driver: Driver Load, Drive: Drive Modificatio...   \n",
       "1                  [Internet Scan: Response Content]   \n",
       "2                                                NaN   \n",
       "3  [Driver: Driver Load, Process: OS API Executio...   \n",
       "4                              [File: File Creation]   \n",
       "\n",
       "                  x_mitre_platforms  \n",
       "0  [Linux, macOS, Windows, Network]  \n",
       "1                             [PRE]  \n",
       "2                             [PRE]  \n",
       "3  [Windows, macOS, Linux, Network]  \n",
       "4           [Linux, macOS, Windows]  "
      ]
     },
     "execution_count": 8,
     "metadata": {},
     "output_type": "execute_result"
    }
   ],
   "source": [
    "techniques = []\n",
    "for t in enterprise['techniques']:\n",
    "    techniques.append(json.loads(t.serialize()))\n",
    "df = pandas.json_normalize(techniques)\n",
    "df.reindex(['created','name', 'x_mitre_data_sources', 'x_mitre_platforms'], axis=1)[0:5]"
   ]
  },
  {
   "cell_type": "markdown",
   "metadata": {},
   "source": [
    "## Collect Enterprise Techniques\n",
    "Rather than collecting all STIX objects from `enterprise` and filtering on only `techniques`, we can use the following function to retrieve only techniques from ATT&CK TAXII server. "
   ]
  },
  {
   "cell_type": "code",
   "execution_count": 9,
   "metadata": {},
   "outputs": [],
   "source": [
    "enterprise_techniques = lift.get_enterprise_techniques()"
   ]
  },
  {
   "cell_type": "code",
   "execution_count": 10,
   "metadata": {},
   "outputs": [
    {
     "name": "stdout",
     "output_type": "stream",
     "text": [
      "Number of Techniques in Enterprise ATT&CK\n"
     ]
    },
    {
     "data": {
      "text/plain": [
       "656"
      ]
     },
     "execution_count": 10,
     "metadata": {},
     "output_type": "execute_result"
    }
   ],
   "source": [
    "print(\"Number of Techniques in Enterprise ATT&CK\")\n",
    "len(enterprise_techniques)"
   ]
  },
  {
   "cell_type": "code",
   "execution_count": 11,
   "metadata": {},
   "outputs": [
    {
     "data": {
      "text/plain": [
       "AttackPattern(type='attack-pattern', spec_version='2.1', id='attack-pattern--0af0ca99-357d-4ba1-805f-674fdfb7bef9', created_by_ref='identity--c78cb6e5-0c4b-4611-8297-d1b8b55e40b5', created='2020-02-20T22:10:20.484Z', modified='2024-10-15T16:32:05.064Z', name='Disk Structure Wipe', description='Adversaries may corrupt or wipe the disk data structures on a hard drive necessary to boot a system; targeting specific critical systems or in large numbers in a network to interrupt availability to system and network resources. \\n\\nAdversaries may attempt to render the system unable to boot by overwriting critical data located in structures such as the master boot record (MBR) or partition table.(Citation: Symantec Shamoon 2012)(Citation: FireEye Shamoon Nov 2016)(Citation: Palo Alto Shamoon Nov 2016)(Citation: Kaspersky StoneDrill 2017)(Citation: Unit 42 Shamoon3 2018) The data contained in disk structures may include the initial executable code for loading an operating system or the location of the file system partitions on disk. If this information is not present, the computer will not be able to load an operating system during the boot process, leaving the computer unavailable. [Disk Structure Wipe](https://attack.mitre.org/techniques/T1561/002) may be performed in isolation, or along with [Disk Content Wipe](https://attack.mitre.org/techniques/T1561/001) if all sectors of a disk are wiped.\\n\\nOn a network devices, adversaries may reformat the file system using [Network Device CLI](https://attack.mitre.org/techniques/T1059/008) commands such as `format`.(Citation: format_cmd_cisco)\\n\\nTo maximize impact on the target organization, malware designed for destroying disk structures may have worm-like features to propagate across a network by leveraging other techniques like [Valid Accounts](https://attack.mitre.org/techniques/T1078), [OS Credential Dumping](https://attack.mitre.org/techniques/T1003), and [SMB/Windows Admin Shares](https://attack.mitre.org/techniques/T1021/002).(Citation: Symantec Shamoon 2012)(Citation: FireEye Shamoon Nov 2016)(Citation: Palo Alto Shamoon Nov 2016)(Citation: Kaspersky StoneDrill 2017)', kill_chain_phases=[KillChainPhase(kill_chain_name='mitre-attack', phase_name='impact')], revoked=False, external_references=[ExternalReference(source_name='mitre-attack', url='https://attack.mitre.org/techniques/T1561/002', external_id='T1561.002'), ExternalReference(source_name='format_cmd_cisco', description='Cisco. (2022, August 16). format - Cisco IOS Configuration Fundamentals Command Reference. Retrieved July 13, 2022.', url='https://www.cisco.com/c/en/us/td/docs/ios-xml/ios/fundamentals/command/cf_command_ref/F_through_K.html#wp2829794668'), ExternalReference(source_name='Unit 42 Shamoon3 2018', description='Falcone, R. (2018, December 13). Shamoon 3 Targets Oil and Gas Organization. Retrieved March 14, 2019.', url='https://unit42.paloaltonetworks.com/shamoon-3-targets-oil-gas-organization/'), ExternalReference(source_name='Palo Alto Shamoon Nov 2016', description='Falcone, R.. (2016, November 30). Shamoon 2: Return of the Disttrack Wiper. Retrieved January 11, 2017.', url='http://researchcenter.paloaltonetworks.com/2016/11/unit42-shamoon-2-return-disttrack-wiper/'), ExternalReference(source_name='FireEye Shamoon Nov 2016', description='FireEye. (2016, November 30). FireEye Responds to Wave of Destructive Cyber Attacks in Gulf Region. Retrieved January 11, 2017.', url='https://www.fireeye.com/blog/threat-research/2016/11/fireeye_respondsto.html'), ExternalReference(source_name='Kaspersky StoneDrill 2017', description='Kaspersky Lab. (2017, March 7). From Shamoon to StoneDrill: Wipers attacking Saudi organizations and beyond. Retrieved March 14, 2019.', url='https://media.kasperskycontenthub.com/wp-content/uploads/sites/43/2018/03/07180722/Report_Shamoon_StoneDrill_final.pdf'), ExternalReference(source_name='Microsoft Sysmon v6 May 2017', description='Russinovich, M. & Garnier, T. (2017, May 22). Sysmon v6.20. Retrieved December 13, 2017.', url='https://docs.microsoft.com/sysinternals/downloads/sysmon'), ExternalReference(source_name='Symantec Shamoon 2012', description='Symantec. (2012, August 16). The Shamoon Attacks. Retrieved March 14, 2019.', url='https://www.symantec.com/connect/blogs/shamoon-attacks')], object_marking_refs=['marking-definition--fa42a846-8d90-4e51-bc29-71d5b4802168'], x_mitre_attack_spec_version='3.2.0', x_mitre_contributors=['Austin Clark, @c2defense'], x_mitre_data_sources=['Driver: Driver Load', 'Drive: Drive Modification', 'Drive: Drive Access', 'Command: Command Execution', 'Process: Process Creation'], x_mitre_deprecated=False, x_mitre_detection='Look for attempts to read/write to sensitive locations like the master boot record and the disk partition table. Monitor for direct access read/write attempts using the <code>\\\\\\\\\\\\\\\\.\\\\\\\\</code> notation.(Citation: Microsoft Sysmon v6 May 2017) Monitor for unusual kernel driver installation activity.\\n\\nFor network infrastructure devices, collect AAA logging to monitor for `format` commands being run to erase the file structure and prevent recovery of the device.', x_mitre_domains=['enterprise-attack'], x_mitre_impact_type=['Availability'], x_mitre_is_subtechnique=True, x_mitre_modified_by_ref='identity--c78cb6e5-0c4b-4611-8297-d1b8b55e40b5', x_mitre_platforms=['Linux', 'macOS', 'Windows', 'Network'], x_mitre_version='1.1')"
      ]
     },
     "execution_count": 11,
     "metadata": {},
     "output_type": "execute_result"
    }
   ],
   "source": [
    "enterprise_techniques[0]"
   ]
  },
  {
   "cell_type": "code",
   "execution_count": 12,
   "metadata": {},
   "outputs": [
    {
     "data": {
      "text/html": [
       "<div>\n",
       "<style scoped>\n",
       "    .dataframe tbody tr th:only-of-type {\n",
       "        vertical-align: middle;\n",
       "    }\n",
       "\n",
       "    .dataframe tbody tr th {\n",
       "        vertical-align: top;\n",
       "    }\n",
       "\n",
       "    .dataframe thead th {\n",
       "        text-align: right;\n",
       "    }\n",
       "</style>\n",
       "<table border=\"1\" class=\"dataframe\">\n",
       "  <thead>\n",
       "    <tr style=\"text-align: right;\">\n",
       "      <th></th>\n",
       "      <th>created</th>\n",
       "      <th>name</th>\n",
       "      <th>x_mitre_data_sources</th>\n",
       "      <th>x_mitre_platforms</th>\n",
       "    </tr>\n",
       "  </thead>\n",
       "  <tbody>\n",
       "    <tr>\n",
       "      <th>0</th>\n",
       "      <td>2020-02-20T22:10:20.484Z</td>\n",
       "      <td>Disk Structure Wipe</td>\n",
       "      <td>[Driver: Driver Load, Drive: Drive Modificatio...</td>\n",
       "      <td>[Linux, macOS, Windows, Network]</td>\n",
       "    </tr>\n",
       "    <tr>\n",
       "      <th>1</th>\n",
       "      <td>2020-10-02T16:39:33.966Z</td>\n",
       "      <td>Gather Victim Host Information</td>\n",
       "      <td>[Internet Scan: Response Content]</td>\n",
       "      <td>[PRE]</td>\n",
       "    </tr>\n",
       "    <tr>\n",
       "      <th>2</th>\n",
       "      <td>2020-10-02T16:58:58.738Z</td>\n",
       "      <td>Digital Certificates</td>\n",
       "      <td>NaN</td>\n",
       "      <td>[PRE]</td>\n",
       "    </tr>\n",
       "    <tr>\n",
       "      <th>3</th>\n",
       "      <td>2020-02-11T18:58:11.791Z</td>\n",
       "      <td>Keylogging</td>\n",
       "      <td>[Driver: Driver Load, Process: OS API Executio...</td>\n",
       "      <td>[Windows, macOS, Linux, Network]</td>\n",
       "    </tr>\n",
       "    <tr>\n",
       "      <th>4</th>\n",
       "      <td>2024-03-29T16:59:10.374Z</td>\n",
       "      <td>File/Path Exclusions</td>\n",
       "      <td>[File: File Creation]</td>\n",
       "      <td>[Linux, macOS, Windows]</td>\n",
       "    </tr>\n",
       "  </tbody>\n",
       "</table>\n",
       "</div>"
      ],
      "text/plain": [
       "                    created                            name  \\\n",
       "0  2020-02-20T22:10:20.484Z             Disk Structure Wipe   \n",
       "1  2020-10-02T16:39:33.966Z  Gather Victim Host Information   \n",
       "2  2020-10-02T16:58:58.738Z            Digital Certificates   \n",
       "3  2020-02-11T18:58:11.791Z                      Keylogging   \n",
       "4  2024-03-29T16:59:10.374Z            File/Path Exclusions   \n",
       "\n",
       "                                x_mitre_data_sources  \\\n",
       "0  [Driver: Driver Load, Drive: Drive Modificatio...   \n",
       "1                  [Internet Scan: Response Content]   \n",
       "2                                                NaN   \n",
       "3  [Driver: Driver Load, Process: OS API Executio...   \n",
       "4                              [File: File Creation]   \n",
       "\n",
       "                  x_mitre_platforms  \n",
       "0  [Linux, macOS, Windows, Network]  \n",
       "1                             [PRE]  \n",
       "2                             [PRE]  \n",
       "3  [Windows, macOS, Linux, Network]  \n",
       "4           [Linux, macOS, Windows]  "
      ]
     },
     "execution_count": 12,
     "metadata": {},
     "output_type": "execute_result"
    }
   ],
   "source": [
    "techniques = []\n",
    "for t in enterprise_techniques:\n",
    "    techniques.append(json.loads(t.serialize()))\n",
    "df = pandas.json_normalize(techniques)\n",
    "df.reindex(['created','name', 'x_mitre_data_sources', 'x_mitre_platforms'], axis=1)[0:5]"
   ]
  },
  {
   "cell_type": "markdown",
   "metadata": {},
   "source": [
    "## Collect Enterprise Mitigations"
   ]
  },
  {
   "cell_type": "code",
   "execution_count": 13,
   "metadata": {},
   "outputs": [],
   "source": [
    "enterprise_mitigations = lift.get_enterprise_mitigations()"
   ]
  },
  {
   "cell_type": "code",
   "execution_count": 14,
   "metadata": {},
   "outputs": [
    {
     "name": "stdout",
     "output_type": "stream",
     "text": [
      "Number of Mitigations in Enterprise ATT&CK\n"
     ]
    },
    {
     "data": {
      "text/plain": [
       "285"
      ]
     },
     "execution_count": 14,
     "metadata": {},
     "output_type": "execute_result"
    }
   ],
   "source": [
    "print(\"Number of Mitigations in Enterprise ATT&CK\")\n",
    "len(enterprise_mitigations)"
   ]
  },
  {
   "cell_type": "code",
   "execution_count": 15,
   "metadata": {},
   "outputs": [
    {
     "data": {
      "text/plain": [
       "CourseOfAction(type='course-of-action', spec_version='2.1', id='course-of-action--cfc2d2fc-14ff-495f-bd99-585be47b804f', created_by_ref='identity--c78cb6e5-0c4b-4611-8297-d1b8b55e40b5', created='2018-10-17T00:14:20.652Z', modified='2019-07-24T14:32:52.325Z', name='Application Shimming Mitigation', description='There currently aren\\'t a lot of ways to mitigate application shimming. Disabling the Shim Engine isn\\'t recommended because Windows depends on shimming for interoperability and software may become unstable or not work. Microsoft released an optional patch update - KB3045645 - that will remove the \"auto-elevate\" flag within the sdbinst.exe. This will prevent use of application shimming to bypass UAC. \\n\\nChanging UAC settings to \"Always Notify\" will give the user more visibility when UAC elevation is requested, however, this option will not be popular among users due to the constant UAC interruptions.', revoked=False, external_references=[ExternalReference(source_name='mitre-attack', url='https://attack.mitre.org/mitigations/T1138', external_id='T1138')], object_marking_refs=['marking-definition--fa42a846-8d90-4e51-bc29-71d5b4802168'], x_mitre_attack_spec_version='2.1.0', x_mitre_deprecated=True, x_mitre_domains=['enterprise-attack'], x_mitre_modified_by_ref='identity--c78cb6e5-0c4b-4611-8297-d1b8b55e40b5', x_mitre_version='1.0')"
      ]
     },
     "execution_count": 15,
     "metadata": {},
     "output_type": "execute_result"
    }
   ],
   "source": [
    "enterprise_mitigations[0]"
   ]
  },
  {
   "cell_type": "markdown",
   "metadata": {},
   "source": [
    "## Collect Enterprise Groups"
   ]
  },
  {
   "cell_type": "code",
   "execution_count": 16,
   "metadata": {},
   "outputs": [],
   "source": [
    "enterprise_groups = lift.get_enterprise_groups()"
   ]
  },
  {
   "cell_type": "code",
   "execution_count": 17,
   "metadata": {},
   "outputs": [
    {
     "name": "stdout",
     "output_type": "stream",
     "text": [
      "Number of Groups in Enterprise ATT&CK\n"
     ]
    },
    {
     "data": {
      "text/plain": [
       "160"
      ]
     },
     "execution_count": 17,
     "metadata": {},
     "output_type": "execute_result"
    }
   ],
   "source": [
    "print(\"Number of Groups in Enterprise ATT&CK\")\n",
    "len(enterprise_groups)"
   ]
  },
  {
   "cell_type": "code",
   "execution_count": 18,
   "metadata": {},
   "outputs": [
    {
     "data": {
      "text/plain": [
       "IntrusionSet(type='intrusion-set', spec_version='2.1', id='intrusion-set--2e5d3a83-fe00-41a5-9b60-237efc84832f', created_by_ref='identity--c78cb6e5-0c4b-4611-8297-d1b8b55e40b5', created='2017-05-31T21:31:46.025Z', modified='2022-04-25T14:00:00.188Z', name='Moafee', description='[Moafee](https://attack.mitre.org/groups/G0002) is a threat group that appears to operate from the Guandong Province of China. Due to overlapping TTPs, including similar custom tools, Moafee is thought to have a direct or indirect relationship with the threat group [DragonOK](https://attack.mitre.org/groups/G0017). (Citation: Haq 2014)', aliases=['Moafee'], revoked=False, external_references=[ExternalReference(source_name='mitre-attack', url='https://attack.mitre.org/groups/G0002', external_id='G0002'), ExternalReference(source_name='Moafee', description='(Citation: Haq 2014)'), ExternalReference(source_name='Haq 2014', description='Haq, T., Moran, N., Scott, M., & Vashisht, S. O. (2014, September 10). The Path to Mass-Producing Cyber Attacks &#91;Blog&#93;. Retrieved November 12, 2014.', url='https://www.fireeye.com/blog/threat-research/2014/09/the-path-to-mass-producing-cyber-attacks.html')], object_marking_refs=['marking-definition--fa42a846-8d90-4e51-bc29-71d5b4802168'], x_mitre_attack_spec_version='2.1.0', x_mitre_domains=['enterprise-attack'], x_mitre_modified_by_ref='identity--c78cb6e5-0c4b-4611-8297-d1b8b55e40b5', x_mitre_version='1.1')"
      ]
     },
     "execution_count": 18,
     "metadata": {},
     "output_type": "execute_result"
    }
   ],
   "source": [
    "enterprise_groups[0]"
   ]
  },
  {
   "cell_type": "markdown",
   "metadata": {},
   "source": [
    "## Collect Enterprise Malware"
   ]
  },
  {
   "cell_type": "code",
   "execution_count": 19,
   "metadata": {},
   "outputs": [],
   "source": [
    "enterprise_malware = lift.get_enterprise_malware()"
   ]
  },
  {
   "cell_type": "code",
   "execution_count": 20,
   "metadata": {},
   "outputs": [
    {
     "name": "stdout",
     "output_type": "stream",
     "text": [
      "Number of Malware in Enterprise ATT&CK\n"
     ]
    },
    {
     "data": {
      "text/plain": [
       "626"
      ]
     },
     "execution_count": 20,
     "metadata": {},
     "output_type": "execute_result"
    }
   ],
   "source": [
    "print(\"Number of Malware in Enterprise ATT&CK\")\n",
    "len(enterprise_malware)"
   ]
  },
  {
   "cell_type": "code",
   "execution_count": 21,
   "metadata": {},
   "outputs": [
    {
     "data": {
      "text/plain": [
       "Malware(type='malware', spec_version='2.1', id='malware--310f437b-29e7-4844-848c-7220868d074a', created_by_ref='identity--c78cb6e5-0c4b-4611-8297-d1b8b55e40b5', created='2018-04-18T17:59:24.739Z', modified='2024-09-05T19:17:05.706Z', name='Darkmoon', description='', is_family=True, revoked=True, external_references=[ExternalReference(source_name='mitre-attack', url='https://attack.mitre.org/software/S0209', external_id='S0209')], object_marking_refs=['marking-definition--fa42a846-8d90-4e51-bc29-71d5b4802168'], x_mitre_aliases=['Darkmoon'], x_mitre_attack_spec_version='3.2.0', x_mitre_deprecated=False, x_mitre_domains=['enterprise-attack'], x_mitre_modified_by_ref='identity--c78cb6e5-0c4b-4611-8297-d1b8b55e40b5', x_mitre_version='1.0')"
      ]
     },
     "execution_count": 21,
     "metadata": {},
     "output_type": "execute_result"
    }
   ],
   "source": [
    "enterprise_malware[0]"
   ]
  },
  {
   "cell_type": "markdown",
   "metadata": {},
   "source": [
    "## Collect Enterprise Tools"
   ]
  },
  {
   "cell_type": "code",
   "execution_count": 22,
   "metadata": {},
   "outputs": [],
   "source": [
    "enterprise_tools = lift.get_enterprise_tools()"
   ]
  },
  {
   "cell_type": "code",
   "execution_count": 23,
   "metadata": {},
   "outputs": [
    {
     "name": "stdout",
     "output_type": "stream",
     "text": [
      "Number of Tools in Enterprise ATT&CK\n"
     ]
    },
    {
     "data": {
      "text/plain": [
       "89"
      ]
     },
     "execution_count": 23,
     "metadata": {},
     "output_type": "execute_result"
    }
   ],
   "source": [
    "print(\"Number of Tools in Enterprise ATT&CK\")\n",
    "len(enterprise_tools)"
   ]
  },
  {
   "cell_type": "code",
   "execution_count": 24,
   "metadata": {},
   "outputs": [
    {
     "data": {
      "text/plain": [
       "Tool(type='tool', spec_version='2.1', id='tool--102c3898-85e0-43ee-ae28-62a0a3ed9507', created_by_ref='identity--c78cb6e5-0c4b-4611-8297-d1b8b55e40b5', created='2017-05-31T21:33:09.047Z', modified='2022-04-25T14:00:00.188Z', name='UACMe', description='[UACMe](https://attack.mitre.org/software/S0116) is an open source assessment tool that contains many methods for bypassing Windows User Account Control on multiple versions of the operating system. (Citation: Github UACMe)', revoked=False, external_references=[ExternalReference(source_name='mitre-attack', url='https://attack.mitre.org/software/S0116', external_id='S0116'), ExternalReference(source_name='Github UACMe', description='UACME Project. (2016, June 16). UACMe. Retrieved July 26, 2016.', url='https://github.com/hfiref0x/UACME')], object_marking_refs=['marking-definition--fa42a846-8d90-4e51-bc29-71d5b4802168'], x_mitre_attack_spec_version='2.1.0', x_mitre_domains=['enterprise-attack'], x_mitre_modified_by_ref='identity--c78cb6e5-0c4b-4611-8297-d1b8b55e40b5', x_mitre_version='1.0')"
      ]
     },
     "execution_count": 24,
     "metadata": {},
     "output_type": "execute_result"
    }
   ],
   "source": [
    "enterprise_tools[0]"
   ]
  },
  {
   "cell_type": "markdown",
   "metadata": {},
   "source": [
    "## Collect Enterprise Relationships"
   ]
  },
  {
   "cell_type": "code",
   "execution_count": 25,
   "metadata": {},
   "outputs": [],
   "source": [
    "enterprise_relationships = lift.get_enterprise_relationships()"
   ]
  },
  {
   "cell_type": "code",
   "execution_count": 26,
   "metadata": {},
   "outputs": [
    {
     "name": "stdout",
     "output_type": "stream",
     "text": [
      "Number of Relationships in Enterprise ATT&CK\n"
     ]
    },
    {
     "data": {
      "text/plain": [
       "20731"
      ]
     },
     "execution_count": 26,
     "metadata": {},
     "output_type": "execute_result"
    }
   ],
   "source": [
    "print(\"Number of Relationships in Enterprise ATT&CK\")\n",
    "len(enterprise_relationships)"
   ]
  },
  {
   "cell_type": "code",
   "execution_count": 27,
   "metadata": {},
   "outputs": [
    {
     "data": {
      "text/plain": [
       "Relationship(type='relationship', spec_version='2.1', id='relationship--0005fb3b-274a-4ac1-8fb2-51366fcd1a6b', created_by_ref='identity--c78cb6e5-0c4b-4611-8297-d1b8b55e40b5', created='2023-09-01T21:33:59.394Z', modified='2023-09-01T21:33:59.394Z', relationship_type='mitigates', description='Consider blocking download/transfer and execution of potentially uncommon file types known to be used in adversary campaigns.', source_ref='course-of-action--21da4fd4-27ad-4e9c-b93d-0b9b14d02c96', target_ref='attack-pattern--43c9bc06-715b-42db-972f-52d25c09a20c', revoked=False, object_marking_refs=['marking-definition--fa42a846-8d90-4e51-bc29-71d5b4802168'], x_mitre_attack_spec_version='3.1.0', x_mitre_deprecated=False, x_mitre_modified_by_ref='identity--c78cb6e5-0c4b-4611-8297-d1b8b55e40b5', x_mitre_version='0.1')"
      ]
     },
     "execution_count": 27,
     "metadata": {},
     "output_type": "execute_result"
    }
   ],
   "source": [
    "enterprise_relationships[0]"
   ]
  },
  {
   "cell_type": "markdown",
   "metadata": {},
   "source": [
    "## Collect Enterprise Tactics"
   ]
  },
  {
   "cell_type": "code",
   "execution_count": 28,
   "metadata": {},
   "outputs": [],
   "source": [
    "enterprise_tactics = lift.get_enterprise_tactics()"
   ]
  },
  {
   "cell_type": "code",
   "execution_count": 29,
   "metadata": {},
   "outputs": [
    {
     "name": "stdout",
     "output_type": "stream",
     "text": [
      "Number of Tactics in Enterprise ATT&CK\n"
     ]
    },
    {
     "data": {
      "text/plain": [
       "14"
      ]
     },
     "execution_count": 29,
     "metadata": {},
     "output_type": "execute_result"
    }
   ],
   "source": [
    "print(\"Number of Tactics in Enterprise ATT&CK\")\n",
    "len(enterprise_tactics)"
   ]
  },
  {
   "cell_type": "code",
   "execution_count": 30,
   "metadata": {},
   "outputs": [
    {
     "data": {
      "text/plain": [
       "{'id': 'x-mitre-tactic--c17c5845-175e-4421-9713-829d0573dbc9',\n",
       " 'modified': '2022-04-25T14:00:00.188Z',\n",
       " 'created': '2018-10-17T00:14:20.652Z',\n",
       " 'type': 'x-mitre-tactic',\n",
       " 'spec_version': '2.1',\n",
       " 'name': 'Discovery',\n",
       " 'description': 'The adversary is trying to figure out your environment.\\n\\nDiscovery consists of techniques an adversary may use to gain knowledge about the system and internal network. These techniques help adversaries observe the environment and orient themselves before deciding how to act. They also allow adversaries to explore what they can control and what’s around their entry point in order to discover how it could benefit their current objective. Native operating system tools are often used toward this post-compromise information-gathering objective. ',\n",
       " 'x_mitre_modified_by_ref': 'identity--c78cb6e5-0c4b-4611-8297-d1b8b55e40b5',\n",
       " 'x_mitre_domains': ['enterprise-attack'],\n",
       " 'x_mitre_version': '1.0',\n",
       " 'x_mitre_attack_spec_version': '2.1.0',\n",
       " 'x_mitre_shortname': 'discovery',\n",
       " 'created_by_ref': 'identity--c78cb6e5-0c4b-4611-8297-d1b8b55e40b5',\n",
       " 'external_references': [{'source_name': 'mitre-attack',\n",
       "   'url': 'https://attack.mitre.org/tactics/TA0007',\n",
       "   'external_id': 'TA0007'}],\n",
       " 'object_marking_refs': ['marking-definition--fa42a846-8d90-4e51-bc29-71d5b4802168'],\n",
       " 'x_mitre_contributors': []}"
      ]
     },
     "execution_count": 30,
     "metadata": {},
     "output_type": "execute_result"
    }
   ],
   "source": [
    "enterprise_tactics[0]"
   ]
  },
  {
   "cell_type": "markdown",
   "metadata": {},
   "source": [
    "## Collect Enterprise Data Sources"
   ]
  },
  {
   "cell_type": "code",
   "execution_count": 31,
   "metadata": {},
   "outputs": [],
   "source": [
    "enterprise_data_sources = lift.get_enterprise_data_sources()"
   ]
  },
  {
   "cell_type": "code",
   "execution_count": 32,
   "metadata": {},
   "outputs": [
    {
     "name": "stdout",
     "output_type": "stream",
     "text": [
      "Number of Mitigations in Data Sources ATT&CK\n"
     ]
    },
    {
     "data": {
      "text/plain": [
       "38"
      ]
     },
     "execution_count": 32,
     "metadata": {},
     "output_type": "execute_result"
    }
   ],
   "source": [
    "print(\"Number of Mitigations in Data Sources ATT&CK\")\n",
    "len(enterprise_data_sources)"
   ]
  },
  {
   "cell_type": "code",
   "execution_count": 33,
   "metadata": {},
   "outputs": [
    {
     "data": {
      "text/plain": [
       "{'id': 'x-mitre-data-source--2cd6cc81-d86e-4595-a4f0-43f5519f14e6',\n",
       " 'modified': '2022-04-25T14:00:00.188Z',\n",
       " 'created': '2021-10-20T15:05:19.271Z',\n",
       " 'type': 'x-mitre-data-source',\n",
       " 'spec_version': '2.1',\n",
       " 'name': 'WMI',\n",
       " 'description': 'The infrastructure for management data and operations that enables local and remote management of Windows personal computers and servers(Citation: Microsoft WMI System Classes)(Citation: Microsoft WMI Architecture)',\n",
       " 'x_mitre_modified_by_ref': 'identity--c78cb6e5-0c4b-4611-8297-d1b8b55e40b5',\n",
       " 'x_mitre_platforms': ['Windows'],\n",
       " 'x_mitre_domains': ['enterprise-attack'],\n",
       " 'x_mitre_version': '1.0',\n",
       " 'x_mitre_attack_spec_version': '2.1.0',\n",
       " 'x_mitre_contributors': ['Center for Threat-Informed Defense (CTID)'],\n",
       " 'x_mitre_collection_layers': ['Host'],\n",
       " 'created_by_ref': 'identity--c78cb6e5-0c4b-4611-8297-d1b8b55e40b5',\n",
       " 'external_references': [{'source_name': 'mitre-attack',\n",
       "   'url': 'https://attack.mitre.org/datasources/DS0005',\n",
       "   'external_id': 'DS0005'},\n",
       "  {'source_name': 'Microsoft WMI System Classes',\n",
       "   'description': 'Microsoft. (2018, May 31). WMI System Classes. Retrieved September 29, 2021.',\n",
       "   'url': 'https://docs.microsoft.com/en-us/windows/win32/wmisdk/wmi-system-classes'},\n",
       "  {'source_name': 'Microsoft WMI Architecture',\n",
       "   'description': 'Microsoft. (2018, May 31). WMI Architecture. Retrieved September 29, 2021.',\n",
       "   'url': 'https://docs.microsoft.com/en-us/windows/win32/wmisdk/wmi-architecture'}],\n",
       " 'object_marking_refs': ['marking-definition--fa42a846-8d90-4e51-bc29-71d5b4802168']}"
      ]
     },
     "execution_count": 33,
     "metadata": {},
     "output_type": "execute_result"
    }
   ],
   "source": [
    "enterprise_data_sources[0]"
   ]
  },
  {
   "cell_type": "markdown",
   "metadata": {},
   "source": [
    "You can do the same with other matrices such as `Mobile` and `ICS`"
   ]
  },
  {
   "cell_type": "markdown",
   "metadata": {
    "tags": []
   },
   "source": [
    "## Collect Mobile ATT&CK"
   ]
  },
  {
   "cell_type": "code",
   "execution_count": 34,
   "metadata": {},
   "outputs": [
    {
     "name": "stdout",
     "output_type": "stream",
     "text": [
      "CPU times: user 280 ms, sys: 21.1 ms, total: 301 ms\n",
      "Wall time: 4.64 s\n"
     ]
    }
   ],
   "source": [
    "%time all_mobile = lift.get_mobile()"
   ]
  },
  {
   "cell_type": "code",
   "execution_count": 35,
   "metadata": {},
   "outputs": [
    {
     "data": {
      "text/plain": [
       "dict_keys(['techniques', 'data-component', 'mitigations', 'groups', 'malware', 'tools', 'data-source', 'relationships', 'tactics', 'matrix', 'identity', 'marking-definition', 'campaigns'])"
      ]
     },
     "execution_count": 35,
     "metadata": {},
     "output_type": "execute_result"
    }
   ],
   "source": [
    "all_mobile.keys()"
   ]
  },
  {
   "cell_type": "markdown",
   "metadata": {
    "tags": []
   },
   "source": [
    "## Collect Mobile Techniques"
   ]
  },
  {
   "cell_type": "code",
   "execution_count": 36,
   "metadata": {},
   "outputs": [],
   "source": [
    "mobile_techniques = lift.get_mobile_techniques()"
   ]
  },
  {
   "cell_type": "code",
   "execution_count": 37,
   "metadata": {},
   "outputs": [
    {
     "name": "stdout",
     "output_type": "stream",
     "text": [
      "Number of Techniques in Mobile ATT&CK\n"
     ]
    },
    {
     "data": {
      "text/plain": [
       "119"
      ]
     },
     "execution_count": 37,
     "metadata": {},
     "output_type": "execute_result"
    }
   ],
   "source": [
    "print(\"Number of Techniques in Mobile ATT&CK\")\n",
    "len(mobile_techniques)"
   ]
  },
  {
   "cell_type": "code",
   "execution_count": 38,
   "metadata": {},
   "outputs": [
    {
     "data": {
      "text/html": [
       "<div>\n",
       "<style scoped>\n",
       "    .dataframe tbody tr th:only-of-type {\n",
       "        vertical-align: middle;\n",
       "    }\n",
       "\n",
       "    .dataframe tbody tr th {\n",
       "        vertical-align: top;\n",
       "    }\n",
       "\n",
       "    .dataframe thead th {\n",
       "        text-align: right;\n",
       "    }\n",
       "</style>\n",
       "<table border=\"1\" class=\"dataframe\">\n",
       "  <thead>\n",
       "    <tr style=\"text-align: right;\">\n",
       "      <th></th>\n",
       "      <th>created</th>\n",
       "      <th>name</th>\n",
       "      <th>x_mitre_platforms</th>\n",
       "    </tr>\n",
       "  </thead>\n",
       "  <tbody>\n",
       "    <tr>\n",
       "      <th>0</th>\n",
       "      <td>2020-11-04T16:43:31.619Z</td>\n",
       "      <td>Scheduled Task/Job</td>\n",
       "      <td>[Android, iOS]</td>\n",
       "    </tr>\n",
       "    <tr>\n",
       "      <th>1</th>\n",
       "      <td>2017-10-25T14:48:21.965Z</td>\n",
       "      <td>File and Directory Discovery</td>\n",
       "      <td>[Android, iOS]</td>\n",
       "    </tr>\n",
       "    <tr>\n",
       "      <th>2</th>\n",
       "      <td>2024-02-21T20:44:44.404Z</td>\n",
       "      <td>Wi-Fi Discovery</td>\n",
       "      <td>[Android, iOS]</td>\n",
       "    </tr>\n",
       "    <tr>\n",
       "      <th>3</th>\n",
       "      <td>2022-03-28T19:30:15.556Z</td>\n",
       "      <td>Compromise Hardware Supply Chain</td>\n",
       "      <td>[Android, iOS]</td>\n",
       "    </tr>\n",
       "    <tr>\n",
       "      <th>4</th>\n",
       "      <td>2017-10-25T14:48:19.996Z</td>\n",
       "      <td>Clipboard Data</td>\n",
       "      <td>[Android, iOS]</td>\n",
       "    </tr>\n",
       "  </tbody>\n",
       "</table>\n",
       "</div>"
      ],
      "text/plain": [
       "                    created                              name  \\\n",
       "0  2020-11-04T16:43:31.619Z                Scheduled Task/Job   \n",
       "1  2017-10-25T14:48:21.965Z      File and Directory Discovery   \n",
       "2  2024-02-21T20:44:44.404Z                   Wi-Fi Discovery   \n",
       "3  2022-03-28T19:30:15.556Z  Compromise Hardware Supply Chain   \n",
       "4  2017-10-25T14:48:19.996Z                    Clipboard Data   \n",
       "\n",
       "  x_mitre_platforms  \n",
       "0    [Android, iOS]  \n",
       "1    [Android, iOS]  \n",
       "2    [Android, iOS]  \n",
       "3    [Android, iOS]  \n",
       "4    [Android, iOS]  "
      ]
     },
     "execution_count": 38,
     "metadata": {},
     "output_type": "execute_result"
    }
   ],
   "source": [
    "techniques = []\n",
    "for t in mobile_techniques:\n",
    "    techniques.append(json.loads(t.serialize()))\n",
    "df = pandas.json_normalize(techniques)\n",
    "df.reindex(['created','name', 'x_mitre_platforms'], axis=1)[0:5]"
   ]
  },
  {
   "cell_type": "markdown",
   "metadata": {},
   "source": [
    "## Collect Mobile Mitigations"
   ]
  },
  {
   "cell_type": "code",
   "execution_count": 39,
   "metadata": {},
   "outputs": [],
   "source": [
    "mobile_mitigations = lift.get_mobile_mitigations()"
   ]
  },
  {
   "cell_type": "code",
   "execution_count": 40,
   "metadata": {},
   "outputs": [
    {
     "name": "stdout",
     "output_type": "stream",
     "text": [
      "Number of Mitigations in Mobile ATT&CK\n"
     ]
    },
    {
     "data": {
      "text/plain": [
       "16"
      ]
     },
     "execution_count": 40,
     "metadata": {},
     "output_type": "execute_result"
    }
   ],
   "source": [
    "print(\"Number of Mitigations in Mobile ATT&CK\")\n",
    "len(mobile_mitigations)"
   ]
  },
  {
   "cell_type": "code",
   "execution_count": 41,
   "metadata": {},
   "outputs": [
    {
     "data": {
      "text/plain": [
       "CourseOfAction(type='course-of-action', spec_version='2.1', id='course-of-action--25dc1ce8-eb55-4333-ae30-a7cb4f5894a1', created_by_ref='identity--c78cb6e5-0c4b-4611-8297-d1b8b55e40b5', created='2017-10-25T14:48:53.732Z', modified='2023-09-27T20:18:19.004Z', name='Application Developer Guidance', description='This mitigation describes any guidance or training given to developers of applications to avoid introducing security weaknesses that an adversary may be able to take advantage of.', revoked=False, external_references=[ExternalReference(source_name='mitre-attack', url='https://attack.mitre.org/mitigations/M1013', external_id='M1013')], object_marking_refs=['marking-definition--fa42a846-8d90-4e51-bc29-71d5b4802168'], x_mitre_attack_spec_version='3.2.0', x_mitre_deprecated=False, x_mitre_domains=['enterprise-attack', 'mobile-attack'], x_mitre_modified_by_ref='identity--c78cb6e5-0c4b-4611-8297-d1b8b55e40b5', x_mitre_version='1.1')"
      ]
     },
     "execution_count": 41,
     "metadata": {},
     "output_type": "execute_result"
    }
   ],
   "source": [
    "mobile_mitigations[0]"
   ]
  },
  {
   "cell_type": "markdown",
   "metadata": {},
   "source": [
    "## Collect Mobile Groups"
   ]
  },
  {
   "cell_type": "code",
   "execution_count": 42,
   "metadata": {},
   "outputs": [],
   "source": [
    "mobile_groups = lift.get_mobile_groups()"
   ]
  },
  {
   "cell_type": "code",
   "execution_count": 43,
   "metadata": {},
   "outputs": [
    {
     "name": "stdout",
     "output_type": "stream",
     "text": [
      "Number of Groups in Mobile ATT&CK\n"
     ]
    },
    {
     "data": {
      "text/plain": [
       "13"
      ]
     },
     "execution_count": 43,
     "metadata": {},
     "output_type": "execute_result"
    }
   ],
   "source": [
    "print(\"Number of Groups in Mobile ATT&CK\")\n",
    "len(mobile_groups)"
   ]
  },
  {
   "cell_type": "code",
   "execution_count": 44,
   "metadata": {},
   "outputs": [
    {
     "data": {
      "text/plain": [
       "IntrusionSet(type='intrusion-set', spec_version='2.1', id='intrusion-set--049cef3b-22d5-4be6-b50c-9839c7a34fdd', created_by_ref='identity--c78cb6e5-0c4b-4611-8297-d1b8b55e40b5', created='2020-01-27T16:55:39.688Z', modified='2020-03-26T20:58:44.722Z', name='Bouncing Golf', description='[Bouncing Golf](https://attack.mitre.org/groups/G0097) is a cyberespionage campaign targeting Middle Eastern countries.(Citation: Trend Micro Bouncing Golf 2019)', aliases=['Bouncing Golf'], revoked=False, external_references=[ExternalReference(source_name='mitre-attack', url='https://attack.mitre.org/groups/G0097', external_id='G0097'), ExternalReference(source_name='Trend Micro Bouncing Golf 2019', description='E. Xu, G. Guo. (2019, June 28).  Mobile Cyberespionage Campaign ‘Bouncing Golf’ Affects Middle East. Retrieved January 27, 2020.', url='https://blog.trendmicro.com/trendlabs-security-intelligence/mobile-cyberespionage-campaign-bouncing-golf-affects-middle-east/')], object_marking_refs=['marking-definition--fa42a846-8d90-4e51-bc29-71d5b4802168'], x_mitre_attack_spec_version='2.1.0', x_mitre_domains=['mobile-attack'], x_mitre_modified_by_ref='identity--c78cb6e5-0c4b-4611-8297-d1b8b55e40b5', x_mitre_version='1.0')"
      ]
     },
     "execution_count": 44,
     "metadata": {},
     "output_type": "execute_result"
    }
   ],
   "source": [
    "mobile_groups[0]"
   ]
  },
  {
   "cell_type": "markdown",
   "metadata": {},
   "source": [
    "## Collect Mobile Malware"
   ]
  },
  {
   "cell_type": "code",
   "execution_count": 45,
   "metadata": {},
   "outputs": [],
   "source": [
    "mobile_malware = lift.get_mobile_malware()"
   ]
  },
  {
   "cell_type": "code",
   "execution_count": 46,
   "metadata": {},
   "outputs": [
    {
     "name": "stdout",
     "output_type": "stream",
     "text": [
      "Number of Malware in Mobile ATT&CK\n"
     ]
    },
    {
     "data": {
      "text/plain": [
       "112"
      ]
     },
     "execution_count": 46,
     "metadata": {},
     "output_type": "execute_result"
    }
   ],
   "source": [
    "print(\"Number of Malware in Mobile ATT&CK\")\n",
    "len(mobile_malware)"
   ]
  },
  {
   "cell_type": "code",
   "execution_count": 47,
   "metadata": {},
   "outputs": [
    {
     "data": {
      "text/plain": [
       "Malware(type='malware', spec_version='2.1', id='malware--f666e17c-b290-43b3-8947-b96bd5148fbb', created_by_ref='identity--c78cb6e5-0c4b-4611-8297-d1b8b55e40b5', created='2020-09-11T16:22:02.954Z', modified='2020-09-29T20:03:42.662Z', name='ViperRAT', description='[ViperRAT](https://attack.mitre.org/software/S0506) is sophisticated surveillanceware that has been in operation since at least 2015 and was used to target the Israeli Defense Force.(Citation: Lookout ViperRAT) ', is_family=True, revoked=False, external_references=[ExternalReference(source_name='mitre-attack', url='https://attack.mitre.org/software/S0506', external_id='S0506'), ExternalReference(source_name='Lookout ViperRAT', description='M. Flossman. (2017, February 16). ViperRAT: The mobile APT targeting the Israeli Defense Force that should be on your radar. Retrieved September 11, 2020.', url='https://blog.lookout.com/viperrat-mobile-apt')], object_marking_refs=['marking-definition--fa42a846-8d90-4e51-bc29-71d5b4802168'], x_mitre_aliases=['ViperRAT'], x_mitre_attack_spec_version='2.1.0', x_mitre_domains=['mobile-attack'], x_mitre_modified_by_ref='identity--c78cb6e5-0c4b-4611-8297-d1b8b55e40b5', x_mitre_platforms=['Android'], x_mitre_version='1.0')"
      ]
     },
     "execution_count": 47,
     "metadata": {},
     "output_type": "execute_result"
    }
   ],
   "source": [
    "mobile_malware[0]"
   ]
  },
  {
   "cell_type": "markdown",
   "metadata": {},
   "source": [
    "## Collect Mobile Tools"
   ]
  },
  {
   "cell_type": "code",
   "execution_count": 48,
   "metadata": {},
   "outputs": [],
   "source": [
    "mobile_tools = lift.get_mobile_tools()"
   ]
  },
  {
   "cell_type": "code",
   "execution_count": 49,
   "metadata": {},
   "outputs": [
    {
     "name": "stdout",
     "output_type": "stream",
     "text": [
      "Number of Tools in Mobile ATT&CK\n"
     ]
    },
    {
     "data": {
      "text/plain": [
       "2"
      ]
     },
     "execution_count": 49,
     "metadata": {},
     "output_type": "execute_result"
    }
   ],
   "source": [
    "print(\"Number of Tools in Mobile ATT&CK\")\n",
    "len(mobile_tools)"
   ]
  },
  {
   "cell_type": "code",
   "execution_count": 50,
   "metadata": {},
   "outputs": [
    {
     "data": {
      "text/plain": [
       "Tool(type='tool', spec_version='2.1', id='tool--da21929e-40c0-443d-bdf4-6b60d15448b4', created_by_ref='identity--c78cb6e5-0c4b-4611-8297-d1b8b55e40b5', created='2017-10-25T14:48:48.609Z', modified='2022-10-24T15:09:07.609Z', name='Xbot', description='[Xbot](https://attack.mitre.org/software/S0298) is an Android malware family that was observed in 2016 primarily targeting Android users in Russia and Australia. (Citation: PaloAlto-Xbot)', revoked=False, external_references=[ExternalReference(source_name='mitre-attack', url='https://attack.mitre.org/software/S0298', external_id='S0298'), ExternalReference(source_name='Xbot', description='(Citation: PaloAlto-Xbot)'), ExternalReference(source_name='PaloAlto-Xbot', description='Cong Zheng, Claud Xiao and Zhi Xu. (2016, February 18). New Android Trojan “Xbot” Phishes Credit Cards and Bank Accounts, Encrypts Devices for Ransom. Retrieved December 21, 2016.', url='http://researchcenter.paloaltonetworks.com/2016/02/new-android-trojan-xbot-phishes-credit-cards-and-bank-accounts-encrypts-devices-for-ransom/')], object_marking_refs=['marking-definition--fa42a846-8d90-4e51-bc29-71d5b4802168'], x_mitre_attack_spec_version='2.1.0', x_mitre_domains=['mobile-attack'], x_mitre_modified_by_ref='identity--c78cb6e5-0c4b-4611-8297-d1b8b55e40b5', x_mitre_version='1.0')"
      ]
     },
     "execution_count": 50,
     "metadata": {},
     "output_type": "execute_result"
    }
   ],
   "source": [
    "mobile_tools[0]"
   ]
  },
  {
   "cell_type": "markdown",
   "metadata": {},
   "source": [
    "## Collect Mobile Relationships"
   ]
  },
  {
   "cell_type": "code",
   "execution_count": 51,
   "metadata": {},
   "outputs": [],
   "source": [
    "mobile_relationships = lift.get_mobile_relationships()"
   ]
  },
  {
   "cell_type": "code",
   "execution_count": 52,
   "metadata": {},
   "outputs": [
    {
     "name": "stdout",
     "output_type": "stream",
     "text": [
      "Number of Relationships in Mobile ATT&CK\n"
     ]
    },
    {
     "data": {
      "text/plain": [
       "1981"
      ]
     },
     "execution_count": 52,
     "metadata": {},
     "output_type": "execute_result"
    }
   ],
   "source": [
    "print(\"Number of Relationships in Mobile ATT&CK\")\n",
    "len(mobile_relationships)"
   ]
  },
  {
   "cell_type": "code",
   "execution_count": 53,
   "metadata": {},
   "outputs": [
    {
     "data": {
      "text/plain": [
       "Relationship(type='relationship', spec_version='2.1', id='relationship--23ecc134-0623-45ec-b8b5-52516483bda1', created_by_ref='identity--c78cb6e5-0c4b-4611-8297-d1b8b55e40b5', created='2023-04-14T14:10:04.452Z', modified='2023-04-14T14:10:04.452Z', relationship_type='uses', description='[AbstractEmu](https://attack.mitre.org/software/S1061) has used code abstraction and anti-emulation checks to potentially avoid running while under analysis.(Citation: lookout_abstractemu_1021)', source_ref='malware--2aec175b-4429-4048-8e09-3ef6cbecfc64', target_ref='attack-pattern--27d18e87-8f32-4be1-b456-39b90454360f', revoked=False, external_references=[ExternalReference(source_name='lookout_abstractemu_1021', description='P Shunk, K Balaam. (2021, October 28). Rooting Malware Makes a Comeback: Lookout Discovers Global Campaign. Retrieved February 6, 2023.', url='https://www.lookout.com/blog/lookout-discovers-global-rooting-malware-campaign')], object_marking_refs=['marking-definition--fa42a846-8d90-4e51-bc29-71d5b4802168'], x_mitre_attack_spec_version='3.1.0', x_mitre_deprecated=False, x_mitre_modified_by_ref='identity--c78cb6e5-0c4b-4611-8297-d1b8b55e40b5', x_mitre_version='0.1')"
      ]
     },
     "execution_count": 53,
     "metadata": {},
     "output_type": "execute_result"
    }
   ],
   "source": [
    "mobile_relationships[0]"
   ]
  },
  {
   "cell_type": "markdown",
   "metadata": {},
   "source": [
    "## Collect Mobile Tactics"
   ]
  },
  {
   "cell_type": "code",
   "execution_count": 54,
   "metadata": {},
   "outputs": [],
   "source": [
    "mobile_tactics = lift.get_mobile_tactics()"
   ]
  },
  {
   "cell_type": "code",
   "execution_count": 55,
   "metadata": {},
   "outputs": [
    {
     "name": "stdout",
     "output_type": "stream",
     "text": [
      "Number of Tactics in Mobile ATT&CK\n"
     ]
    },
    {
     "data": {
      "text/plain": [
       "14"
      ]
     },
     "execution_count": 55,
     "metadata": {},
     "output_type": "execute_result"
    }
   ],
   "source": [
    "print(\"Number of Tactics in Mobile ATT&CK\")\n",
    "len(mobile_tactics)"
   ]
  },
  {
   "cell_type": "code",
   "execution_count": 56,
   "metadata": {},
   "outputs": [
    {
     "data": {
      "text/plain": [
       "{'id': 'x-mitre-tactic--e78d7d60-41b5-49b7-b0a9-5c5d4cbabe17',\n",
       " 'modified': '2022-11-07T21:01:36.112Z',\n",
       " 'created': '2018-10-17T00:14:20.652Z',\n",
       " 'type': 'x-mitre-tactic',\n",
       " 'spec_version': '2.1',\n",
       " 'name': 'Remote Service Effects',\n",
       " 'description': 'The adversary is trying to control or monitor the device using remote services.\\n\\nThis category refers to techniques involving remote services, such as vendor-provided cloud services (e.g. Google Drive, Google Find My Device, or Apple iCloud), or enterprise mobility management (EMM)/mobile device management (MDM) services that an adversary may be able to use to fulfill his or her objectives without access to the mobile device itself.',\n",
       " 'x_mitre_modified_by_ref': 'identity--c78cb6e5-0c4b-4611-8297-d1b8b55e40b5',\n",
       " 'x_mitre_deprecated': True,\n",
       " 'x_mitre_domains': ['mobile-attack'],\n",
       " 'x_mitre_version': '1.0',\n",
       " 'x_mitre_attack_spec_version': '3.0.0',\n",
       " 'x_mitre_shortname': 'remote-service-effects',\n",
       " 'created_by_ref': 'identity--c78cb6e5-0c4b-4611-8297-d1b8b55e40b5',\n",
       " 'revoked': False,\n",
       " 'external_references': [{'source_name': 'mitre-attack',\n",
       "   'url': 'https://attack.mitre.org/tactics/TA0039',\n",
       "   'external_id': 'TA0039'}],\n",
       " 'object_marking_refs': ['marking-definition--fa42a846-8d90-4e51-bc29-71d5b4802168'],\n",
       " 'x_mitre_contributors': []}"
      ]
     },
     "execution_count": 56,
     "metadata": {},
     "output_type": "execute_result"
    }
   ],
   "source": [
    "mobile_tactics[0]"
   ]
  },
  {
   "cell_type": "markdown",
   "metadata": {},
   "source": [
    "## Collect ICS ATT&CK"
   ]
  },
  {
   "cell_type": "code",
   "execution_count": 57,
   "metadata": {},
   "outputs": [
    {
     "name": "stdout",
     "output_type": "stream",
     "text": [
      "CPU times: user 268 ms, sys: 25.9 ms, total: 294 ms\n",
      "Wall time: 3.84 s\n"
     ]
    }
   ],
   "source": [
    "%time all_ics = lift.get_ics()"
   ]
  },
  {
   "cell_type": "code",
   "execution_count": 58,
   "metadata": {},
   "outputs": [
    {
     "data": {
      "text/plain": [
       "dict_keys(['techniques', 'data-component', 'mitigations', 'groups', 'malware', 'tools', 'data-source', 'relationships', 'tactics', 'matrix', 'identity', 'marking-definition', 'campaigns'])"
      ]
     },
     "execution_count": 58,
     "metadata": {},
     "output_type": "execute_result"
    }
   ],
   "source": [
    "all_ics.keys()"
   ]
  },
  {
   "cell_type": "markdown",
   "metadata": {
    "tags": []
   },
   "source": [
    "## Collect ICS Techniques"
   ]
  },
  {
   "cell_type": "code",
   "execution_count": 59,
   "metadata": {},
   "outputs": [],
   "source": [
    "ics_techniques = lift.get_ics_techniques()"
   ]
  },
  {
   "cell_type": "code",
   "execution_count": 60,
   "metadata": {},
   "outputs": [
    {
     "name": "stdout",
     "output_type": "stream",
     "text": [
      "Number of Techniques in ICS ATT&CK\n"
     ]
    },
    {
     "data": {
      "text/plain": [
       "119"
      ]
     },
     "execution_count": 60,
     "metadata": {},
     "output_type": "execute_result"
    }
   ],
   "source": [
    "print(\"Number of Techniques in ICS ATT&CK\")\n",
    "len(mobile_techniques)"
   ]
  },
  {
   "cell_type": "code",
   "execution_count": 61,
   "metadata": {},
   "outputs": [
    {
     "data": {
      "text/html": [
       "<div>\n",
       "<style scoped>\n",
       "    .dataframe tbody tr th:only-of-type {\n",
       "        vertical-align: middle;\n",
       "    }\n",
       "\n",
       "    .dataframe tbody tr th {\n",
       "        vertical-align: top;\n",
       "    }\n",
       "\n",
       "    .dataframe thead th {\n",
       "        text-align: right;\n",
       "    }\n",
       "</style>\n",
       "<table border=\"1\" class=\"dataframe\">\n",
       "  <thead>\n",
       "    <tr style=\"text-align: right;\">\n",
       "      <th></th>\n",
       "      <th>created</th>\n",
       "      <th>name</th>\n",
       "      <th>x_mitre_platforms</th>\n",
       "    </tr>\n",
       "  </thead>\n",
       "  <tbody>\n",
       "    <tr>\n",
       "      <th>0</th>\n",
       "      <td>2020-05-21T17:43:26.506Z</td>\n",
       "      <td>Block Command Message</td>\n",
       "      <td>[None]</td>\n",
       "    </tr>\n",
       "    <tr>\n",
       "      <th>1</th>\n",
       "      <td>2020-05-21T17:43:26.506Z</td>\n",
       "      <td>Graphical User Interface</td>\n",
       "      <td>[None]</td>\n",
       "    </tr>\n",
       "    <tr>\n",
       "      <th>2</th>\n",
       "      <td>2020-05-21T17:43:26.506Z</td>\n",
       "      <td>Remote System Discovery</td>\n",
       "      <td>[None]</td>\n",
       "    </tr>\n",
       "    <tr>\n",
       "      <th>3</th>\n",
       "      <td>2021-04-13T12:08:26.506Z</td>\n",
       "      <td>Exploitation for Privilege Escalation</td>\n",
       "      <td>[None]</td>\n",
       "    </tr>\n",
       "    <tr>\n",
       "      <th>4</th>\n",
       "      <td>2020-05-21T17:43:26.506Z</td>\n",
       "      <td>Valid Accounts</td>\n",
       "      <td>[None]</td>\n",
       "    </tr>\n",
       "  </tbody>\n",
       "</table>\n",
       "</div>"
      ],
      "text/plain": [
       "                    created                                   name  \\\n",
       "0  2020-05-21T17:43:26.506Z                  Block Command Message   \n",
       "1  2020-05-21T17:43:26.506Z               Graphical User Interface   \n",
       "2  2020-05-21T17:43:26.506Z                Remote System Discovery   \n",
       "3  2021-04-13T12:08:26.506Z  Exploitation for Privilege Escalation   \n",
       "4  2020-05-21T17:43:26.506Z                         Valid Accounts   \n",
       "\n",
       "  x_mitre_platforms  \n",
       "0            [None]  \n",
       "1            [None]  \n",
       "2            [None]  \n",
       "3            [None]  \n",
       "4            [None]  "
      ]
     },
     "execution_count": 61,
     "metadata": {},
     "output_type": "execute_result"
    }
   ],
   "source": [
    "techniques = []\n",
    "for t in ics_techniques:\n",
    "    techniques.append(json.loads(t.serialize()))\n",
    "df = pandas.json_normalize(techniques)\n",
    "df.reindex(['created','name', 'x_mitre_platforms'], axis=1)[0:5]"
   ]
  },
  {
   "cell_type": "markdown",
   "metadata": {},
   "source": [
    "## Collect ICS Mitigations"
   ]
  },
  {
   "cell_type": "code",
   "execution_count": 62,
   "metadata": {},
   "outputs": [],
   "source": [
    "ics_mitigations = lift.get_ics_mitigations()"
   ]
  },
  {
   "cell_type": "code",
   "execution_count": 63,
   "metadata": {},
   "outputs": [
    {
     "name": "stdout",
     "output_type": "stream",
     "text": [
      "Number of Mitigations in ICS ATT&CK\n"
     ]
    },
    {
     "data": {
      "text/plain": [
       "85"
      ]
     },
     "execution_count": 63,
     "metadata": {},
     "output_type": "execute_result"
    }
   ],
   "source": [
    "print(\"Number of Mitigations in ICS ATT&CK\")\n",
    "len(ics_mitigations)"
   ]
  },
  {
   "cell_type": "code",
   "execution_count": 64,
   "metadata": {},
   "outputs": [
    {
     "data": {
      "text/plain": [
       "CourseOfAction(type='course-of-action', spec_version='2.1', id='course-of-action--11f242bc-3121-438c-84b2-5cbd46a4bb17', created_by_ref='identity--c78cb6e5-0c4b-4611-8297-d1b8b55e40b5', created='2019-06-11T16:33:55.337Z', modified='2023-09-19T21:44:59.425Z', name='Filter Network Traffic', description='Use network appliances to filter ingress or egress traffic and perform protocol-based filtering. Configure software on endpoints to filter network traffic.   Perform inline allow/denylisting of network messages based on the application layer (OSI Layer 7) protocol, especially for automation protocols. Application allowlists are beneficial when there are well-defined communication sequences, types, rates, or patterns needed during expected system operations. Application denylists may be needed if all acceptable communication sequences cannot be defined, but instead a set of known malicious uses can be denied (e.g., excessive communication  attempts, shutdown messages, invalid commands).  Devices performing these functions are often referred to as deep-packet inspection (DPI) firewalls, context-aware firewalls, or firewalls blocking specific automation/SCADA protocol aware firewalls. (Citation: Centre for the Protection of National Infrastructure February 2005)', revoked=False, labels=['IEC 62443-3-3:2013 - SR 5.1', 'IEC 62443-4-2:2019 - CR 5.1', 'NIST SP 800-53 Rev. 5 - AC-3; SC-7'], external_references=[ExternalReference(source_name='mitre-attack', url='https://attack.mitre.org/mitigations/M0937', external_id='M0937'), ExternalReference(source_name='Centre for the Protection of National Infrastructure February 2005', description='Centre for the Protection of National Infrastructure 2005, February FIREWALL DEPLOYMENT FOR SCADA AND PROCESS CONTROL NETWORKS Retrieved. 2020/09/17 ', url='https://www.energy.gov/sites/prod/files/Good%20Practices%20Guide%20for%20Firewall%20Deployment.pdf')], object_marking_refs=['marking-definition--fa42a846-8d90-4e51-bc29-71d5b4802168'], x_mitre_attack_spec_version='3.1.0', x_mitre_deprecated=False, x_mitre_domains=['ics-attack'], x_mitre_modified_by_ref='identity--c78cb6e5-0c4b-4611-8297-d1b8b55e40b5', x_mitre_version='1.0')"
      ]
     },
     "execution_count": 64,
     "metadata": {},
     "output_type": "execute_result"
    }
   ],
   "source": [
    "ics_mitigations[0]"
   ]
  },
  {
   "cell_type": "markdown",
   "metadata": {},
   "source": [
    "## CollectICS Groups"
   ]
  },
  {
   "cell_type": "code",
   "execution_count": 65,
   "metadata": {},
   "outputs": [],
   "source": [
    "ics_groups = lift.get_ics_groups()"
   ]
  },
  {
   "cell_type": "code",
   "execution_count": 66,
   "metadata": {},
   "outputs": [
    {
     "name": "stdout",
     "output_type": "stream",
     "text": [
      "Number of Groups in ICS ATT&CK\n"
     ]
    },
    {
     "data": {
      "text/plain": [
       "15"
      ]
     },
     "execution_count": 66,
     "metadata": {},
     "output_type": "execute_result"
    }
   ],
   "source": [
    "print(\"Number of Groups in ICS ATT&CK\")\n",
    "len(ics_groups)"
   ]
  },
  {
   "cell_type": "code",
   "execution_count": 67,
   "metadata": {},
   "outputs": [
    {
     "data": {
      "text/plain": [
       "IntrusionSet(type='intrusion-set', spec_version='2.1', id='intrusion-set--f29b7c5e-2439-42ad-a86f-9f8984fafae3', created_by_ref='identity--c78cb6e5-0c4b-4611-8297-d1b8b55e40b5', created='2018-10-17T00:14:20.652Z', modified='2024-08-14T15:24:19.141Z', name='HEXANE', description=\"[HEXANE](https://attack.mitre.org/groups/G1001) is a cyber espionage threat group that has targeted oil & gas, telecommunications, aviation, and internet service provider organizations since at least 2017. Targeted companies have been located in the Middle East and Africa, including Israel, Saudi Arabia, Kuwait, Morocco, and Tunisia. [HEXANE](https://attack.mitre.org/groups/G1001)'s TTPs appear similar to [APT33](https://attack.mitre.org/groups/G0064) and [OilRig](https://attack.mitre.org/groups/G0049) but due to differences in victims and tools it is tracked as a separate entity.(Citation: Dragos Hexane)(Citation: Kaspersky Lyceum October 2021)(Citation: ClearSky Siamesekitten August 2021)(Citation: Accenture Lyceum Targets November 2021)\", aliases=['HEXANE', 'Lyceum', 'Siamesekitten', 'Spirlin'], revoked=False, external_references=[ExternalReference(source_name='mitre-attack', url='https://attack.mitre.org/groups/G1001', external_id='G1001'), ExternalReference(source_name='Spirlin', description='(Citation: Accenture Lyceum Targets November 2021)'), ExternalReference(source_name='Siamesekitten', description='(Citation: ClearSky Siamesekitten August 2021)'), ExternalReference(source_name='Lyceum', description='(Citation: SecureWorks August 2019)'), ExternalReference(source_name='Accenture Lyceum Targets November 2021', description='Accenture. (2021, November 9). Who are latest targets of cyber group Lyceum?. Retrieved June 16, 2022.', url='https://www.accenture.com/us-en/blogs/cyber-defense/iran-based-lyceum-campaigns'), ExternalReference(source_name='ClearSky Siamesekitten August 2021', description='ClearSky Cyber Security . (2021, August). New Iranian Espionage Campaign By “Siamesekitten” - Lyceum. Retrieved June 6, 2022.', url='https://www.clearskysec.com/siamesekitten/'), ExternalReference(source_name='Dragos Hexane', description='Dragos. (n.d.). Hexane. Retrieved October 27, 2019.', url='https://dragos.com/resource/hexane/'), ExternalReference(source_name='Kaspersky Lyceum October 2021', description='Kayal, A. et al. (2021, October). LYCEUM REBORN: COUNTERINTELLIGENCE IN THE MIDDLE EAST. Retrieved June 14, 2022.', url='https://vblocalhost.com/uploads/VB2021-Kayal-etal.pdf'), ExternalReference(source_name='SecureWorks August 2019', description='SecureWorks 2019, August 27 LYCEUM Takes Center Stage in Middle East Campaign Retrieved. 2019/11/19 ', url='https://www.secureworks.com/blog/lyceum-takes-center-stage-in-middle-east-campaign')], object_marking_refs=['marking-definition--fa42a846-8d90-4e51-bc29-71d5b4802168'], x_mitre_attack_spec_version='3.2.0', x_mitre_contributors=['Dragos Threat Intelligence', 'Mindaugas Gudzis, BT Security'], x_mitre_deprecated=False, x_mitre_domains=['enterprise-attack', 'ics-attack'], x_mitre_modified_by_ref='identity--c78cb6e5-0c4b-4611-8297-d1b8b55e40b5', x_mitre_version='2.3')"
      ]
     },
     "execution_count": 67,
     "metadata": {},
     "output_type": "execute_result"
    }
   ],
   "source": [
    "ics_groups[0]"
   ]
  },
  {
   "cell_type": "markdown",
   "metadata": {},
   "source": [
    "## Collect ICS Malware"
   ]
  },
  {
   "cell_type": "code",
   "execution_count": 68,
   "metadata": {},
   "outputs": [],
   "source": [
    "ics_malware = lift.get_ics_malware()"
   ]
  },
  {
   "cell_type": "code",
   "execution_count": 69,
   "metadata": {},
   "outputs": [
    {
     "name": "stdout",
     "output_type": "stream",
     "text": [
      "Number of Malware in ICS ATT&CK\n"
     ]
    },
    {
     "data": {
      "text/plain": [
       "29"
      ]
     },
     "execution_count": 69,
     "metadata": {},
     "output_type": "execute_result"
    }
   ],
   "source": [
    "print(\"Number of Malware in ICS ATT&CK\")\n",
    "len(ics_malware)"
   ]
  },
  {
   "cell_type": "code",
   "execution_count": 70,
   "metadata": {},
   "outputs": [
    {
     "data": {
      "text/plain": [
       "Malware(type='malware', spec_version='2.1', id='malware--58eddbaf-7416-419a-ad7b-e65b9d4c3b55', created_by_ref='identity--c78cb6e5-0c4b-4611-8297-d1b8b55e40b5', created='2021-02-23T20:50:32.845Z', modified='2023-03-08T22:15:47.458Z', name='Conficker', description='[Conficker](https://attack.mitre.org/software/S0608) is a computer worm first detected in October 2008 that targeted Microsoft Windows using the MS08-067 Windows vulnerability to spread.(Citation: SANS Conficker) In 2016, a variant of [Conficker](https://attack.mitre.org/software/S0608) made its way on computers and removable disk drives belonging to a nuclear power plant.(Citation: Conficker Nuclear Power Plant)', is_family=True, revoked=False, external_references=[ExternalReference(source_name='mitre-attack', url='https://attack.mitre.org/software/S0608', external_id='S0608'), ExternalReference(source_name='Kido', description='(Citation: SANS Conficker) '), ExternalReference(source_name='Downadup', description='(Citation: SANS Conficker) '), ExternalReference(source_name='SANS Conficker', description='Burton, K. (n.d.). The Conficker Worm. Retrieved February 18, 2021.', url='https://web.archive.org/web/20200125132645/https://www.sans.org/security-resources/malwarefaq/conficker-worm'), ExternalReference(source_name='Conficker Nuclear Power Plant', description=\"Cimpanu, C. (2016, April 26). Malware Shuts Down German Nuclear Power Plant on Chernobyl's 30th Anniversary. Retrieved February 18, 2021.\", url='https://news.softpedia.com/news/on-chernobyl-s-30th-anniversary-malware-shuts-down-german-nuclear-power-plant-503429.shtml')], object_marking_refs=['marking-definition--fa42a846-8d90-4e51-bc29-71d5b4802168'], x_mitre_aliases=['Conficker', 'Kido', 'Downadup'], x_mitre_attack_spec_version='3.1.0', x_mitre_deprecated=False, x_mitre_domains=['enterprise-attack', 'ics-attack'], x_mitre_modified_by_ref='identity--c78cb6e5-0c4b-4611-8297-d1b8b55e40b5', x_mitre_platforms=['Windows'], x_mitre_version='1.0')"
      ]
     },
     "execution_count": 70,
     "metadata": {},
     "output_type": "execute_result"
    }
   ],
   "source": [
    "ics_malware[0]"
   ]
  },
  {
   "cell_type": "markdown",
   "metadata": {},
   "source": [
    "## Collect ICS Relationships"
   ]
  },
  {
   "cell_type": "code",
   "execution_count": 71,
   "metadata": {},
   "outputs": [],
   "source": [
    "ics_relationships = lift.get_ics_relationships()"
   ]
  },
  {
   "cell_type": "code",
   "execution_count": 72,
   "metadata": {},
   "outputs": [
    {
     "name": "stdout",
     "output_type": "stream",
     "text": [
      "Number of Relationships in ICS ATT&CK\n"
     ]
    },
    {
     "data": {
      "text/plain": [
       "1555"
      ]
     },
     "execution_count": 72,
     "metadata": {},
     "output_type": "execute_result"
    }
   ],
   "source": [
    "print(\"Number of Relationships in ICS ATT&CK\")\n",
    "len(ics_relationships)"
   ]
  },
  {
   "cell_type": "code",
   "execution_count": 73,
   "metadata": {},
   "outputs": [
    {
     "data": {
      "text/plain": [
       "Relationship(type='relationship', spec_version='2.1', id='relationship--ae7487f1-a2d0-443d-b418-cd726c5ac15f', created_by_ref='identity--c78cb6e5-0c4b-4611-8297-d1b8b55e40b5', created='2020-09-21T17:59:24.739Z', modified='2022-05-06T17:47:24.167Z', relationship_type='mitigates', description='Network connection enumeration is likely obtained by using common system tools (e.g., netstat, ipconfig).\\n', source_ref='course-of-action--469b78dd-a54d-4f7c-8c3b-4a1dd916b433', target_ref='attack-pattern--ea0c980c-5cf0-43a7-a049-59c4c207566e', revoked=False, object_marking_refs=['marking-definition--fa42a846-8d90-4e51-bc29-71d5b4802168'], x_mitre_attack_spec_version='2.1.0', x_mitre_modified_by_ref='identity--c78cb6e5-0c4b-4611-8297-d1b8b55e40b5', x_mitre_version='1.0')"
      ]
     },
     "execution_count": 73,
     "metadata": {},
     "output_type": "execute_result"
    }
   ],
   "source": [
    "ics_relationships[0]"
   ]
  },
  {
   "cell_type": "markdown",
   "metadata": {},
   "source": [
    "## Collect ICS Tactics"
   ]
  },
  {
   "cell_type": "code",
   "execution_count": 74,
   "metadata": {},
   "outputs": [],
   "source": [
    "ics_tactics = lift.get_ics_tactics()"
   ]
  },
  {
   "cell_type": "code",
   "execution_count": 75,
   "metadata": {},
   "outputs": [
    {
     "name": "stdout",
     "output_type": "stream",
     "text": [
      "Number of Tactics in ICS ATT&CK\n"
     ]
    },
    {
     "data": {
      "text/plain": [
       "12"
      ]
     },
     "execution_count": 75,
     "metadata": {},
     "output_type": "execute_result"
    }
   ],
   "source": [
    "print(\"Number of Tactics in ICS ATT&CK\")\n",
    "len(ics_tactics)"
   ]
  },
  {
   "cell_type": "code",
   "execution_count": 76,
   "metadata": {},
   "outputs": [
    {
     "data": {
      "text/plain": [
       "{'id': 'x-mitre-tactic--ff048b6c-b872-4218-b68c-3735ebd1f024',\n",
       " 'modified': '2023-03-08T22:15:17.020Z',\n",
       " 'created': '2018-10-17T00:14:20.652Z',\n",
       " 'type': 'x-mitre-tactic',\n",
       " 'spec_version': '2.1',\n",
       " 'name': 'Impair Process Control',\n",
       " 'description': 'The adversary is trying to manipulate, disable, or damage physical control processes.\\n\\nImpair Process Control consists of techniques that adversaries use to disrupt control logic and cause determinantal effects to processes being controlled in the target environment. Targets of interest may include active procedures or parameters that manipulate the physical environment. These techniques can also include prevention or manipulation of reporting elements and control logic. If an adversary has modified process functionality, then they may also obfuscate the results, which are often self-revealing in their impact on the outcome of a product or the environment. The direct physical control these techniques exert may also threaten the safety of operators and downstream users, which can prompt response mechanisms. Adversaries may follow up with or use [Inhibit Response Function](https://attack.mitre.org/tactics/TA0107) techniques in tandem, to assist with the successful abuse of control processes to result in [Impact](https://attack.mitre.org/tactics/TA0105).',\n",
       " 'x_mitre_modified_by_ref': 'identity--c78cb6e5-0c4b-4611-8297-d1b8b55e40b5',\n",
       " 'x_mitre_deprecated': False,\n",
       " 'x_mitre_domains': ['ics-attack'],\n",
       " 'x_mitre_version': '1.0',\n",
       " 'x_mitre_attack_spec_version': '3.1.0',\n",
       " 'x_mitre_shortname': 'impair-process-control',\n",
       " 'created_by_ref': 'identity--c78cb6e5-0c4b-4611-8297-d1b8b55e40b5',\n",
       " 'revoked': False,\n",
       " 'external_references': [{'source_name': 'mitre-attack',\n",
       "   'url': 'https://attack.mitre.org/tactics/TA0106',\n",
       "   'external_id': 'TA0106'}],\n",
       " 'object_marking_refs': ['marking-definition--fa42a846-8d90-4e51-bc29-71d5b4802168'],\n",
       " 'x_mitre_contributors': []}"
      ]
     },
     "execution_count": 76,
     "metadata": {},
     "output_type": "execute_result"
    }
   ],
   "source": [
    "ics_tactics[0]"
   ]
  },
  {
   "cell_type": "code",
   "execution_count": null,
   "metadata": {},
   "outputs": [],
   "source": []
  }
 ],
 "metadata": {
  "kernelspec": {
   "display_name": ".venv",
   "language": "python",
   "name": "python3"
  },
  "language_info": {
   "codemirror_mode": {
    "name": "ipython",
    "version": 3
   },
   "file_extension": ".py",
   "mimetype": "text/x-python",
   "name": "python",
   "nbconvert_exporter": "python",
   "pygments_lexer": "ipython3",
   "version": "3.13.0"
  }
 },
 "nbformat": 4,
 "nbformat_minor": 4
}
