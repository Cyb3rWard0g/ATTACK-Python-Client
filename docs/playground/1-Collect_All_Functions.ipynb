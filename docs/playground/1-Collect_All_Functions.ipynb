{
 "cells": [
  {
   "cell_type": "markdown",
   "metadata": {},
   "source": [
    "# Collect All Functions\n",
    "------------------\n",
    "This project comes with functions that collect all STIX objects from all ATT&CK Matrices at once. These functions help collect more with less API call requests."
   ]
  },
  {
   "cell_type": "markdown",
   "metadata": {},
   "source": [
    "## Import ATTACK API Client"
   ]
  },
  {
   "cell_type": "code",
   "execution_count": 1,
   "metadata": {},
   "outputs": [],
   "source": [
    "from attackcti import attack_client"
   ]
  },
  {
   "cell_type": "markdown",
   "metadata": {},
   "source": [
    "## Import Extra Libraries"
   ]
  },
  {
   "cell_type": "code",
   "execution_count": 7,
   "metadata": {},
   "outputs": [],
   "source": [
    "import pandas\n",
    "import json"
   ]
  },
  {
   "cell_type": "markdown",
   "metadata": {},
   "source": [
    "## Initialize ATT&CK Client Variable"
   ]
  },
  {
   "cell_type": "code",
   "execution_count": 2,
   "metadata": {},
   "outputs": [],
   "source": [
    "lift = attack_client()"
   ]
  },
  {
   "cell_type": "markdown",
   "metadata": {
    "tags": []
   },
   "source": [
    "## Get All Techniques\n",
    "We can extract all STIX objects of type `attack-pattern` (technique) across all ATT&CK matrices.\n",
    "* By default, this function removes `deprecated` and `revoked` techniques. If you want to keep those techniques in the results, you can run the function with the parameter `skip_revoked_deprecated=False`.\n",
    "* By default, this function also includes all techniques and sub-techniques. If you want to only get techniques that are not sub-techniques, you can run the function with the parameter `include_subtechniques=False`."
   ]
  },
  {
   "cell_type": "code",
   "execution_count": 3,
   "metadata": {},
   "outputs": [],
   "source": [
    "techniques = lift.get_techniques()"
   ]
  },
  {
   "cell_type": "code",
   "execution_count": 4,
   "metadata": {},
   "outputs": [
    {
     "name": "stdout",
     "output_type": "stream",
     "text": [
      "Number of Techniques in ATT&CK\n"
     ]
    },
    {
     "data": {
      "text/plain": [
       "858"
      ]
     },
     "execution_count": 4,
     "metadata": {},
     "output_type": "execute_result"
    }
   ],
   "source": [
    "print(\"Number of Techniques in ATT&CK\")\n",
    "len(techniques)"
   ]
  },
  {
   "cell_type": "markdown",
   "metadata": {},
   "source": [
    "By default, the data returned by the available functions in the attackcti library is of type **stix2**. However, if you want to interact with libraries such as **Pandas**, it needs to be of type **dict**"
   ]
  },
  {
   "cell_type": "code",
   "execution_count": 8,
   "metadata": {},
   "outputs": [
    {
     "data": {
      "text/html": [
       "<div>\n",
       "<style scoped>\n",
       "    .dataframe tbody tr th:only-of-type {\n",
       "        vertical-align: middle;\n",
       "    }\n",
       "\n",
       "    .dataframe tbody tr th {\n",
       "        vertical-align: top;\n",
       "    }\n",
       "\n",
       "    .dataframe thead th {\n",
       "        text-align: right;\n",
       "    }\n",
       "</style>\n",
       "<table border=\"1\" class=\"dataframe\">\n",
       "  <thead>\n",
       "    <tr style=\"text-align: right;\">\n",
       "      <th></th>\n",
       "      <th>created</th>\n",
       "      <th>name</th>\n",
       "      <th>x_mitre_data_sources</th>\n",
       "      <th>x_mitre_platforms</th>\n",
       "    </tr>\n",
       "  </thead>\n",
       "  <tbody>\n",
       "    <tr>\n",
       "      <th>0</th>\n",
       "      <td>2020-02-20T22:10:20.484Z</td>\n",
       "      <td>Disk Structure Wipe</td>\n",
       "      <td>[Driver: Driver Load, Drive: Drive Modificatio...</td>\n",
       "      <td>[Linux, macOS, Windows, Network]</td>\n",
       "    </tr>\n",
       "    <tr>\n",
       "      <th>1</th>\n",
       "      <td>2020-10-02T16:39:33.966Z</td>\n",
       "      <td>Gather Victim Host Information</td>\n",
       "      <td>[Internet Scan: Response Content]</td>\n",
       "      <td>[PRE]</td>\n",
       "    </tr>\n",
       "    <tr>\n",
       "      <th>2</th>\n",
       "      <td>2020-10-02T16:58:58.738Z</td>\n",
       "      <td>Digital Certificates</td>\n",
       "      <td>NaN</td>\n",
       "      <td>[PRE]</td>\n",
       "    </tr>\n",
       "    <tr>\n",
       "      <th>3</th>\n",
       "      <td>2020-02-11T18:58:11.791Z</td>\n",
       "      <td>Keylogging</td>\n",
       "      <td>[Driver: Driver Load, Process: OS API Executio...</td>\n",
       "      <td>[Windows, macOS, Linux, Network]</td>\n",
       "    </tr>\n",
       "    <tr>\n",
       "      <th>4</th>\n",
       "      <td>2024-03-29T16:59:10.374Z</td>\n",
       "      <td>File/Path Exclusions</td>\n",
       "      <td>[File: File Creation]</td>\n",
       "      <td>[Linux, macOS, Windows]</td>\n",
       "    </tr>\n",
       "  </tbody>\n",
       "</table>\n",
       "</div>"
      ],
      "text/plain": [
       "                    created                            name  \\\n",
       "0  2020-02-20T22:10:20.484Z             Disk Structure Wipe   \n",
       "1  2020-10-02T16:39:33.966Z  Gather Victim Host Information   \n",
       "2  2020-10-02T16:58:58.738Z            Digital Certificates   \n",
       "3  2020-02-11T18:58:11.791Z                      Keylogging   \n",
       "4  2024-03-29T16:59:10.374Z            File/Path Exclusions   \n",
       "\n",
       "                                x_mitre_data_sources  \\\n",
       "0  [Driver: Driver Load, Drive: Drive Modificatio...   \n",
       "1                  [Internet Scan: Response Content]   \n",
       "2                                                NaN   \n",
       "3  [Driver: Driver Load, Process: OS API Executio...   \n",
       "4                              [File: File Creation]   \n",
       "\n",
       "                  x_mitre_platforms  \n",
       "0  [Linux, macOS, Windows, Network]  \n",
       "1                             [PRE]  \n",
       "2                             [PRE]  \n",
       "3  [Windows, macOS, Linux, Network]  \n",
       "4           [Linux, macOS, Windows]  "
      ]
     },
     "execution_count": 8,
     "metadata": {},
     "output_type": "execute_result"
    }
   ],
   "source": [
    "all_techniques = []\n",
    "for t in techniques:\n",
    "    all_techniques.append(json.loads(t.serialize()))\n",
    "df = pandas.json_normalize(all_techniques)\n",
    "df.reindex(['created','name', 'x_mitre_data_sources', 'x_mitre_platforms'], axis=1)[0:5]"
   ]
  },
  {
   "cell_type": "markdown",
   "metadata": {},
   "source": [
    "We can now access the schema of the dataframe"
   ]
  },
  {
   "cell_type": "code",
   "execution_count": 9,
   "metadata": {},
   "outputs": [
    {
     "data": {
      "text/plain": [
       "['type',\n",
       " 'spec_version',\n",
       " 'id',\n",
       " 'created_by_ref',\n",
       " 'created',\n",
       " 'modified',\n",
       " 'name',\n",
       " 'description',\n",
       " 'kill_chain_phases',\n",
       " 'external_references',\n",
       " 'object_marking_refs',\n",
       " 'x_mitre_attack_spec_version',\n",
       " 'x_mitre_contributors',\n",
       " 'x_mitre_data_sources',\n",
       " 'x_mitre_deprecated',\n",
       " 'x_mitre_detection',\n",
       " 'x_mitre_domains',\n",
       " 'x_mitre_impact_type',\n",
       " 'x_mitre_is_subtechnique',\n",
       " 'x_mitre_modified_by_ref',\n",
       " 'x_mitre_platforms',\n",
       " 'x_mitre_version',\n",
       " 'x_mitre_defense_bypassed',\n",
       " 'x_mitre_remote_support',\n",
       " 'x_mitre_permissions_required',\n",
       " 'x_mitre_system_requirements',\n",
       " 'x_mitre_effective_permissions',\n",
       " 'x_mitre_network_requirements',\n",
       " 'x_mitre_tactic_type']"
      ]
     },
     "execution_count": 9,
     "metadata": {},
     "output_type": "execute_result"
    }
   ],
   "source": [
    "list(df)"
   ]
  },
  {
   "cell_type": "markdown",
   "metadata": {},
   "source": [
    "Showing one technique example:"
   ]
  },
  {
   "cell_type": "code",
   "execution_count": 10,
   "metadata": {},
   "outputs": [
    {
     "data": {
      "text/plain": [
       "AttackPattern(type='attack-pattern', spec_version='2.1', id='attack-pattern--0af0ca99-357d-4ba1-805f-674fdfb7bef9', created_by_ref='identity--c78cb6e5-0c4b-4611-8297-d1b8b55e40b5', created='2020-02-20T22:10:20.484Z', modified='2024-10-15T16:32:05.064Z', name='Disk Structure Wipe', description='Adversaries may corrupt or wipe the disk data structures on a hard drive necessary to boot a system; targeting specific critical systems or in large numbers in a network to interrupt availability to system and network resources. \\n\\nAdversaries may attempt to render the system unable to boot by overwriting critical data located in structures such as the master boot record (MBR) or partition table.(Citation: Symantec Shamoon 2012)(Citation: FireEye Shamoon Nov 2016)(Citation: Palo Alto Shamoon Nov 2016)(Citation: Kaspersky StoneDrill 2017)(Citation: Unit 42 Shamoon3 2018) The data contained in disk structures may include the initial executable code for loading an operating system or the location of the file system partitions on disk. If this information is not present, the computer will not be able to load an operating system during the boot process, leaving the computer unavailable. [Disk Structure Wipe](https://attack.mitre.org/techniques/T1561/002) may be performed in isolation, or along with [Disk Content Wipe](https://attack.mitre.org/techniques/T1561/001) if all sectors of a disk are wiped.\\n\\nOn a network devices, adversaries may reformat the file system using [Network Device CLI](https://attack.mitre.org/techniques/T1059/008) commands such as `format`.(Citation: format_cmd_cisco)\\n\\nTo maximize impact on the target organization, malware designed for destroying disk structures may have worm-like features to propagate across a network by leveraging other techniques like [Valid Accounts](https://attack.mitre.org/techniques/T1078), [OS Credential Dumping](https://attack.mitre.org/techniques/T1003), and [SMB/Windows Admin Shares](https://attack.mitre.org/techniques/T1021/002).(Citation: Symantec Shamoon 2012)(Citation: FireEye Shamoon Nov 2016)(Citation: Palo Alto Shamoon Nov 2016)(Citation: Kaspersky StoneDrill 2017)', kill_chain_phases=[KillChainPhase(kill_chain_name='mitre-attack', phase_name='impact')], revoked=False, external_references=[ExternalReference(source_name='mitre-attack', url='https://attack.mitre.org/techniques/T1561/002', external_id='T1561.002'), ExternalReference(source_name='format_cmd_cisco', description='Cisco. (2022, August 16). format - Cisco IOS Configuration Fundamentals Command Reference. Retrieved July 13, 2022.', url='https://www.cisco.com/c/en/us/td/docs/ios-xml/ios/fundamentals/command/cf_command_ref/F_through_K.html#wp2829794668'), ExternalReference(source_name='Unit 42 Shamoon3 2018', description='Falcone, R. (2018, December 13). Shamoon 3 Targets Oil and Gas Organization. Retrieved March 14, 2019.', url='https://unit42.paloaltonetworks.com/shamoon-3-targets-oil-gas-organization/'), ExternalReference(source_name='Palo Alto Shamoon Nov 2016', description='Falcone, R.. (2016, November 30). Shamoon 2: Return of the Disttrack Wiper. Retrieved January 11, 2017.', url='http://researchcenter.paloaltonetworks.com/2016/11/unit42-shamoon-2-return-disttrack-wiper/'), ExternalReference(source_name='FireEye Shamoon Nov 2016', description='FireEye. (2016, November 30). FireEye Responds to Wave of Destructive Cyber Attacks in Gulf Region. Retrieved January 11, 2017.', url='https://www.fireeye.com/blog/threat-research/2016/11/fireeye_respondsto.html'), ExternalReference(source_name='Kaspersky StoneDrill 2017', description='Kaspersky Lab. (2017, March 7). From Shamoon to StoneDrill: Wipers attacking Saudi organizations and beyond. Retrieved March 14, 2019.', url='https://media.kasperskycontenthub.com/wp-content/uploads/sites/43/2018/03/07180722/Report_Shamoon_StoneDrill_final.pdf'), ExternalReference(source_name='Microsoft Sysmon v6 May 2017', description='Russinovich, M. & Garnier, T. (2017, May 22). Sysmon v6.20. Retrieved December 13, 2017.', url='https://docs.microsoft.com/sysinternals/downloads/sysmon'), ExternalReference(source_name='Symantec Shamoon 2012', description='Symantec. (2012, August 16). The Shamoon Attacks. Retrieved March 14, 2019.', url='https://www.symantec.com/connect/blogs/shamoon-attacks')], object_marking_refs=['marking-definition--fa42a846-8d90-4e51-bc29-71d5b4802168'], x_mitre_attack_spec_version='3.2.0', x_mitre_contributors=['Austin Clark, @c2defense'], x_mitre_data_sources=['Driver: Driver Load', 'Drive: Drive Modification', 'Drive: Drive Access', 'Command: Command Execution', 'Process: Process Creation'], x_mitre_deprecated=False, x_mitre_detection='Look for attempts to read/write to sensitive locations like the master boot record and the disk partition table. Monitor for direct access read/write attempts using the <code>\\\\\\\\\\\\\\\\.\\\\\\\\</code> notation.(Citation: Microsoft Sysmon v6 May 2017) Monitor for unusual kernel driver installation activity.\\n\\nFor network infrastructure devices, collect AAA logging to monitor for `format` commands being run to erase the file structure and prevent recovery of the device.', x_mitre_domains=['enterprise-attack'], x_mitre_impact_type=['Availability'], x_mitre_is_subtechnique=True, x_mitre_modified_by_ref='identity--c78cb6e5-0c4b-4611-8297-d1b8b55e40b5', x_mitre_platforms=['Linux', 'macOS', 'Windows', 'Network'], x_mitre_version='1.1')"
      ]
     },
     "execution_count": 10,
     "metadata": {},
     "output_type": "execute_result"
    }
   ],
   "source": [
    "techniques[0]"
   ]
  },
  {
   "cell_type": "markdown",
   "metadata": {},
   "source": [
    "### Enrich Techniques Data Sources\n",
    "As you might already know, the ATT&CK data model now represents `data sources` as objects. However, when retrieving techniques from ATT&CK TAXII server, their data sources section only includes data sources and data components names. Therefore, we created a parameter that you can use with the `get_techniques()` function to enrich the data sources section of each technique. The parameter `enrich_data_sources` is set to `False` by default."
   ]
  },
  {
   "cell_type": "code",
   "execution_count": 11,
   "metadata": {},
   "outputs": [],
   "source": [
    "techniques = lift.get_techniques(enrich_data_sources=True)"
   ]
  },
  {
   "cell_type": "markdown",
   "metadata": {},
   "source": [
    "This function returns a list of techniques with the `x_mitre_data_sources` attribute as a list of STIX objects representing data sources with their respective data components depending on the technique's detection context."
   ]
  },
  {
   "cell_type": "code",
   "execution_count": 12,
   "metadata": {},
   "outputs": [
    {
     "name": "stdout",
     "output_type": "stream",
     "text": [
      "Driver - Driver Load\n",
      "Drive - Drive Modification\n",
      "Drive - Drive Access\n",
      "Command - Command Execution\n",
      "Process - Process Creation\n"
     ]
    }
   ],
   "source": [
    "for ds in techniques[0]['x_mitre_data_sources']:\n",
    "    for dc in ds['data_components']:\n",
    "        print(ds['name'], '-', dc['name'])"
   ]
  },
  {
   "cell_type": "code",
   "execution_count": 13,
   "metadata": {},
   "outputs": [
    {
     "data": {
      "text/plain": [
       "{'id': 'x-mitre-data-source--9ec8c0d7-6137-456f-b829-c5f8b96ba054',\n",
       " 'modified': '2022-03-30T14:26:51.805Z',\n",
       " 'created': '2021-10-20T15:05:19.274Z',\n",
       " 'type': 'x-mitre-data-source',\n",
       " 'spec_version': '2.1',\n",
       " 'name': 'Driver',\n",
       " 'description': 'A computer program that operates or controls a particular type of device that is attached to a computer. Provides a software interface to hardware devices, enabling operating systems and other computer programs to access hardware functions without needing to know precise details about the hardware being used(Citation: IOKit Fundamentals)(Citation: Windows Getting Started Drivers)',\n",
       " 'x_mitre_modified_by_ref': 'identity--c78cb6e5-0c4b-4611-8297-d1b8b55e40b5',\n",
       " 'x_mitre_platforms': ['Linux', 'Windows', 'macOS'],\n",
       " 'x_mitre_domains': ['enterprise-attack'],\n",
       " 'x_mitre_version': '1.0',\n",
       " 'x_mitre_attack_spec_version': '2.1.0',\n",
       " 'x_mitre_contributors': ['Center for Threat-Informed Defense (CTID)'],\n",
       " 'x_mitre_collection_layers': ['Host'],\n",
       " 'created_by_ref': 'identity--c78cb6e5-0c4b-4611-8297-d1b8b55e40b5',\n",
       " 'external_references': [{'source_name': 'mitre-attack',\n",
       "   'url': 'https://attack.mitre.org/datasources/DS0027',\n",
       "   'external_id': 'DS0027'},\n",
       "  {'source_name': 'IOKit Fundamentals',\n",
       "   'description': 'Apple. (2014, April 9). What Is the I/O Kit?. Retrieved September 24, 2021.',\n",
       "   'url': 'https://developer.apple.com/library/archive/documentation/DeviceDrivers/Conceptual/IOKitFundamentals/Features/Features.html'},\n",
       "  {'source_name': 'Windows Getting Started Drivers',\n",
       "   'description': 'Viviano, A. (2021, August 17). Getting started with Windows drivers: User mode and kernel mode. Retrieved September 24, 2021.',\n",
       "   'url': 'https://docs.microsoft.com/en-us/windows-hardware/drivers/gettingstarted/user-mode-and-kernel-mode'}],\n",
       " 'object_marking_refs': ['marking-definition--fa42a846-8d90-4e51-bc29-71d5b4802168'],\n",
       " 'data_components': [{'id': 'x-mitre-data-component--3551476e-14f5-4e48-a518-e82135329e03',\n",
       "   'modified': '2022-04-25T14:00:00.188Z',\n",
       "   'created': '2021-10-20T15:05:19.274Z',\n",
       "   'type': 'x-mitre-data-component',\n",
       "   'spec_version': '2.1',\n",
       "   'name': 'Driver Load',\n",
       "   'description': 'Attaching a driver to either user or kernel-mode of a system (ex: Sysmon EID 6)',\n",
       "   'x_mitre_data_source_ref': 'x-mitre-data-source--9ec8c0d7-6137-456f-b829-c5f8b96ba054',\n",
       "   'x_mitre_modified_by_ref': 'identity--c78cb6e5-0c4b-4611-8297-d1b8b55e40b5',\n",
       "   'x_mitre_domains': ['enterprise-attack'],\n",
       "   'x_mitre_version': '1.0',\n",
       "   'x_mitre_attack_spec_version': '2.1.0',\n",
       "   'created_by_ref': 'identity--c78cb6e5-0c4b-4611-8297-d1b8b55e40b5',\n",
       "   'object_marking_refs': ['marking-definition--fa42a846-8d90-4e51-bc29-71d5b4802168'],\n",
       "   'external_references': []}]}"
      ]
     },
     "execution_count": 13,
     "metadata": {},
     "output_type": "execute_result"
    }
   ],
   "source": [
    "techniques[0]['x_mitre_data_sources'][0]"
   ]
  },
  {
   "cell_type": "markdown",
   "metadata": {},
   "source": [
    "## Get All Groups\n",
    "We can also extract all the available groups across all ATT&CK matrices at once."
   ]
  },
  {
   "cell_type": "code",
   "execution_count": 14,
   "metadata": {},
   "outputs": [],
   "source": [
    "groups = lift.get_groups()"
   ]
  },
  {
   "cell_type": "code",
   "execution_count": 15,
   "metadata": {},
   "outputs": [
    {
     "name": "stdout",
     "output_type": "stream",
     "text": [
      "Number of Groups in ATT&CK\n"
     ]
    },
    {
     "data": {
      "text/plain": [
       "163"
      ]
     },
     "execution_count": 15,
     "metadata": {},
     "output_type": "execute_result"
    }
   ],
   "source": [
    "print(\"Number of Groups in ATT&CK\")\n",
    "len(groups)"
   ]
  },
  {
   "cell_type": "code",
   "execution_count": 16,
   "metadata": {},
   "outputs": [
    {
     "data": {
      "text/html": [
       "<div>\n",
       "<style scoped>\n",
       "    .dataframe tbody tr th:only-of-type {\n",
       "        vertical-align: middle;\n",
       "    }\n",
       "\n",
       "    .dataframe tbody tr th {\n",
       "        vertical-align: top;\n",
       "    }\n",
       "\n",
       "    .dataframe thead th {\n",
       "        text-align: right;\n",
       "    }\n",
       "</style>\n",
       "<table border=\"1\" class=\"dataframe\">\n",
       "  <thead>\n",
       "    <tr style=\"text-align: right;\">\n",
       "      <th></th>\n",
       "      <th>type</th>\n",
       "      <th>spec_version</th>\n",
       "      <th>id</th>\n",
       "      <th>created_by_ref</th>\n",
       "      <th>created</th>\n",
       "      <th>modified</th>\n",
       "      <th>name</th>\n",
       "      <th>description</th>\n",
       "      <th>aliases</th>\n",
       "      <th>external_references</th>\n",
       "      <th>object_marking_refs</th>\n",
       "      <th>x_mitre_attack_spec_version</th>\n",
       "      <th>x_mitre_domains</th>\n",
       "      <th>x_mitre_modified_by_ref</th>\n",
       "      <th>x_mitre_version</th>\n",
       "      <th>x_mitre_deprecated</th>\n",
       "      <th>x_mitre_contributors</th>\n",
       "    </tr>\n",
       "  </thead>\n",
       "  <tbody>\n",
       "    <tr>\n",
       "      <th>0</th>\n",
       "      <td>intrusion-set</td>\n",
       "      <td>2.1</td>\n",
       "      <td>intrusion-set--2e5d3a83-fe00-41a5-9b60-237efc8...</td>\n",
       "      <td>identity--c78cb6e5-0c4b-4611-8297-d1b8b55e40b5</td>\n",
       "      <td>2017-05-31T21:31:46.025Z</td>\n",
       "      <td>2022-04-25T14:00:00.188Z</td>\n",
       "      <td>Moafee</td>\n",
       "      <td>[Moafee](https://attack.mitre.org/groups/G0002...</td>\n",
       "      <td>[Moafee]</td>\n",
       "      <td>[{'source_name': 'mitre-attack', 'url': 'https...</td>\n",
       "      <td>[marking-definition--fa42a846-8d90-4e51-bc29-7...</td>\n",
       "      <td>2.1.0</td>\n",
       "      <td>[enterprise-attack]</td>\n",
       "      <td>identity--c78cb6e5-0c4b-4611-8297-d1b8b55e40b5</td>\n",
       "      <td>1.1</td>\n",
       "      <td>NaN</td>\n",
       "      <td>NaN</td>\n",
       "    </tr>\n",
       "    <tr>\n",
       "      <th>1</th>\n",
       "      <td>intrusion-set</td>\n",
       "      <td>2.1</td>\n",
       "      <td>intrusion-set--44e43fad-ffcb-4210-abcf-eaaed97...</td>\n",
       "      <td>identity--c78cb6e5-0c4b-4611-8297-d1b8b55e40b5</td>\n",
       "      <td>2019-02-19T16:01:38.585Z</td>\n",
       "      <td>2024-04-11T02:59:52.392Z</td>\n",
       "      <td>APT39</td>\n",
       "      <td>[APT39](https://attack.mitre.org/groups/G0087)...</td>\n",
       "      <td>[APT39, ITG07, Chafer, Remix Kitten]</td>\n",
       "      <td>[{'source_name': 'mitre-attack', 'url': 'https...</td>\n",
       "      <td>[marking-definition--fa42a846-8d90-4e51-bc29-7...</td>\n",
       "      <td>3.2.0</td>\n",
       "      <td>[enterprise-attack]</td>\n",
       "      <td>identity--c78cb6e5-0c4b-4611-8297-d1b8b55e40b5</td>\n",
       "      <td>3.2</td>\n",
       "      <td>False</td>\n",
       "      <td>NaN</td>\n",
       "    </tr>\n",
       "    <tr>\n",
       "      <th>2</th>\n",
       "      <td>intrusion-set</td>\n",
       "      <td>2.1</td>\n",
       "      <td>intrusion-set--44d37b89-a739-4810-9111-0d2617a...</td>\n",
       "      <td>identity--c78cb6e5-0c4b-4611-8297-d1b8b55e40b5</td>\n",
       "      <td>2023-07-05T17:54:54.789Z</td>\n",
       "      <td>2024-04-04T21:24:48.602Z</td>\n",
       "      <td>Scattered Spider</td>\n",
       "      <td>[Scattered Spider](https://attack.mitre.org/gr...</td>\n",
       "      <td>[Scattered Spider, Roasted 0ktapus, Octo Tempe...</td>\n",
       "      <td>[{'source_name': 'mitre-attack', 'url': 'https...</td>\n",
       "      <td>[marking-definition--fa42a846-8d90-4e51-bc29-7...</td>\n",
       "      <td>3.2.0</td>\n",
       "      <td>[enterprise-attack, mobile-attack]</td>\n",
       "      <td>identity--c78cb6e5-0c4b-4611-8297-d1b8b55e40b5</td>\n",
       "      <td>2.0</td>\n",
       "      <td>False</td>\n",
       "      <td>NaN</td>\n",
       "    </tr>\n",
       "    <tr>\n",
       "      <th>3</th>\n",
       "      <td>intrusion-set</td>\n",
       "      <td>2.1</td>\n",
       "      <td>intrusion-set--44102191-3a31-45f8-acbe-34bdb44...</td>\n",
       "      <td>identity--c78cb6e5-0c4b-4611-8297-d1b8b55e40b5</td>\n",
       "      <td>2020-05-26T14:20:20.623Z</td>\n",
       "      <td>2022-04-25T14:00:00.188Z</td>\n",
       "      <td>Rocke</td>\n",
       "      <td>[Rocke](https://attack.mitre.org/groups/G0106)...</td>\n",
       "      <td>[Rocke]</td>\n",
       "      <td>[{'source_name': 'mitre-attack', 'url': 'https...</td>\n",
       "      <td>[marking-definition--fa42a846-8d90-4e51-bc29-7...</td>\n",
       "      <td>2.1.0</td>\n",
       "      <td>[enterprise-attack]</td>\n",
       "      <td>identity--c78cb6e5-0c4b-4611-8297-d1b8b55e40b5</td>\n",
       "      <td>1.0</td>\n",
       "      <td>NaN</td>\n",
       "      <td>NaN</td>\n",
       "    </tr>\n",
       "  </tbody>\n",
       "</table>\n",
       "</div>"
      ],
      "text/plain": [
       "            type spec_version  \\\n",
       "0  intrusion-set          2.1   \n",
       "1  intrusion-set          2.1   \n",
       "2  intrusion-set          2.1   \n",
       "3  intrusion-set          2.1   \n",
       "\n",
       "                                                  id  \\\n",
       "0  intrusion-set--2e5d3a83-fe00-41a5-9b60-237efc8...   \n",
       "1  intrusion-set--44e43fad-ffcb-4210-abcf-eaaed97...   \n",
       "2  intrusion-set--44d37b89-a739-4810-9111-0d2617a...   \n",
       "3  intrusion-set--44102191-3a31-45f8-acbe-34bdb44...   \n",
       "\n",
       "                                   created_by_ref                   created  \\\n",
       "0  identity--c78cb6e5-0c4b-4611-8297-d1b8b55e40b5  2017-05-31T21:31:46.025Z   \n",
       "1  identity--c78cb6e5-0c4b-4611-8297-d1b8b55e40b5  2019-02-19T16:01:38.585Z   \n",
       "2  identity--c78cb6e5-0c4b-4611-8297-d1b8b55e40b5  2023-07-05T17:54:54.789Z   \n",
       "3  identity--c78cb6e5-0c4b-4611-8297-d1b8b55e40b5  2020-05-26T14:20:20.623Z   \n",
       "\n",
       "                   modified              name  \\\n",
       "0  2022-04-25T14:00:00.188Z            Moafee   \n",
       "1  2024-04-11T02:59:52.392Z             APT39   \n",
       "2  2024-04-04T21:24:48.602Z  Scattered Spider   \n",
       "3  2022-04-25T14:00:00.188Z             Rocke   \n",
       "\n",
       "                                         description  \\\n",
       "0  [Moafee](https://attack.mitre.org/groups/G0002...   \n",
       "1  [APT39](https://attack.mitre.org/groups/G0087)...   \n",
       "2  [Scattered Spider](https://attack.mitre.org/gr...   \n",
       "3  [Rocke](https://attack.mitre.org/groups/G0106)...   \n",
       "\n",
       "                                             aliases  \\\n",
       "0                                           [Moafee]   \n",
       "1               [APT39, ITG07, Chafer, Remix Kitten]   \n",
       "2  [Scattered Spider, Roasted 0ktapus, Octo Tempe...   \n",
       "3                                            [Rocke]   \n",
       "\n",
       "                                 external_references  \\\n",
       "0  [{'source_name': 'mitre-attack', 'url': 'https...   \n",
       "1  [{'source_name': 'mitre-attack', 'url': 'https...   \n",
       "2  [{'source_name': 'mitre-attack', 'url': 'https...   \n",
       "3  [{'source_name': 'mitre-attack', 'url': 'https...   \n",
       "\n",
       "                                 object_marking_refs  \\\n",
       "0  [marking-definition--fa42a846-8d90-4e51-bc29-7...   \n",
       "1  [marking-definition--fa42a846-8d90-4e51-bc29-7...   \n",
       "2  [marking-definition--fa42a846-8d90-4e51-bc29-7...   \n",
       "3  [marking-definition--fa42a846-8d90-4e51-bc29-7...   \n",
       "\n",
       "  x_mitre_attack_spec_version                     x_mitre_domains  \\\n",
       "0                       2.1.0                 [enterprise-attack]   \n",
       "1                       3.2.0                 [enterprise-attack]   \n",
       "2                       3.2.0  [enterprise-attack, mobile-attack]   \n",
       "3                       2.1.0                 [enterprise-attack]   \n",
       "\n",
       "                          x_mitre_modified_by_ref x_mitre_version  \\\n",
       "0  identity--c78cb6e5-0c4b-4611-8297-d1b8b55e40b5             1.1   \n",
       "1  identity--c78cb6e5-0c4b-4611-8297-d1b8b55e40b5             3.2   \n",
       "2  identity--c78cb6e5-0c4b-4611-8297-d1b8b55e40b5             2.0   \n",
       "3  identity--c78cb6e5-0c4b-4611-8297-d1b8b55e40b5             1.0   \n",
       "\n",
       "  x_mitre_deprecated x_mitre_contributors  \n",
       "0                NaN                  NaN  \n",
       "1              False                  NaN  \n",
       "2              False                  NaN  \n",
       "3                NaN                  NaN  "
      ]
     },
     "execution_count": 16,
     "metadata": {},
     "output_type": "execute_result"
    }
   ],
   "source": [
    "groups_list = []\n",
    "for t in groups:\n",
    "    groups_list.append(json.loads(t.serialize()))\n",
    "df = pandas.json_normalize(groups_list)\n",
    "df[0:4]"
   ]
  },
  {
   "cell_type": "markdown",
   "metadata": {},
   "source": [
    "## Get All Software\n",
    "We can extract all Enterprise, Mobile and ICS (Software Malware & Tools)"
   ]
  },
  {
   "cell_type": "code",
   "execution_count": 17,
   "metadata": {},
   "outputs": [],
   "source": [
    "software = lift.get_software()"
   ]
  },
  {
   "cell_type": "code",
   "execution_count": 18,
   "metadata": {},
   "outputs": [
    {
     "name": "stdout",
     "output_type": "stream",
     "text": [
      "Number of Software in ATT&CK\n"
     ]
    },
    {
     "data": {
      "text/plain": [
       "826"
      ]
     },
     "execution_count": 18,
     "metadata": {},
     "output_type": "execute_result"
    }
   ],
   "source": [
    "print(\"Number of Software in ATT&CK\")\n",
    "len(software)"
   ]
  },
  {
   "cell_type": "code",
   "execution_count": 19,
   "metadata": {},
   "outputs": [
    {
     "data": {
      "text/html": [
       "<div>\n",
       "<style scoped>\n",
       "    .dataframe tbody tr th:only-of-type {\n",
       "        vertical-align: middle;\n",
       "    }\n",
       "\n",
       "    .dataframe tbody tr th {\n",
       "        vertical-align: top;\n",
       "    }\n",
       "\n",
       "    .dataframe thead th {\n",
       "        text-align: right;\n",
       "    }\n",
       "</style>\n",
       "<table border=\"1\" class=\"dataframe\">\n",
       "  <thead>\n",
       "    <tr style=\"text-align: right;\">\n",
       "      <th></th>\n",
       "      <th>type</th>\n",
       "      <th>spec_version</th>\n",
       "      <th>id</th>\n",
       "      <th>created_by_ref</th>\n",
       "      <th>created</th>\n",
       "      <th>modified</th>\n",
       "      <th>name</th>\n",
       "      <th>description</th>\n",
       "      <th>external_references</th>\n",
       "      <th>object_marking_refs</th>\n",
       "      <th>x_mitre_attack_spec_version</th>\n",
       "      <th>x_mitre_domains</th>\n",
       "      <th>x_mitre_modified_by_ref</th>\n",
       "      <th>x_mitre_version</th>\n",
       "      <th>x_mitre_aliases</th>\n",
       "      <th>x_mitre_deprecated</th>\n",
       "      <th>x_mitre_contributors</th>\n",
       "      <th>x_mitre_platforms</th>\n",
       "      <th>is_family</th>\n",
       "    </tr>\n",
       "  </thead>\n",
       "  <tbody>\n",
       "    <tr>\n",
       "      <th>0</th>\n",
       "      <td>tool</td>\n",
       "      <td>2.1</td>\n",
       "      <td>tool--102c3898-85e0-43ee-ae28-62a0a3ed9507</td>\n",
       "      <td>identity--c78cb6e5-0c4b-4611-8297-d1b8b55e40b5</td>\n",
       "      <td>2017-05-31T21:33:09.047Z</td>\n",
       "      <td>2022-04-25T14:00:00.188Z</td>\n",
       "      <td>UACMe</td>\n",
       "      <td>[UACMe](https://attack.mitre.org/software/S011...</td>\n",
       "      <td>[{'source_name': 'mitre-attack', 'url': 'https...</td>\n",
       "      <td>[marking-definition--fa42a846-8d90-4e51-bc29-7...</td>\n",
       "      <td>2.1.0</td>\n",
       "      <td>[enterprise-attack]</td>\n",
       "      <td>identity--c78cb6e5-0c4b-4611-8297-d1b8b55e40b5</td>\n",
       "      <td>1.0</td>\n",
       "      <td>NaN</td>\n",
       "      <td>NaN</td>\n",
       "      <td>NaN</td>\n",
       "      <td>NaN</td>\n",
       "      <td>NaN</td>\n",
       "    </tr>\n",
       "    <tr>\n",
       "      <th>1</th>\n",
       "      <td>tool</td>\n",
       "      <td>2.1</td>\n",
       "      <td>tool--294e2560-bd48-44b2-9da2-833b5588ad11</td>\n",
       "      <td>identity--c78cb6e5-0c4b-4611-8297-d1b8b55e40b5</td>\n",
       "      <td>2017-05-31T21:33:02.863Z</td>\n",
       "      <td>2022-10-12T21:28:49.335Z</td>\n",
       "      <td>ipconfig</td>\n",
       "      <td>[ipconfig](https://attack.mitre.org/software/S...</td>\n",
       "      <td>[{'source_name': 'mitre-attack', 'url': 'https...</td>\n",
       "      <td>[marking-definition--fa42a846-8d90-4e51-bc29-7...</td>\n",
       "      <td>2.1.0</td>\n",
       "      <td>[enterprise-attack]</td>\n",
       "      <td>identity--c78cb6e5-0c4b-4611-8297-d1b8b55e40b5</td>\n",
       "      <td>1.1</td>\n",
       "      <td>[ipconfig]</td>\n",
       "      <td>False</td>\n",
       "      <td>NaN</td>\n",
       "      <td>NaN</td>\n",
       "      <td>NaN</td>\n",
       "    </tr>\n",
       "    <tr>\n",
       "      <th>2</th>\n",
       "      <td>tool</td>\n",
       "      <td>2.1</td>\n",
       "      <td>tool--26c87906-d750-42c5-946c-d4162c73fc7b</td>\n",
       "      <td>identity--c78cb6e5-0c4b-4611-8297-d1b8b55e40b5</td>\n",
       "      <td>2019-01-31T01:39:56.283Z</td>\n",
       "      <td>2024-10-07T19:08:53.273Z</td>\n",
       "      <td>Impacket</td>\n",
       "      <td>[Impacket](https://attack.mitre.org/software/S...</td>\n",
       "      <td>[{'source_name': 'mitre-attack', 'url': 'https...</td>\n",
       "      <td>[marking-definition--fa42a846-8d90-4e51-bc29-7...</td>\n",
       "      <td>3.2.0</td>\n",
       "      <td>[enterprise-attack]</td>\n",
       "      <td>identity--c78cb6e5-0c4b-4611-8297-d1b8b55e40b5</td>\n",
       "      <td>1.7</td>\n",
       "      <td>[Impacket]</td>\n",
       "      <td>False</td>\n",
       "      <td>[Jacob Wilkin, Trustwave, SpiderLabs]</td>\n",
       "      <td>[Linux, macOS, Windows]</td>\n",
       "      <td>NaN</td>\n",
       "    </tr>\n",
       "    <tr>\n",
       "      <th>3</th>\n",
       "      <td>tool</td>\n",
       "      <td>2.1</td>\n",
       "      <td>tool--242f3da3-4425-4d11-8f5c-b842886da966</td>\n",
       "      <td>identity--c78cb6e5-0c4b-4611-8297-d1b8b55e40b5</td>\n",
       "      <td>2017-05-31T21:32:12.684Z</td>\n",
       "      <td>2024-09-12T15:17:22.004Z</td>\n",
       "      <td>Windows Credential Editor</td>\n",
       "      <td>[Windows Credential Editor](https://attack.mit...</td>\n",
       "      <td>[{'source_name': 'mitre-attack', 'url': 'https...</td>\n",
       "      <td>[marking-definition--fa42a846-8d90-4e51-bc29-7...</td>\n",
       "      <td>3.2.0</td>\n",
       "      <td>[enterprise-attack]</td>\n",
       "      <td>identity--c78cb6e5-0c4b-4611-8297-d1b8b55e40b5</td>\n",
       "      <td>1.1</td>\n",
       "      <td>[Windows Credential Editor, WCE]</td>\n",
       "      <td>False</td>\n",
       "      <td>NaN</td>\n",
       "      <td>[Windows]</td>\n",
       "      <td>NaN</td>\n",
       "    </tr>\n",
       "  </tbody>\n",
       "</table>\n",
       "</div>"
      ],
      "text/plain": [
       "   type spec_version                                          id  \\\n",
       "0  tool          2.1  tool--102c3898-85e0-43ee-ae28-62a0a3ed9507   \n",
       "1  tool          2.1  tool--294e2560-bd48-44b2-9da2-833b5588ad11   \n",
       "2  tool          2.1  tool--26c87906-d750-42c5-946c-d4162c73fc7b   \n",
       "3  tool          2.1  tool--242f3da3-4425-4d11-8f5c-b842886da966   \n",
       "\n",
       "                                   created_by_ref                   created  \\\n",
       "0  identity--c78cb6e5-0c4b-4611-8297-d1b8b55e40b5  2017-05-31T21:33:09.047Z   \n",
       "1  identity--c78cb6e5-0c4b-4611-8297-d1b8b55e40b5  2017-05-31T21:33:02.863Z   \n",
       "2  identity--c78cb6e5-0c4b-4611-8297-d1b8b55e40b5  2019-01-31T01:39:56.283Z   \n",
       "3  identity--c78cb6e5-0c4b-4611-8297-d1b8b55e40b5  2017-05-31T21:32:12.684Z   \n",
       "\n",
       "                   modified                       name  \\\n",
       "0  2022-04-25T14:00:00.188Z                      UACMe   \n",
       "1  2022-10-12T21:28:49.335Z                   ipconfig   \n",
       "2  2024-10-07T19:08:53.273Z                   Impacket   \n",
       "3  2024-09-12T15:17:22.004Z  Windows Credential Editor   \n",
       "\n",
       "                                         description  \\\n",
       "0  [UACMe](https://attack.mitre.org/software/S011...   \n",
       "1  [ipconfig](https://attack.mitre.org/software/S...   \n",
       "2  [Impacket](https://attack.mitre.org/software/S...   \n",
       "3  [Windows Credential Editor](https://attack.mit...   \n",
       "\n",
       "                                 external_references  \\\n",
       "0  [{'source_name': 'mitre-attack', 'url': 'https...   \n",
       "1  [{'source_name': 'mitre-attack', 'url': 'https...   \n",
       "2  [{'source_name': 'mitre-attack', 'url': 'https...   \n",
       "3  [{'source_name': 'mitre-attack', 'url': 'https...   \n",
       "\n",
       "                                 object_marking_refs  \\\n",
       "0  [marking-definition--fa42a846-8d90-4e51-bc29-7...   \n",
       "1  [marking-definition--fa42a846-8d90-4e51-bc29-7...   \n",
       "2  [marking-definition--fa42a846-8d90-4e51-bc29-7...   \n",
       "3  [marking-definition--fa42a846-8d90-4e51-bc29-7...   \n",
       "\n",
       "  x_mitre_attack_spec_version      x_mitre_domains  \\\n",
       "0                       2.1.0  [enterprise-attack]   \n",
       "1                       2.1.0  [enterprise-attack]   \n",
       "2                       3.2.0  [enterprise-attack]   \n",
       "3                       3.2.0  [enterprise-attack]   \n",
       "\n",
       "                          x_mitre_modified_by_ref x_mitre_version  \\\n",
       "0  identity--c78cb6e5-0c4b-4611-8297-d1b8b55e40b5             1.0   \n",
       "1  identity--c78cb6e5-0c4b-4611-8297-d1b8b55e40b5             1.1   \n",
       "2  identity--c78cb6e5-0c4b-4611-8297-d1b8b55e40b5             1.7   \n",
       "3  identity--c78cb6e5-0c4b-4611-8297-d1b8b55e40b5             1.1   \n",
       "\n",
       "                    x_mitre_aliases x_mitre_deprecated  \\\n",
       "0                               NaN                NaN   \n",
       "1                        [ipconfig]              False   \n",
       "2                        [Impacket]              False   \n",
       "3  [Windows Credential Editor, WCE]              False   \n",
       "\n",
       "                    x_mitre_contributors        x_mitre_platforms is_family  \n",
       "0                                    NaN                      NaN       NaN  \n",
       "1                                    NaN                      NaN       NaN  \n",
       "2  [Jacob Wilkin, Trustwave, SpiderLabs]  [Linux, macOS, Windows]       NaN  \n",
       "3                                    NaN                [Windows]       NaN  "
      ]
     },
     "execution_count": 19,
     "metadata": {},
     "output_type": "execute_result"
    }
   ],
   "source": [
    "software_list = []\n",
    "for t in software:\n",
    "    software_list.append(json.loads(t.serialize()))\n",
    "df = pandas.json_normalize(software_list)\n",
    "df[0:4]"
   ]
  },
  {
   "cell_type": "markdown",
   "metadata": {},
   "source": [
    "## Get All Relationships\n",
    "We can also get all relationships from all ATT&CK matrices with one API request."
   ]
  },
  {
   "cell_type": "code",
   "execution_count": 20,
   "metadata": {},
   "outputs": [],
   "source": [
    "relationships = lift.get_relationships()"
   ]
  },
  {
   "cell_type": "code",
   "execution_count": 21,
   "metadata": {},
   "outputs": [
    {
     "name": "stdout",
     "output_type": "stream",
     "text": [
      "Number of Relationships in ATT&CK\n"
     ]
    },
    {
     "data": {
      "text/plain": [
       "22142"
      ]
     },
     "execution_count": 21,
     "metadata": {},
     "output_type": "execute_result"
    }
   ],
   "source": [
    "print(\"Number of Relationships in ATT&CK\")\n",
    "len(relationships)"
   ]
  },
  {
   "cell_type": "code",
   "execution_count": 22,
   "metadata": {},
   "outputs": [
    {
     "data": {
      "text/html": [
       "<div>\n",
       "<style scoped>\n",
       "    .dataframe tbody tr th:only-of-type {\n",
       "        vertical-align: middle;\n",
       "    }\n",
       "\n",
       "    .dataframe tbody tr th {\n",
       "        vertical-align: top;\n",
       "    }\n",
       "\n",
       "    .dataframe thead th {\n",
       "        text-align: right;\n",
       "    }\n",
       "</style>\n",
       "<table border=\"1\" class=\"dataframe\">\n",
       "  <thead>\n",
       "    <tr style=\"text-align: right;\">\n",
       "      <th></th>\n",
       "      <th>type</th>\n",
       "      <th>spec_version</th>\n",
       "      <th>id</th>\n",
       "      <th>created_by_ref</th>\n",
       "      <th>created</th>\n",
       "      <th>modified</th>\n",
       "      <th>relationship_type</th>\n",
       "      <th>description</th>\n",
       "      <th>source_ref</th>\n",
       "      <th>target_ref</th>\n",
       "      <th>object_marking_refs</th>\n",
       "      <th>x_mitre_attack_spec_version</th>\n",
       "      <th>x_mitre_deprecated</th>\n",
       "      <th>x_mitre_modified_by_ref</th>\n",
       "      <th>x_mitre_version</th>\n",
       "      <th>external_references</th>\n",
       "    </tr>\n",
       "  </thead>\n",
       "  <tbody>\n",
       "    <tr>\n",
       "      <th>0</th>\n",
       "      <td>relationship</td>\n",
       "      <td>2.1</td>\n",
       "      <td>relationship--0005fb3b-274a-4ac1-8fb2-51366fcd...</td>\n",
       "      <td>identity--c78cb6e5-0c4b-4611-8297-d1b8b55e40b5</td>\n",
       "      <td>2023-09-01T21:33:59.394Z</td>\n",
       "      <td>2023-09-01T21:33:59.394Z</td>\n",
       "      <td>mitigates</td>\n",
       "      <td>Consider blocking download/transfer and execut...</td>\n",
       "      <td>course-of-action--21da4fd4-27ad-4e9c-b93d-0b9b...</td>\n",
       "      <td>attack-pattern--43c9bc06-715b-42db-972f-52d25c...</td>\n",
       "      <td>[marking-definition--fa42a846-8d90-4e51-bc29-7...</td>\n",
       "      <td>3.1.0</td>\n",
       "      <td>False</td>\n",
       "      <td>identity--c78cb6e5-0c4b-4611-8297-d1b8b55e40b5</td>\n",
       "      <td>0.1</td>\n",
       "      <td>NaN</td>\n",
       "    </tr>\n",
       "    <tr>\n",
       "      <th>1</th>\n",
       "      <td>relationship</td>\n",
       "      <td>2.1</td>\n",
       "      <td>relationship--00038d0e-7fc7-41c3-9055-edb4d87e...</td>\n",
       "      <td>identity--c78cb6e5-0c4b-4611-8297-d1b8b55e40b5</td>\n",
       "      <td>2021-04-27T01:56:35.810Z</td>\n",
       "      <td>2021-04-27T01:56:35.810Z</td>\n",
       "      <td>uses</td>\n",
       "      <td>[Explosive](https://attack.mitre.org/software...</td>\n",
       "      <td>malware--6a21e3a4-5ffe-4581-af9a-6a54c7536f44</td>\n",
       "      <td>attack-pattern--707399d6-ab3e-4963-9315-d9d381...</td>\n",
       "      <td>[marking-definition--fa42a846-8d90-4e51-bc29-7...</td>\n",
       "      <td>2.1.0</td>\n",
       "      <td>NaN</td>\n",
       "      <td>identity--c78cb6e5-0c4b-4611-8297-d1b8b55e40b5</td>\n",
       "      <td>1.0</td>\n",
       "      <td>[{'source_name': 'CheckPoint Volatile Cedar Ma...</td>\n",
       "    </tr>\n",
       "    <tr>\n",
       "      <th>2</th>\n",
       "      <td>relationship</td>\n",
       "      <td>2.1</td>\n",
       "      <td>relationship--00069454-a469-4905-97fd-b4057e86...</td>\n",
       "      <td>identity--c78cb6e5-0c4b-4611-8297-d1b8b55e40b5</td>\n",
       "      <td>2022-03-30T14:26:51.834Z</td>\n",
       "      <td>2022-05-24T14:00:00.188Z</td>\n",
       "      <td>detects</td>\n",
       "      <td>Monitor network data for uncommon data flows. ...</td>\n",
       "      <td>x-mitre-data-component--a7f22107-02e5-4982-906...</td>\n",
       "      <td>attack-pattern--18cffc21-3260-437e-80e4-4ab8bf...</td>\n",
       "      <td>[marking-definition--fa42a846-8d90-4e51-bc29-7...</td>\n",
       "      <td>2.1.0</td>\n",
       "      <td>NaN</td>\n",
       "      <td>identity--c78cb6e5-0c4b-4611-8297-d1b8b55e40b5</td>\n",
       "      <td>1.0</td>\n",
       "      <td>NaN</td>\n",
       "    </tr>\n",
       "    <tr>\n",
       "      <th>3</th>\n",
       "      <td>relationship</td>\n",
       "      <td>2.1</td>\n",
       "      <td>relationship--0040fdbd-ec7e-49b3-b715-c8c91e08...</td>\n",
       "      <td>identity--c78cb6e5-0c4b-4611-8297-d1b8b55e40b5</td>\n",
       "      <td>2017-12-14T16:46:06.044Z</td>\n",
       "      <td>2021-08-27T14:42:00.464Z</td>\n",
       "      <td>uses</td>\n",
       "      <td>Variants of [Emissary](https://attack.mitre.or...</td>\n",
       "      <td>malware--0f862b01-99da-47cc-9bdb-db4a86a95bb1</td>\n",
       "      <td>attack-pattern--9efb1ea7-c37b-4595-9640-b7680c...</td>\n",
       "      <td>[marking-definition--fa42a846-8d90-4e51-bc29-7...</td>\n",
       "      <td>2.1.0</td>\n",
       "      <td>NaN</td>\n",
       "      <td>identity--c78cb6e5-0c4b-4611-8297-d1b8b55e40b5</td>\n",
       "      <td>1.0</td>\n",
       "      <td>[{'source_name': 'Emissary Trojan Feb 2016', '...</td>\n",
       "    </tr>\n",
       "  </tbody>\n",
       "</table>\n",
       "</div>"
      ],
      "text/plain": [
       "           type spec_version  \\\n",
       "0  relationship          2.1   \n",
       "1  relationship          2.1   \n",
       "2  relationship          2.1   \n",
       "3  relationship          2.1   \n",
       "\n",
       "                                                  id  \\\n",
       "0  relationship--0005fb3b-274a-4ac1-8fb2-51366fcd...   \n",
       "1  relationship--00038d0e-7fc7-41c3-9055-edb4d87e...   \n",
       "2  relationship--00069454-a469-4905-97fd-b4057e86...   \n",
       "3  relationship--0040fdbd-ec7e-49b3-b715-c8c91e08...   \n",
       "\n",
       "                                   created_by_ref                   created  \\\n",
       "0  identity--c78cb6e5-0c4b-4611-8297-d1b8b55e40b5  2023-09-01T21:33:59.394Z   \n",
       "1  identity--c78cb6e5-0c4b-4611-8297-d1b8b55e40b5  2021-04-27T01:56:35.810Z   \n",
       "2  identity--c78cb6e5-0c4b-4611-8297-d1b8b55e40b5  2022-03-30T14:26:51.834Z   \n",
       "3  identity--c78cb6e5-0c4b-4611-8297-d1b8b55e40b5  2017-12-14T16:46:06.044Z   \n",
       "\n",
       "                   modified relationship_type  \\\n",
       "0  2023-09-01T21:33:59.394Z         mitigates   \n",
       "1  2021-04-27T01:56:35.810Z              uses   \n",
       "2  2022-05-24T14:00:00.188Z           detects   \n",
       "3  2021-08-27T14:42:00.464Z              uses   \n",
       "\n",
       "                                         description  \\\n",
       "0  Consider blocking download/transfer and execut...   \n",
       "1   [Explosive](https://attack.mitre.org/software...   \n",
       "2  Monitor network data for uncommon data flows. ...   \n",
       "3  Variants of [Emissary](https://attack.mitre.or...   \n",
       "\n",
       "                                          source_ref  \\\n",
       "0  course-of-action--21da4fd4-27ad-4e9c-b93d-0b9b...   \n",
       "1      malware--6a21e3a4-5ffe-4581-af9a-6a54c7536f44   \n",
       "2  x-mitre-data-component--a7f22107-02e5-4982-906...   \n",
       "3      malware--0f862b01-99da-47cc-9bdb-db4a86a95bb1   \n",
       "\n",
       "                                          target_ref  \\\n",
       "0  attack-pattern--43c9bc06-715b-42db-972f-52d25c...   \n",
       "1  attack-pattern--707399d6-ab3e-4963-9315-d9d381...   \n",
       "2  attack-pattern--18cffc21-3260-437e-80e4-4ab8bf...   \n",
       "3  attack-pattern--9efb1ea7-c37b-4595-9640-b7680c...   \n",
       "\n",
       "                                 object_marking_refs  \\\n",
       "0  [marking-definition--fa42a846-8d90-4e51-bc29-7...   \n",
       "1  [marking-definition--fa42a846-8d90-4e51-bc29-7...   \n",
       "2  [marking-definition--fa42a846-8d90-4e51-bc29-7...   \n",
       "3  [marking-definition--fa42a846-8d90-4e51-bc29-7...   \n",
       "\n",
       "  x_mitre_attack_spec_version x_mitre_deprecated  \\\n",
       "0                       3.1.0              False   \n",
       "1                       2.1.0                NaN   \n",
       "2                       2.1.0                NaN   \n",
       "3                       2.1.0                NaN   \n",
       "\n",
       "                          x_mitre_modified_by_ref x_mitre_version  \\\n",
       "0  identity--c78cb6e5-0c4b-4611-8297-d1b8b55e40b5             0.1   \n",
       "1  identity--c78cb6e5-0c4b-4611-8297-d1b8b55e40b5             1.0   \n",
       "2  identity--c78cb6e5-0c4b-4611-8297-d1b8b55e40b5             1.0   \n",
       "3  identity--c78cb6e5-0c4b-4611-8297-d1b8b55e40b5             1.0   \n",
       "\n",
       "                                 external_references  \n",
       "0                                                NaN  \n",
       "1  [{'source_name': 'CheckPoint Volatile Cedar Ma...  \n",
       "2                                                NaN  \n",
       "3  [{'source_name': 'Emissary Trojan Feb 2016', '...  "
      ]
     },
     "execution_count": 22,
     "metadata": {},
     "output_type": "execute_result"
    }
   ],
   "source": [
    "relations_list = []\n",
    "for t in relationships:\n",
    "    relations_list.append(json.loads(t.serialize()))\n",
    "df = pandas.json_normalize(relations_list)\n",
    "df[0:4]"
   ]
  },
  {
   "cell_type": "markdown",
   "metadata": {},
   "source": [
    "## Get All Data Sources\n",
    "Now that `data sources` are part of the ATT&CK data model as objects, we can retrieve all that information at once."
   ]
  },
  {
   "cell_type": "code",
   "execution_count": 23,
   "metadata": {},
   "outputs": [],
   "source": [
    "data_sources = lift.get_data_sources()"
   ]
  },
  {
   "cell_type": "code",
   "execution_count": 24,
   "metadata": {},
   "outputs": [
    {
     "name": "stdout",
     "output_type": "stream",
     "text": [
      "Number of Data Sources in ATT&CK\n"
     ]
    },
    {
     "data": {
      "text/plain": [
       "42"
      ]
     },
     "execution_count": 24,
     "metadata": {},
     "output_type": "execute_result"
    }
   ],
   "source": [
    "print(\"Number of Data Sources in ATT&CK\")\n",
    "len(data_sources)"
   ]
  },
  {
   "cell_type": "code",
   "execution_count": 25,
   "metadata": {},
   "outputs": [
    {
     "data": {
      "text/plain": [
       "{'id': 'x-mitre-data-source--2cd6cc81-d86e-4595-a4f0-43f5519f14e6',\n",
       " 'modified': '2022-04-25T14:00:00.188Z',\n",
       " 'created': '2021-10-20T15:05:19.271Z',\n",
       " 'type': 'x-mitre-data-source',\n",
       " 'spec_version': '2.1',\n",
       " 'name': 'WMI',\n",
       " 'description': 'The infrastructure for management data and operations that enables local and remote management of Windows personal computers and servers(Citation: Microsoft WMI System Classes)(Citation: Microsoft WMI Architecture)',\n",
       " 'x_mitre_modified_by_ref': 'identity--c78cb6e5-0c4b-4611-8297-d1b8b55e40b5',\n",
       " 'x_mitre_platforms': ['Windows'],\n",
       " 'x_mitre_domains': ['enterprise-attack'],\n",
       " 'x_mitre_version': '1.0',\n",
       " 'x_mitre_attack_spec_version': '2.1.0',\n",
       " 'x_mitre_contributors': ['Center for Threat-Informed Defense (CTID)'],\n",
       " 'x_mitre_collection_layers': ['Host'],\n",
       " 'created_by_ref': 'identity--c78cb6e5-0c4b-4611-8297-d1b8b55e40b5',\n",
       " 'external_references': [{'source_name': 'mitre-attack',\n",
       "   'url': 'https://attack.mitre.org/datasources/DS0005',\n",
       "   'external_id': 'DS0005'},\n",
       "  {'source_name': 'Microsoft WMI System Classes',\n",
       "   'description': 'Microsoft. (2018, May 31). WMI System Classes. Retrieved September 29, 2021.',\n",
       "   'url': 'https://docs.microsoft.com/en-us/windows/win32/wmisdk/wmi-system-classes'},\n",
       "  {'source_name': 'Microsoft WMI Architecture',\n",
       "   'description': 'Microsoft. (2018, May 31). WMI Architecture. Retrieved September 29, 2021.',\n",
       "   'url': 'https://docs.microsoft.com/en-us/windows/win32/wmisdk/wmi-architecture'}],\n",
       " 'object_marking_refs': ['marking-definition--fa42a846-8d90-4e51-bc29-71d5b4802168']}"
      ]
     },
     "execution_count": 25,
     "metadata": {},
     "output_type": "execute_result"
    }
   ],
   "source": [
    "data_sources[0]"
   ]
  },
  {
   "cell_type": "markdown",
   "metadata": {},
   "source": [
    "## Get All Data Components\n",
    "Now that `data components` are also part of the ATT&CK data model as objects, we can retrieve all that information at once."
   ]
  },
  {
   "cell_type": "code",
   "execution_count": 26,
   "metadata": {},
   "outputs": [],
   "source": [
    "data_components = lift.get_data_components()"
   ]
  },
  {
   "cell_type": "code",
   "execution_count": 27,
   "metadata": {},
   "outputs": [
    {
     "name": "stdout",
     "output_type": "stream",
     "text": [
      "Number of data components in ATT&CK\n"
     ]
    },
    {
     "data": {
      "text/plain": [
       "119"
      ]
     },
     "execution_count": 27,
     "metadata": {},
     "output_type": "execute_result"
    }
   ],
   "source": [
    "print(\"Number of data components in ATT&CK\")\n",
    "len(data_components)"
   ]
  },
  {
   "cell_type": "code",
   "execution_count": 28,
   "metadata": {},
   "outputs": [
    {
     "data": {
      "text/plain": [
       "{'id': 'x-mitre-data-component--685f917a-e95e-4ba0-ade1-c7d354dae6e0',\n",
       " 'modified': '2022-10-07T16:14:39.124Z',\n",
       " 'created': '2021-10-20T15:05:19.273Z',\n",
       " 'type': 'x-mitre-data-component',\n",
       " 'spec_version': '2.1',\n",
       " 'name': 'Command Execution',\n",
       " 'description': 'The execution of a line of text, potentially with arguments, created from program code (e.g. a cmdlet executed via powershell.exe, interactive commands like >dir, shell executions, etc. )',\n",
       " 'x_mitre_data_source_ref': 'x-mitre-data-source--73691708-ffb5-4e29-906d-f485f6fa7089',\n",
       " 'x_mitre_modified_by_ref': 'identity--c78cb6e5-0c4b-4611-8297-d1b8b55e40b5',\n",
       " 'x_mitre_deprecated': False,\n",
       " 'x_mitre_domains': ['enterprise-attack'],\n",
       " 'x_mitre_version': '1.1',\n",
       " 'x_mitre_attack_spec_version': '2.1.0',\n",
       " 'created_by_ref': 'identity--c78cb6e5-0c4b-4611-8297-d1b8b55e40b5',\n",
       " 'revoked': False,\n",
       " 'object_marking_refs': ['marking-definition--fa42a846-8d90-4e51-bc29-71d5b4802168'],\n",
       " 'external_references': []}"
      ]
     },
     "execution_count": 28,
     "metadata": {},
     "output_type": "execute_result"
    }
   ],
   "source": [
    "data_components[0]"
   ]
  }
 ],
 "metadata": {
  "kernelspec": {
   "display_name": ".venv",
   "language": "python",
   "name": "python3"
  },
  "language_info": {
   "codemirror_mode": {
    "name": "ipython",
    "version": 3
   },
   "file_extension": ".py",
   "mimetype": "text/x-python",
   "name": "python",
   "nbconvert_exporter": "python",
   "pygments_lexer": "ipython3",
   "version": "3.13.0"
  }
 },
 "nbformat": 4,
 "nbformat_minor": 4
}
