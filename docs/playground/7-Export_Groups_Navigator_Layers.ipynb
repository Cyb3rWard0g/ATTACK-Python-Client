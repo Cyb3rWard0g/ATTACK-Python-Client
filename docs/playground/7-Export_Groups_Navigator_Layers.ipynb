{
 "cells": [
  {
   "cell_type": "markdown",
   "metadata": {},
   "source": [
    "# Exporting ATT&CK Group Navigator Layers"
   ]
  },
  {
   "cell_type": "markdown",
   "metadata": {},
   "source": [
    "## Get Relationship STIX Objects - (Manual)\n",
    "-----------------------\n",
    "I believe it is important to understand the code behind the main functions available in the Python library [attackcti](https://attackcti.readthedocs.io/en/latest/index.html). I highly recommend to first read the docs I put together about [cti-taxii-client](https://attackcti.readthedocs.io/en/latest/taxii_client.html) and [cti-python-stix2](https://attackcti.readthedocs.io/en/latest/stix.html) libraries.\n",
    "Those two summarize several of the concepts that I had to read to understand how to perform a simple query against ATT&CK's TAXII server"
   ]
  },
  {
   "cell_type": "markdown",
   "metadata": {},
   "source": [
    "## Import STIX and TAXII Libraries"
   ]
  },
  {
   "cell_type": "code",
   "execution_count": 3,
   "metadata": {},
   "outputs": [],
   "source": [
    "from stix2 import TAXIICollectionSource, Filter, CompositeDataSource\n",
    "from taxii2client.v21 import Collection"
   ]
  },
  {
   "cell_type": "markdown",
   "metadata": {},
   "source": [
    "## Set ATT&CK TAXII Collection ID Variables\n",
    "The public ATT&CK TAXII instance has three main collections (Enterprise, Pre and Mobile). Every collection has an ID which attackcti uses to retrieve ATT&CK STIX objects from all those matrices."
   ]
  },
  {
   "cell_type": "code",
   "execution_count": 1,
   "metadata": {},
   "outputs": [],
   "source": [
    "ATTACK_STIX_COLLECTIONS = \"https://attack-taxii.mitre.org/api/v21/collections/\"\n",
    "ENTERPRISE_ATTACK = \"x-mitre-collection--1f5f1533-f617-4ca8-9ab4-6a02367fa019\"\n",
    "MOBILE_ATTACK = \"x-mitre-collection--dac0d2d7-8653-445c-9bff-82f934c1e858\"\n",
    "ICS_ATTACK = \"x-mitre-collection--90c00720-636b-4485-b342-8751d232bf09\""
   ]
  },
  {
   "cell_type": "markdown",
   "metadata": {},
   "source": [
    "## Initialize TAXII Collection Sources\n",
    "According to [STIX2 docs](https://stix2.readthedocs.io/en/latest/index.html), the [TAXIICollectionSource API](https://stix2.readthedocs.io/en/latest/api/datastore/stix2.datastore.taxii.html#stix2.datastore.taxii.TAXIICollectionSource) provides an interface for searching/retrieving STIX objects from a local/remote TAXII Collection endpoint. In our case, we are pointing to our ATT&CK TAXII Collection instances (https://cti-taxii.mitre.org/stix/collections/<Collection ID>)"
   ]
  },
  {
   "cell_type": "code",
   "execution_count": 4,
   "metadata": {},
   "outputs": [],
   "source": [
    "ENTERPRISE_COLLECTION = Collection(ATTACK_STIX_COLLECTIONS + ENTERPRISE_ATTACK + \"/\")\n",
    "TC_ENTERPRISE_SOURCE = TAXIICollectionSource(ENTERPRISE_COLLECTION)\n",
    "MOBILE_COLLECTION = Collection(ATTACK_STIX_COLLECTIONS + MOBILE_ATTACK + \"/\")\n",
    "TC_MOBILE_SOURCE = TAXIICollectionSource(MOBILE_COLLECTION)\n",
    "ICS_COLLECTION = Collection(ATTACK_STIX_COLLECTIONS + ICS_ATTACK + \"/\")\n",
    "TC_ICS_SOURCE = TAXIICollectionSource(ICS_COLLECTION)"
   ]
  },
  {
   "cell_type": "markdown",
   "metadata": {},
   "source": [
    "## Initialize a Composite Data Source\n",
    "According to [STIX2 docs](https://stix2.readthedocs.io/en/latest/index.html), a user can have a single [CompositeDataSource](https://stix2.readthedocs.io/en/latest/api/stix2.datastore.html#stix2.datastore.CompositeDataSource) as an interface to a set of DataSources. When an API call is made to the CompositeDataSource, it is delegated to each of the (real) DataSources that are attached to it. In our case, we have three TAXIICollection sources (Enterprise, PRE and Mobile) as defined in our previous step. Therefore, we can use the CompositeDataSource class and the add_data_sources method to attach every ATT&CK TAXIICollection source and be able to query all of them at the same time."
   ]
  },
  {
   "cell_type": "code",
   "execution_count": 5,
   "metadata": {},
   "outputs": [],
   "source": [
    "COMPOSITE_DS = CompositeDataSource()\n",
    "COMPOSITE_DS.add_data_sources([TC_ENTERPRISE_SOURCE, TC_MOBILE_SOURCE, TC_ICS_SOURCE])"
   ]
  },
  {
   "cell_type": "markdown",
   "metadata": {},
   "source": [
    "## Retrieve all relationships\n",
    "Now that we can query all the ATT&CK TAXIICollection sources at once, we can use the query method and a set of filters to retrieve STIX objects of type relationship"
   ]
  },
  {
   "cell_type": "code",
   "execution_count": 6,
   "metadata": {},
   "outputs": [
    {
     "data": {
      "text/plain": [
       "Relationship(type='relationship', spec_version='2.1', id='relationship--0005fb3b-274a-4ac1-8fb2-51366fcd1a6b', created_by_ref='identity--c78cb6e5-0c4b-4611-8297-d1b8b55e40b5', created='2023-09-01T21:33:59.394Z', modified='2023-09-01T21:33:59.394Z', relationship_type='mitigates', description='Consider blocking download/transfer and execution of potentially uncommon file types known to be used in adversary campaigns.', source_ref='course-of-action--21da4fd4-27ad-4e9c-b93d-0b9b14d02c96', target_ref='attack-pattern--43c9bc06-715b-42db-972f-52d25c09a20c', revoked=False, object_marking_refs=['marking-definition--fa42a846-8d90-4e51-bc29-71d5b4802168'], x_mitre_attack_spec_version='3.1.0', x_mitre_deprecated=False, x_mitre_modified_by_ref='identity--c78cb6e5-0c4b-4611-8297-d1b8b55e40b5', x_mitre_version='0.1')"
      ]
     },
     "execution_count": 6,
     "metadata": {},
     "output_type": "execute_result"
    }
   ],
   "source": [
    "rels = COMPOSITE_DS.query(Filter(\"type\", \"=\", \"relationship\"))\n",
    "rels[0]"
   ]
  },
  {
   "cell_type": "markdown",
   "metadata": {},
   "source": [
    "## Retrieve all relationships from an specific STIX object\n",
    "What if you want to be very specific and get relationships from a specific STIX objects? You can use the [relationships](https://stix2.readthedocs.io/en/latest/api/stix2.datastore.html#stix2.datastore.CompositeDataSource.relationships) method from the [CompositeDataSource](https://stix2.readthedocs.io/en/latest/api/stix2.datastore.html#stix2.datastore.CompositeDataSource) class to retrieve relationships involving a given STIX object."
   ]
  },
  {
   "cell_type": "code",
   "execution_count": 7,
   "metadata": {},
   "outputs": [
    {
     "data": {
      "text/plain": [
       "Relationship(type='relationship', spec_version='2.1', id='relationship--83cfa11e-f221-4dc4-b184-943c2c7f4562', created_by_ref='identity--c78cb6e5-0c4b-4611-8297-d1b8b55e40b5', created='2017-05-31T21:33:27.032Z', modified='2020-02-05T14:58:20.740Z', relationship_type='uses', description='[Moafee](https://attack.mitre.org/groups/G0002) has been known to employ binary padding.(Citation: Haq 2014)', source_ref='intrusion-set--2e5d3a83-fe00-41a5-9b60-237efc84832f', target_ref='attack-pattern--5bfccc3f-2326-4112-86cc-c1ece9d8a2b5', revoked=False, external_references=[ExternalReference(source_name='Haq 2014', description='Haq, T., Moran, N., Scott, M., & Vashisht, S. O. (2014, September 10). The Path to Mass-Producing Cyber Attacks &#91;Blog&#93;. Retrieved November 12, 2014.', url='https://www.fireeye.com/blog/threat-research/2014/09/the-path-to-mass-producing-cyber-attacks.html')], object_marking_refs=['marking-definition--fa42a846-8d90-4e51-bc29-71d5b4802168'], x_mitre_attack_spec_version='2.1.0', x_mitre_modified_by_ref='identity--c78cb6e5-0c4b-4611-8297-d1b8b55e40b5', x_mitre_version='1.0')"
      ]
     },
     "execution_count": 7,
     "metadata": {},
     "output_type": "execute_result"
    }
   ],
   "source": [
    "from attackcti import attack_client\n",
    "lift = attack_client()\n",
    "\n",
    "groups = lift.get_groups()\n",
    "\n",
    "rels = COMPOSITE_DS.relationships(groups[0], 'uses', source_only=True)\n",
    "rels[0]"
   ]
  },
  {
   "cell_type": "markdown",
   "metadata": {},
   "source": [
    "# Get Relationship STIX Objects - (Automatic)\n",
    "-----------------------"
   ]
  },
  {
   "cell_type": "markdown",
   "metadata": {},
   "source": [
    "## Retrieve all relationships"
   ]
  },
  {
   "cell_type": "code",
   "execution_count": 8,
   "metadata": {},
   "outputs": [],
   "source": [
    "from attackcti import attack_client\n",
    "lift = attack_client()"
   ]
  },
  {
   "cell_type": "code",
   "execution_count": 9,
   "metadata": {},
   "outputs": [
    {
     "name": "stdout",
     "output_type": "stream",
     "text": [
      "CPU times: user 2.41 s, sys: 140 ms, total: 2.55 s\n",
      "Wall time: 21.1 s\n"
     ]
    }
   ],
   "source": [
    "%time all_relationships = lift.get_relationships()"
   ]
  },
  {
   "cell_type": "code",
   "execution_count": 10,
   "metadata": {},
   "outputs": [
    {
     "data": {
      "text/plain": [
       "Relationship(type='relationship', spec_version='2.1', id='relationship--0005fb3b-274a-4ac1-8fb2-51366fcd1a6b', created_by_ref='identity--c78cb6e5-0c4b-4611-8297-d1b8b55e40b5', created='2023-09-01T21:33:59.394Z', modified='2023-09-01T21:33:59.394Z', relationship_type='mitigates', description='Consider blocking download/transfer and execution of potentially uncommon file types known to be used in adversary campaigns.', source_ref='course-of-action--21da4fd4-27ad-4e9c-b93d-0b9b14d02c96', target_ref='attack-pattern--43c9bc06-715b-42db-972f-52d25c09a20c', revoked=False, object_marking_refs=['marking-definition--fa42a846-8d90-4e51-bc29-71d5b4802168'], x_mitre_attack_spec_version='3.1.0', x_mitre_deprecated=False, x_mitre_modified_by_ref='identity--c78cb6e5-0c4b-4611-8297-d1b8b55e40b5', x_mitre_version='0.1')"
      ]
     },
     "execution_count": 10,
     "metadata": {},
     "output_type": "execute_result"
    }
   ],
   "source": [
    "all_relationships[0]"
   ]
  },
  {
   "cell_type": "markdown",
   "metadata": {},
   "source": [
    "## Retrieve all relationships from an specific STIX object"
   ]
  },
  {
   "cell_type": "code",
   "execution_count": 11,
   "metadata": {},
   "outputs": [],
   "source": [
    "groups = lift.get_groups()"
   ]
  },
  {
   "cell_type": "code",
   "execution_count": 12,
   "metadata": {},
   "outputs": [
    {
     "name": "stdout",
     "output_type": "stream",
     "text": [
      "CPU times: user 607 ms, sys: 186 ms, total: 793 ms\n",
      "Wall time: 37.8 s\n"
     ]
    }
   ],
   "source": [
    "%time group_relationships = lift.get_relationships_by_object(groups[0])"
   ]
  },
  {
   "cell_type": "code",
   "execution_count": 13,
   "metadata": {},
   "outputs": [
    {
     "data": {
      "text/plain": [
       "Relationship(type='relationship', spec_version='2.1', id='relationship--83cfa11e-f221-4dc4-b184-943c2c7f4562', created_by_ref='identity--c78cb6e5-0c4b-4611-8297-d1b8b55e40b5', created='2017-05-31T21:33:27.032Z', modified='2020-02-05T14:58:20.740Z', relationship_type='uses', description='[Moafee](https://attack.mitre.org/groups/G0002) has been known to employ binary padding.(Citation: Haq 2014)', source_ref='intrusion-set--2e5d3a83-fe00-41a5-9b60-237efc84832f', target_ref='attack-pattern--5bfccc3f-2326-4112-86cc-c1ece9d8a2b5', revoked=False, external_references=[ExternalReference(source_name='Haq 2014', description='Haq, T., Moran, N., Scott, M., & Vashisht, S. O. (2014, September 10). The Path to Mass-Producing Cyber Attacks &#91;Blog&#93;. Retrieved November 12, 2014.', url='https://www.fireeye.com/blog/threat-research/2014/09/the-path-to-mass-producing-cyber-attacks.html')], object_marking_refs=['marking-definition--fa42a846-8d90-4e51-bc29-71d5b4802168'], x_mitre_attack_spec_version='2.1.0', x_mitre_modified_by_ref='identity--c78cb6e5-0c4b-4611-8297-d1b8b55e40b5', x_mitre_version='1.0')"
      ]
     },
     "execution_count": 13,
     "metadata": {},
     "output_type": "execute_result"
    }
   ],
   "source": [
    "group_relationships[0]"
   ]
  },
  {
   "cell_type": "markdown",
   "metadata": {},
   "source": [
    "# Retrive Techniques used by one Group - (Manual)\n",
    "-----------------------"
   ]
  },
  {
   "cell_type": "markdown",
   "metadata": {},
   "source": [
    "In this case we want relationship objects that have target_ref values of type attack-pattern. Following the manual code I shared above, and the results from the `get_relationships_by_object()` function, you can simply query the ATT&CK Enterprise TAXIICollection source with the filter below"
   ]
  },
  {
   "cell_type": "code",
   "execution_count": 14,
   "metadata": {},
   "outputs": [
    {
     "data": {
      "text/plain": [
       "AttackPattern(type='attack-pattern', spec_version='2.1', id='attack-pattern--5bfccc3f-2326-4112-86cc-c1ece9d8a2b5', created_by_ref='identity--c78cb6e5-0c4b-4611-8297-d1b8b55e40b5', created='2020-02-05T14:04:25.865Z', modified='2023-03-30T21:01:53.857Z', name='Binary Padding', description='Adversaries may use binary padding to add junk data and change the on-disk representation of malware. This can be done without affecting the functionality or behavior of a binary, but can increase the size of the binary beyond what some security tools are capable of handling due to file size limitations. \\n\\nBinary padding effectively changes the checksum of the file and can also be used to avoid hash-based blocklists and static anti-virus signatures.(Citation: ESET OceanLotus) The padding used is commonly generated by a function to create junk data and then appended to the end or applied to sections of malware.(Citation: Securelist Malware Tricks April 2017) Increasing the file size may decrease the effectiveness of certain tools and detection capabilities that are not designed or configured to scan large files. This may also reduce the likelihood of being collected for analysis. Public file scanning services, such as VirusTotal, limits the maximum size of an uploaded file to be analyzed.(Citation: VirusTotal FAQ) ', kill_chain_phases=[KillChainPhase(kill_chain_name='mitre-attack', phase_name='defense-evasion')], revoked=False, external_references=[ExternalReference(source_name='mitre-attack', url='https://attack.mitre.org/techniques/T1027/001', external_id='T1027.001'), ExternalReference(source_name='ESET OceanLotus', description='Foltýn, T. (2018, March 13). OceanLotus ships new backdoor using old tricks. Retrieved May 22, 2018.', url='https://www.welivesecurity.com/2018/03/13/oceanlotus-ships-new-backdoor/'), ExternalReference(source_name='Securelist Malware Tricks April 2017', description='Ishimaru, S.. (2017, April 13). Old Malware Tricks To Bypass Detection in the Age of Big Data. Retrieved May 30, 2019.', url='https://securelist.com/old-malware-tricks-to-bypass-detection-in-the-age-of-big-data/78010/'), ExternalReference(source_name='VirusTotal FAQ', description='VirusTotal. (n.d.). VirusTotal FAQ. Retrieved May 23, 2019.', url='https://www.virustotal.com/en/faq/')], object_marking_refs=['marking-definition--fa42a846-8d90-4e51-bc29-71d5b4802168'], x_mitre_attack_spec_version='3.1.0', x_mitre_contributors=['Martin Jirkal, ESET'], x_mitre_data_sources=['File: File Metadata'], x_mitre_defense_bypassed=['Anti-virus', 'Signature-based detection'], x_mitre_detection='Depending on the method used to pad files, a file-based signature may be capable of detecting padding using a scanning or on-access based tool.  When executed, the resulting process from padded files may also exhibit other behavior characteristics of being used to conduct an intrusion such as system and network information Discovery or Lateral Movement, which could be used as event indicators that point to the source file. ', x_mitre_domains=['enterprise-attack'], x_mitre_is_subtechnique=True, x_mitre_modified_by_ref='identity--c78cb6e5-0c4b-4611-8297-d1b8b55e40b5', x_mitre_platforms=['Linux', 'macOS', 'Windows'], x_mitre_version='1.2')"
      ]
     },
     "execution_count": 14,
     "metadata": {},
     "output_type": "execute_result"
    }
   ],
   "source": [
    "filter_objects = [\n",
    "  Filter('type', '=', 'attack-pattern'),\n",
    "  Filter('id', '=', [r.target_ref for r in group_relationships])\n",
    "]\n",
    "techniques_used = TC_ENTERPRISE_SOURCE.query(filter_objects)\n",
    "techniques_used[0]"
   ]
  },
  {
   "cell_type": "markdown",
   "metadata": {},
   "source": [
    "# Retrive Techniques used by one Group - (Automatic)\n",
    "-----------------------"
   ]
  },
  {
   "cell_type": "code",
   "execution_count": 15,
   "metadata": {},
   "outputs": [
    {
     "data": {
      "text/plain": [
       "AttackPattern(type='attack-pattern', spec_version='2.1', id='attack-pattern--5bfccc3f-2326-4112-86cc-c1ece9d8a2b5', created_by_ref='identity--c78cb6e5-0c4b-4611-8297-d1b8b55e40b5', created='2020-02-05T14:04:25.865Z', modified='2023-03-30T21:01:53.857Z', name='Binary Padding', description='Adversaries may use binary padding to add junk data and change the on-disk representation of malware. This can be done without affecting the functionality or behavior of a binary, but can increase the size of the binary beyond what some security tools are capable of handling due to file size limitations. \\n\\nBinary padding effectively changes the checksum of the file and can also be used to avoid hash-based blocklists and static anti-virus signatures.(Citation: ESET OceanLotus) The padding used is commonly generated by a function to create junk data and then appended to the end or applied to sections of malware.(Citation: Securelist Malware Tricks April 2017) Increasing the file size may decrease the effectiveness of certain tools and detection capabilities that are not designed or configured to scan large files. This may also reduce the likelihood of being collected for analysis. Public file scanning services, such as VirusTotal, limits the maximum size of an uploaded file to be analyzed.(Citation: VirusTotal FAQ) ', kill_chain_phases=[KillChainPhase(kill_chain_name='mitre-attack', phase_name='defense-evasion')], revoked=False, external_references=[ExternalReference(source_name='mitre-attack', url='https://attack.mitre.org/techniques/T1027/001', external_id='T1027.001'), ExternalReference(source_name='ESET OceanLotus', description='Foltýn, T. (2018, March 13). OceanLotus ships new backdoor using old tricks. Retrieved May 22, 2018.', url='https://www.welivesecurity.com/2018/03/13/oceanlotus-ships-new-backdoor/'), ExternalReference(source_name='Securelist Malware Tricks April 2017', description='Ishimaru, S.. (2017, April 13). Old Malware Tricks To Bypass Detection in the Age of Big Data. Retrieved May 30, 2019.', url='https://securelist.com/old-malware-tricks-to-bypass-detection-in-the-age-of-big-data/78010/'), ExternalReference(source_name='VirusTotal FAQ', description='VirusTotal. (n.d.). VirusTotal FAQ. Retrieved May 23, 2019.', url='https://www.virustotal.com/en/faq/')], object_marking_refs=['marking-definition--fa42a846-8d90-4e51-bc29-71d5b4802168'], x_mitre_attack_spec_version='3.1.0', x_mitre_contributors=['Martin Jirkal, ESET'], x_mitre_data_sources=['File: File Metadata'], x_mitre_defense_bypassed=['Anti-virus', 'Signature-based detection'], x_mitre_detection='Depending on the method used to pad files, a file-based signature may be capable of detecting padding using a scanning or on-access based tool.  When executed, the resulting process from padded files may also exhibit other behavior characteristics of being used to conduct an intrusion such as system and network information Discovery or Lateral Movement, which could be used as event indicators that point to the source file. ', x_mitre_domains=['enterprise-attack'], x_mitre_is_subtechnique=True, x_mitre_modified_by_ref='identity--c78cb6e5-0c4b-4611-8297-d1b8b55e40b5', x_mitre_platforms=['Linux', 'macOS', 'Windows'], x_mitre_version='1.2')"
      ]
     },
     "execution_count": 15,
     "metadata": {},
     "output_type": "execute_result"
    }
   ],
   "source": [
    "from attackcti import attack_client\n",
    "lift = attack_client()\n",
    "groups = lift.get_groups()\n",
    "group_techniques = lift.get_techniques_used_by_group(groups[0])\n",
    "group_techniques[0]"
   ]
  },
  {
   "cell_type": "markdown",
   "metadata": {},
   "source": [
    "# Retrive all Techniques used by all Groups - (Manual)\n",
    "-----------------------\n",
    "You can apply the same get_techniques_used_by_group() function, but against all the groups STIX objects that the get_groups() function retrieves. You can do a simple for loop over more than 90 groups. However, it takes longer than what I would like it to take. Therefore, I decided to go a different route and started testing some code."
   ]
  },
  {
   "cell_type": "markdown",
   "metadata": {},
   "source": [
    "## Get all groups and techniques"
   ]
  },
  {
   "cell_type": "code",
   "execution_count": 16,
   "metadata": {},
   "outputs": [],
   "source": [
    "from attackcti import attack_client\n",
    "lift = attack_client()\n",
    "groups = lift.get_groups()\n",
    "techniques = lift.get_techniques()"
   ]
  },
  {
   "cell_type": "markdown",
   "metadata": {},
   "source": [
    "## Filter Group objects using techniques"
   ]
  },
  {
   "cell_type": "code",
   "execution_count": 17,
   "metadata": {},
   "outputs": [
    {
     "name": "stdout",
     "output_type": "stream",
     "text": [
      "{\"type\": \"relationship\", \"spec_version\": \"2.1\", \"id\": \"relationship--0068ee65-0945-4f69-ba81-163ffbc05e53\", \"created_by_ref\": \"identity--c78cb6e5-0c4b-4611-8297-d1b8b55e40b5\", \"created\": \"2019-05-24T17:02:44.371Z\", \"modified\": \"2020-03-31T14:49:39.188Z\", \"relationship_type\": \"uses\", \"description\": \"[WIRTE](https://attack.mitre.org/groups/G0090) has used PowerShell for script execution.(Citation: Lab52 WIRTE Apr 2019)\", \"source_ref\": \"intrusion-set--f8cb7b36-62ef-4488-8a6d-a7033e3271c1\", \"target_ref\": \"attack-pattern--970a3432-3237-47ad-bcca-7d8cbb217736\", \"external_references\": [{\"source_name\": \"Lab52 WIRTE Apr 2019\", \"description\": \"S2 Grupo. (2019, April 2). WIRTE Group attacking the Middle East. Retrieved May 24, 2019.\", \"url\": \"https://lab52.io/blog/wirte-group-attacking-the-middle-east/\"}], \"object_marking_refs\": [\"marking-definition--fa42a846-8d90-4e51-bc29-71d5b4802168\"], \"x_mitre_attack_spec_version\": \"2.1.0\", \"x_mitre_modified_by_ref\": \"identity--c78cb6e5-0c4b-4611-8297-d1b8b55e40b5\", \"x_mitre_version\": \"1.0\"}\n"
     ]
    }
   ],
   "source": [
    "from stix2.utils import get_type_from_id\n",
    "\n",
    "group_relationships = []\n",
    "for rel in all_relationships:\n",
    "    if get_type_from_id(rel.source_ref) == 'intrusion-set'\\\n",
    "    and get_type_from_id(rel.target_ref) == 'attack-pattern':\n",
    "        group_relationships.append(rel)\n",
    "len(group_relationships)\n",
    "print(group_relationships[0])"
   ]
  },
  {
   "cell_type": "markdown",
   "metadata": {},
   "source": [
    "## Match Group -> Relationships Intrusion-set ID\n",
    "Then, I just take all the group_relationships I got, and look for the specific `intrusion-set (Group)` id in the groups STIX objects. Once there is a match, I create new fields on the `intrusion-set (Group)` STIX object to add additional information about the `attack-pattern (Technique)` in the relationship object. The most important additional metadata is the target_ref field which points to the specific `attack-pattern (Technique)` id involving the `group`. The results are then added to a new list named `group_techniques_ref` ."
   ]
  },
  {
   "cell_type": "code",
   "execution_count": 18,
   "metadata": {},
   "outputs": [],
   "source": [
    "import json\n",
    "group_techniques_ref = []\n",
    "for g in groups:\n",
    "    for rel in group_relationships:\n",
    "        if g['id'] == rel['source_ref']:\n",
    "            gs = json.loads(g.serialize())\n",
    "            gs\n",
    "            gs['technique_ref'] = rel['target_ref']\n",
    "            gs['relationship_description'] = rel['description']\n",
    "            gs['relationship_id'] = rel['id']\n",
    "            group_techniques_ref.append(gs)"
   ]
  },
  {
   "cell_type": "markdown",
   "metadata": {},
   "source": [
    "## Match Attack-patterns -> Intrusion-set object ID\n",
    "I apply the same concept as before, and just loop through all the attack-pattern objects and look for the specific attack-pattern id in the initial relationships STIX objects. Once there is a match, I add additional information from the attack-pattern itself to the python dictionaries in the `group_techniques_ref` list. The results then get added to a new list named `groups_use_techniques`."
   ]
  },
  {
   "cell_type": "code",
   "execution_count": 19,
   "metadata": {},
   "outputs": [
    {
     "data": {
      "text/plain": [
       "{'type': 'intrusion-set',\n",
       " 'spec_version': '2.1',\n",
       " 'id': 'intrusion-set--2e5d3a83-fe00-41a5-9b60-237efc84832f',\n",
       " 'created_by_ref': 'identity--c78cb6e5-0c4b-4611-8297-d1b8b55e40b5',\n",
       " 'created': '2017-05-31T21:31:46.025Z',\n",
       " 'modified': '2022-04-25T14:00:00.188Z',\n",
       " 'name': 'Moafee',\n",
       " 'description': '[Moafee](https://attack.mitre.org/groups/G0002) is a threat group that appears to operate from the Guandong Province of China. Due to overlapping TTPs, including similar custom tools, Moafee is thought to have a direct or indirect relationship with the threat group [DragonOK](https://attack.mitre.org/groups/G0017). (Citation: Haq 2014)',\n",
       " 'aliases': ['Moafee'],\n",
       " 'external_references': [{'source_name': 'mitre-attack',\n",
       "   'url': 'https://attack.mitre.org/groups/G0002',\n",
       "   'external_id': 'G0002'},\n",
       "  {'source_name': 'Moafee', 'description': '(Citation: Haq 2014)'},\n",
       "  {'source_name': 'Haq 2014',\n",
       "   'description': 'Haq, T., Moran, N., Scott, M., & Vashisht, S. O. (2014, September 10). The Path to Mass-Producing Cyber Attacks &#91;Blog&#93;. Retrieved November 12, 2014.',\n",
       "   'url': 'https://www.fireeye.com/blog/threat-research/2014/09/the-path-to-mass-producing-cyber-attacks.html'}],\n",
       " 'object_marking_refs': ['marking-definition--fa42a846-8d90-4e51-bc29-71d5b4802168'],\n",
       " 'x_mitre_attack_spec_version': '2.1.0',\n",
       " 'x_mitre_domains': ['enterprise-attack'],\n",
       " 'x_mitre_modified_by_ref': 'identity--c78cb6e5-0c4b-4611-8297-d1b8b55e40b5',\n",
       " 'x_mitre_version': '1.1',\n",
       " 'technique_ref': 'attack-pattern--5bfccc3f-2326-4112-86cc-c1ece9d8a2b5',\n",
       " 'relationship_description': '[Moafee](https://attack.mitre.org/groups/G0002) has been known to employ binary padding.(Citation: Haq 2014)',\n",
       " 'relationship_id': 'relationship--83cfa11e-f221-4dc4-b184-943c2c7f4562',\n",
       " 'technique': 'Binary Padding',\n",
       " 'technique_description': 'Adversaries may use binary padding to add junk data and change the on-disk representation of malware. This can be done without affecting the functionality or behavior of a binary, but can increase the size of the binary beyond what some security tools are capable of handling due to file size limitations. \\n\\nBinary padding effectively changes the checksum of the file and can also be used to avoid hash-based blocklists and static anti-virus signatures.(Citation: ESET OceanLotus) The padding used is commonly generated by a function to create junk data and then appended to the end or applied to sections of malware.(Citation: Securelist Malware Tricks April 2017) Increasing the file size may decrease the effectiveness of certain tools and detection capabilities that are not designed or configured to scan large files. This may also reduce the likelihood of being collected for analysis. Public file scanning services, such as VirusTotal, limits the maximum size of an uploaded file to be analyzed.(Citation: VirusTotal FAQ) ',\n",
       " 'tactic': ['defense-evasion'],\n",
       " 'technique_id': 'T1027.001',\n",
       " 'matrix': 'mitre-attack',\n",
       " 'platform': ['Linux', 'macOS', 'Windows'],\n",
       " 'data_sources': ['File: File Metadata']}"
      ]
     },
     "execution_count": 19,
     "metadata": {},
     "output_type": "execute_result"
    }
   ],
   "source": [
    "groups_use_techniques = []\n",
    "for gt in group_techniques_ref:\n",
    "    for t in techniques:\n",
    "        if gt['technique_ref'] == t['id']:\n",
    "            tactic_list = list()\n",
    "            for phase in t['kill_chain_phases']:\n",
    "                tactic_list.append(phase['phase_name'])\n",
    "                gt['technique'] = t['name']\n",
    "                gt['technique_description'] = t['description']\n",
    "                gt['tactic'] = tactic_list\n",
    "                gt['technique_id'] = t['external_references'][0]['external_id']\n",
    "                gt['matrix'] =  t['external_references'][0]['source_name']\n",
    "                if 'x_mitre_platforms' in t.keys():\n",
    "                    gt['platform'] = t['x_mitre_platforms']\n",
    "                if 'x_mitre_data_sources' in t.keys():\n",
    "                    gt['data_sources'] = t['x_mitre_data_sources']\n",
    "                if 'x_mitre_permissions_required' in t.keys():\n",
    "                    gt['permissions_required'] = t['x_mitre_permissions_required']\n",
    "                if 'x_mitre_effective_permissions' in t.keys():\n",
    "                    gt['effective_permissions'] = t['x_mitre_effective_permissions']\n",
    "                groups_use_techniques.append(gt)\n",
    "groups_use_techniques[0]"
   ]
  },
  {
   "cell_type": "markdown",
   "metadata": {},
   "source": [
    "# Retrive all Techniques used by all Groups - (Automatic)\n",
    "-----------------------"
   ]
  },
  {
   "cell_type": "code",
   "execution_count": 20,
   "metadata": {},
   "outputs": [
    {
     "name": "stdout",
     "output_type": "stream",
     "text": [
      "CPU times: user 3.14 s, sys: 171 ms, total: 3.31 s\n",
      "Wall time: 29.7 s\n"
     ]
    }
   ],
   "source": [
    "from attackcti import attack_client\n",
    "lift = attack_client()\n",
    "\n",
    "%time techniques_used = lift.get_techniques_used_by_all_groups()"
   ]
  },
  {
   "cell_type": "code",
   "execution_count": 21,
   "metadata": {},
   "outputs": [
    {
     "data": {
      "text/plain": [
       "4046"
      ]
     },
     "execution_count": 21,
     "metadata": {},
     "output_type": "execute_result"
    }
   ],
   "source": [
    "len(techniques_used)"
   ]
  },
  {
   "cell_type": "code",
   "execution_count": 22,
   "metadata": {},
   "outputs": [
    {
     "data": {
      "text/plain": [
       "{'type': 'intrusion-set',\n",
       " 'spec_version': '2.1',\n",
       " 'id': 'intrusion-set--2e5d3a83-fe00-41a5-9b60-237efc84832f',\n",
       " 'created_by_ref': 'identity--c78cb6e5-0c4b-4611-8297-d1b8b55e40b5',\n",
       " 'created': '2017-05-31T21:31:46.025Z',\n",
       " 'modified': '2022-04-25T14:00:00.188Z',\n",
       " 'name': 'Moafee',\n",
       " 'description': '[Moafee](https://attack.mitre.org/groups/G0002) is a threat group that appears to operate from the Guandong Province of China. Due to overlapping TTPs, including similar custom tools, Moafee is thought to have a direct or indirect relationship with the threat group [DragonOK](https://attack.mitre.org/groups/G0017). (Citation: Haq 2014)',\n",
       " 'aliases': ['Moafee'],\n",
       " 'external_references': [{'source_name': 'mitre-attack',\n",
       "   'url': 'https://attack.mitre.org/groups/G0002',\n",
       "   'external_id': 'G0002'},\n",
       "  {'source_name': 'Moafee', 'description': '(Citation: Haq 2014)'},\n",
       "  {'source_name': 'Haq 2014',\n",
       "   'description': 'Haq, T., Moran, N., Scott, M., & Vashisht, S. O. (2014, September 10). The Path to Mass-Producing Cyber Attacks &#91;Blog&#93;. Retrieved November 12, 2014.',\n",
       "   'url': 'https://www.fireeye.com/blog/threat-research/2014/09/the-path-to-mass-producing-cyber-attacks.html'}],\n",
       " 'object_marking_refs': ['marking-definition--fa42a846-8d90-4e51-bc29-71d5b4802168'],\n",
       " 'x_mitre_attack_spec_version': '2.1.0',\n",
       " 'x_mitre_domains': ['enterprise-attack'],\n",
       " 'x_mitre_modified_by_ref': 'identity--c78cb6e5-0c4b-4611-8297-d1b8b55e40b5',\n",
       " 'x_mitre_version': '1.1',\n",
       " 'technique_ref': 'attack-pattern--5bfccc3f-2326-4112-86cc-c1ece9d8a2b5',\n",
       " 'relationship_description': '[Moafee](https://attack.mitre.org/groups/G0002) has been known to employ binary padding.(Citation: Haq 2014)',\n",
       " 'relationship_id': 'relationship--83cfa11e-f221-4dc4-b184-943c2c7f4562',\n",
       " 'revoked': False,\n",
       " 'technique': 'Binary Padding',\n",
       " 'technique_description': 'Adversaries may use binary padding to add junk data and change the on-disk representation of malware. This can be done without affecting the functionality or behavior of a binary, but can increase the size of the binary beyond what some security tools are capable of handling due to file size limitations. \\n\\nBinary padding effectively changes the checksum of the file and can also be used to avoid hash-based blocklists and static anti-virus signatures.(Citation: ESET OceanLotus) The padding used is commonly generated by a function to create junk data and then appended to the end or applied to sections of malware.(Citation: Securelist Malware Tricks April 2017) Increasing the file size may decrease the effectiveness of certain tools and detection capabilities that are not designed or configured to scan large files. This may also reduce the likelihood of being collected for analysis. Public file scanning services, such as VirusTotal, limits the maximum size of an uploaded file to be analyzed.(Citation: VirusTotal FAQ) ',\n",
       " 'tactic': [KillChainPhase(kill_chain_name='mitre-attack', phase_name='defense-evasion')],\n",
       " 'technique_id': 'T1027.001',\n",
       " 'technique_matrix': ['enterprise-attack'],\n",
       " 'platform': ['Linux', 'macOS', 'Windows'],\n",
       " 'data_sources': ['File: File Metadata']}"
      ]
     },
     "execution_count": 22,
     "metadata": {},
     "output_type": "execute_result"
    }
   ],
   "source": [
    "techniques_used[0]"
   ]
  },
  {
   "cell_type": "markdown",
   "metadata": {},
   "source": [
    "# Create Navigator Group Layer Files - (Manual)\n",
    "-----------------------"
   ]
  },
  {
   "cell_type": "markdown",
   "metadata": {},
   "source": [
    "## Create a list of group dictionaries\n",
    "To make things easier, I create a list of dictionaries where each group name is the main key and the value is a list where I append every single technique involving that group. I get that information from the `get_techniques_used_by_all_groups()` results."
   ]
  },
  {
   "cell_type": "code",
   "execution_count": 24,
   "metadata": {},
   "outputs": [
    {
     "data": {
      "text/plain": [
       "{'Inception': []}"
      ]
     },
     "execution_count": 24,
     "metadata": {},
     "output_type": "execute_result"
    }
   ],
   "source": [
    "groups = lift.get_groups()\n",
    "groups_list = []\n",
    "for g in groups:\n",
    "    group_dict = dict()\n",
    "    group_dict[g['name']] = []\n",
    "    groups_list.append(group_dict)\n",
    "groups_list[89]"
   ]
  },
  {
   "cell_type": "markdown",
   "metadata": {},
   "source": [
    "## Group techniques by group\n",
    "We can then use the output of the `get_techniques_used_by_all_groups()` function and start appending techniques to the dictionaries with the key name that matches the group name being involved with each technique."
   ]
  },
  {
   "cell_type": "code",
   "execution_count": 25,
   "metadata": {},
   "outputs": [
    {
     "data": {
      "text/plain": [
       "{'Inception': [{'techniqueId': 'T1027.013',\n",
       "   'techniqueName': 'Encrypted/Encoded File',\n",
       "   'comment': '[Inception](https://attack.mitre.org/groups/G0100) has encrypted malware payloads dropped on victim machines with AES and RC4 encryption.(Citation: Kaspersky Cloud Atlas December 2014)',\n",
       "   'tactic': [KillChainPhase(kill_chain_name='mitre-attack', phase_name='defense-evasion')],\n",
       "   'group_id': 'G0100'},\n",
       "  {'techniqueId': 'T1547.001',\n",
       "   'techniqueName': 'Registry Run Keys / Startup Folder',\n",
       "   'comment': '[Inception](https://attack.mitre.org/groups/G0100) has maintained persistence by modifying Registry run key value \\n <code>HKEY_CURRENT_USER\\\\Software\\\\Microsoft\\\\Windows\\\\CurrentVersion\\\\Run\\\\</code>.(Citation: Kaspersky Cloud Atlas December 2014)',\n",
       "   'tactic': [KillChainPhase(kill_chain_name='mitre-attack', phase_name='persistence'),\n",
       "    KillChainPhase(kill_chain_name='mitre-attack', phase_name='privilege-escalation')],\n",
       "   'group_id': 'G0100'},\n",
       "  {'techniqueId': 'T1588.002',\n",
       "   'techniqueName': 'Tool',\n",
       "   'comment': '[Inception](https://attack.mitre.org/groups/G0100) has obtained and used open-source tools such as [LaZagne](https://attack.mitre.org/software/S0349).(Citation: Kaspersky Cloud Atlas August 2019)',\n",
       "   'tactic': [KillChainPhase(kill_chain_name='mitre-attack', phase_name='resource-development')],\n",
       "   'group_id': 'G0100'},\n",
       "  {'techniqueId': 'T1102',\n",
       "   'techniqueName': 'Web Service',\n",
       "   'comment': '[Inception](https://attack.mitre.org/groups/G0100) has incorporated at least five different cloud service providers into their C2 infrastructure including CloudMe.(Citation: Kaspersky Cloud Atlas December 2014)(Citation: Symantec Inception Framework March 2018)',\n",
       "   'tactic': [KillChainPhase(kill_chain_name='mitre-attack', phase_name='command-and-control')],\n",
       "   'group_id': 'G0100'},\n",
       "  {'techniqueId': 'T1083',\n",
       "   'techniqueName': 'File and Directory Discovery',\n",
       "   'comment': '[Inception](https://attack.mitre.org/groups/G0100) used a file listing plugin to collect information about file and directories both on local and remote drives.(Citation: Symantec Inception Framework March 2018)',\n",
       "   'tactic': [KillChainPhase(kill_chain_name='mitre-attack', phase_name='discovery')],\n",
       "   'group_id': 'G0100'},\n",
       "  {'techniqueId': 'T1566.001',\n",
       "   'techniqueName': 'Spearphishing Attachment',\n",
       "   'comment': '[Inception](https://attack.mitre.org/groups/G0100) has used weaponized documents attached to spearphishing emails for reconnaissance and initial compromise.(Citation: Kaspersky Cloud Atlas December 2014)(Citation: Symantec Inception Framework March 2018)(Citation: Unit 42 Inception November 2018)(Citation: Kaspersky Cloud Atlas August 2019)',\n",
       "   'tactic': [KillChainPhase(kill_chain_name='mitre-attack', phase_name='initial-access')],\n",
       "   'group_id': 'G0100'},\n",
       "  {'techniqueId': 'T1518',\n",
       "   'techniqueName': 'Software Discovery',\n",
       "   'comment': '[Inception](https://attack.mitre.org/groups/G0100) has enumerated installed software on compromised systems.(Citation: Symantec Inception Framework March 2018)',\n",
       "   'tactic': [KillChainPhase(kill_chain_name='mitre-attack', phase_name='discovery')],\n",
       "   'group_id': 'G0100'},\n",
       "  {'techniqueId': 'T1090.003',\n",
       "   'techniqueName': 'Multi-hop Proxy',\n",
       "   'comment': '[Inception](https://attack.mitre.org/groups/G0100) used chains of compromised routers to proxy C2 communications between them and cloud service providers.(Citation: Symantec Inception Framework March 2018)',\n",
       "   'tactic': [KillChainPhase(kill_chain_name='mitre-attack', phase_name='command-and-control')],\n",
       "   'group_id': 'G0100'},\n",
       "  {'techniqueId': 'T1204.002',\n",
       "   'techniqueName': 'Malicious File',\n",
       "   'comment': '[Inception](https://attack.mitre.org/groups/G0100) lured victims into clicking malicious files for machine reconnaissance and to execute malware.(Citation: Kaspersky Cloud Atlas December 2014)(Citation: Kaspersky Cloud Atlas August 2019)(Citation: Symantec Inception Framework March 2018)(Citation: Unit 42 Inception November 2018)',\n",
       "   'tactic': [KillChainPhase(kill_chain_name='mitre-attack', phase_name='execution')],\n",
       "   'group_id': 'G0100'},\n",
       "  {'techniqueId': 'T1071.001',\n",
       "   'techniqueName': 'Web Protocols',\n",
       "   'comment': '[Inception](https://attack.mitre.org/groups/G0100) has used HTTP, HTTPS, and WebDav in network communications.(Citation: Kaspersky Cloud Atlas December 2014)(Citation: Unit 42 Inception November 2018)',\n",
       "   'tactic': [KillChainPhase(kill_chain_name='mitre-attack', phase_name='command-and-control')],\n",
       "   'group_id': 'G0100'},\n",
       "  {'techniqueId': 'T1082',\n",
       "   'techniqueName': 'System Information Discovery',\n",
       "   'comment': '[Inception](https://attack.mitre.org/groups/G0100) has used a reconnaissance module to gather information about the operating system and hardware on the infected host.(Citation: Symantec Inception Framework March 2018)',\n",
       "   'tactic': [KillChainPhase(kill_chain_name='mitre-attack', phase_name='discovery')],\n",
       "   'group_id': 'G0100'},\n",
       "  {'techniqueId': 'T1059.001',\n",
       "   'techniqueName': 'PowerShell',\n",
       "   'comment': '[Inception](https://attack.mitre.org/groups/G0100) has used PowerShell to execute malicious commands and payloads.(Citation: Unit 42 Inception November 2018)(Citation: Kaspersky Cloud Atlas December 2014)',\n",
       "   'tactic': [KillChainPhase(kill_chain_name='mitre-attack', phase_name='execution')],\n",
       "   'group_id': 'G0100'},\n",
       "  {'techniqueId': 'T1555.003',\n",
       "   'techniqueName': 'Credentials from Web Browsers',\n",
       "   'comment': '[Inception](https://attack.mitre.org/groups/G0100) used a browser plugin to steal passwords and sessions from Internet Explorer, Chrome, Opera, Firefox, Torch, and Yandex.(Citation: Symantec Inception Framework March 2018)',\n",
       "   'tactic': [KillChainPhase(kill_chain_name='mitre-attack', phase_name='credential-access')],\n",
       "   'group_id': 'G0100'},\n",
       "  {'techniqueId': 'T1203',\n",
       "   'techniqueName': 'Exploitation for Client Execution',\n",
       "   'comment': '[Inception](https://attack.mitre.org/groups/G0100) has exploited CVE-2012-0158, CVE-2014-1761, CVE-2017-11882 and CVE-2018-0802 for execution.(Citation: Kaspersky Cloud Atlas August 2019)(Citation: Kaspersky Cloud Atlas December 2014)(Citation: Symantec Inception Framework March 2018)(Citation: Unit 42 Inception November 2018)',\n",
       "   'tactic': [KillChainPhase(kill_chain_name='mitre-attack', phase_name='execution')],\n",
       "   'group_id': 'G0100'},\n",
       "  {'techniqueId': 'T1069.002',\n",
       "   'techniqueName': 'Domain Groups',\n",
       "   'comment': '[Inception](https://attack.mitre.org/groups/G0100) has used specific malware modules to gather domain membership.(Citation: Symantec Inception Framework March 2018)',\n",
       "   'tactic': [KillChainPhase(kill_chain_name='mitre-attack', phase_name='discovery')],\n",
       "   'group_id': 'G0100'},\n",
       "  {'techniqueId': 'T1218.005',\n",
       "   'techniqueName': 'Mshta',\n",
       "   'comment': '[Inception](https://attack.mitre.org/groups/G0100) has used malicious HTA files to drop and execute malware.(Citation: Kaspersky Cloud Atlas August 2019)',\n",
       "   'tactic': [KillChainPhase(kill_chain_name='mitre-attack', phase_name='defense-evasion')],\n",
       "   'group_id': 'G0100'},\n",
       "  {'techniqueId': 'T1005',\n",
       "   'techniqueName': 'Data from Local System',\n",
       "   'comment': '[Inception](https://attack.mitre.org/groups/G0100) used a file hunting plugin to collect .txt, .pdf, .xls or .doc files from the infected host.(Citation: Kaspersky Cloud Atlas August 2019)',\n",
       "   'tactic': [KillChainPhase(kill_chain_name='mitre-attack', phase_name='collection')],\n",
       "   'group_id': 'G0100'},\n",
       "  {'techniqueId': 'T1057',\n",
       "   'techniqueName': 'Process Discovery',\n",
       "   'comment': '[Inception](https://attack.mitre.org/groups/G0100) has used a reconnaissance module to identify active processes and other associated loaded modules.(Citation: Symantec Inception Framework March 2018)',\n",
       "   'tactic': [KillChainPhase(kill_chain_name='mitre-attack', phase_name='discovery')],\n",
       "   'group_id': 'G0100'},\n",
       "  {'techniqueId': 'T1573.001',\n",
       "   'techniqueName': 'Symmetric Cryptography',\n",
       "   'comment': '[Inception](https://attack.mitre.org/groups/G0100) has encrypted network communications with AES.(Citation: Kaspersky Cloud Atlas December 2014)',\n",
       "   'tactic': [KillChainPhase(kill_chain_name='mitre-attack', phase_name='command-and-control')],\n",
       "   'group_id': 'G0100'},\n",
       "  {'techniqueId': 'T1059.005',\n",
       "   'techniqueName': 'Visual Basic',\n",
       "   'comment': '[Inception](https://attack.mitre.org/groups/G0100) has used VBScript to execute malicious commands and payloads.(Citation: Unit 42 Inception November 2018)(Citation: Kaspersky Cloud Atlas December 2014)',\n",
       "   'tactic': [KillChainPhase(kill_chain_name='mitre-attack', phase_name='execution')],\n",
       "   'group_id': 'G0100'},\n",
       "  {'techniqueId': 'T1221',\n",
       "   'techniqueName': 'Template Injection',\n",
       "   'comment': '[Inception](https://attack.mitre.org/groups/G0100) has used decoy documents to load malicious remote payloads via HTTP.(Citation: Unit 42 Inception November 2018)',\n",
       "   'tactic': [KillChainPhase(kill_chain_name='mitre-attack', phase_name='defense-evasion')],\n",
       "   'group_id': 'G0100'},\n",
       "  {'techniqueId': 'T1218.010',\n",
       "   'techniqueName': 'Regsvr32',\n",
       "   'comment': '[Inception](https://attack.mitre.org/groups/G0100) has ensured persistence at system boot by setting the value <code>regsvr32 %path%\\\\ctfmonrn.dll /s</code>.(Citation: Kaspersky Cloud Atlas December 2014)',\n",
       "   'tactic': [KillChainPhase(kill_chain_name='mitre-attack', phase_name='defense-evasion')],\n",
       "   'group_id': 'G0100'}]}"
      ]
     },
     "execution_count": 25,
     "metadata": {},
     "output_type": "execute_result"
    }
   ],
   "source": [
    "for group in groups_list:\n",
    "    for group_name,techniques_list in group.items():\n",
    "        for gut in techniques_used:\n",
    "            if group_name == gut['name']:\n",
    "                technique_dict = dict()\n",
    "                technique_dict['techniqueId'] = gut['technique_id']\n",
    "                technique_dict['techniqueName'] = gut['technique']\n",
    "                technique_dict['comment'] = gut['relationship_description']\n",
    "                technique_dict['tactic'] = gut['tactic']\n",
    "                technique_dict['group_id'] = gut['external_references'][0]['external_id']\n",
    "                techniques_list.append(technique_dict)\n",
    "groups_list[89]"
   ]
  },
  {
   "cell_type": "markdown",
   "metadata": {},
   "source": [
    "## Run dynamic navigator layer template"
   ]
  },
  {
   "cell_type": "code",
   "execution_count": 26,
   "metadata": {},
   "outputs": [],
   "source": [
    "import json\n",
    "for group in groups_list:\n",
    "    for k,v in group.items():\n",
    "        if v:\n",
    "            actor_layer = {\n",
    "                \"description\": (\"Enterprise techniques used by {0}, ATT&CK group {1} v1.0\".format(k,v[0]['group_id'])),\n",
    "                \"name\": (\"{0} ({1})\".format(k,v[0]['group_id'])),\n",
    "                \"domain\": \"enterprise-attack\",\n",
    "                \"versions\": {\n",
    "                    \"attack\": \"16\",\n",
    "                    \"navigator\": \"5.1.0\",\n",
    "                    \"layer\": \"4.5\"\n",
    "                },\n",
    "                \"techniques\": [\n",
    "                    {\n",
    "                        \"score\": 1,\n",
    "                        \"techniqueID\" : technique['techniqueId'],\n",
    "                        \"techniqueName\" : technique['techniqueName'],\n",
    "                        \"comment\": technique['comment']\n",
    "                    } for technique in v\n",
    "                ],\n",
    "                \"gradient\": {\n",
    "                    \"colors\": [\n",
    "                        \"#ffffff\",\n",
    "                        \"#ff6666\"\n",
    "                    ],\n",
    "                    \"minValue\": 0,\n",
    "                    \"maxValue\": 1\n",
    "                },\n",
    "                \"legendItems\": [\n",
    "                    {\n",
    "                        \"label\": (\"used by {}\".format(k)),\n",
    "                        \"color\": \"#ff6666\"\n",
    "                    }\n",
    "                ]\n",
    "            }\n",
    "            with open(('{0}_{1}.json'.format(k,v[0]['group_id'])), 'w') as f:\n",
    "                f.write(json.dumps(actor_layer))"
   ]
  },
  {
   "cell_type": "code",
   "execution_count": 27,
   "metadata": {},
   "outputs": [
    {
     "name": "stdout",
     "output_type": "stream",
     "text": [
      "ALLANITE_G1000.json           LAPSUS$_G1004.json\n",
      "APT-C-23_G1028.json           Lazarus Group_G0032.json\n",
      "APT-C-36_G0099.json           LazyScripter_G0140.json\n",
      "APT12_G0005.json              Leafminer_G0077.json\n",
      "APT16_G0023.json              Leviathan_G0065.json\n",
      "APT17_G0025.json              LuminousMoth_G1014.json\n",
      "APT18_G0026.json              Machete_G0095.json\n",
      "APT19_G0073.json              Magic Hound_G0059.json\n",
      "APT1_G0006.json               Malteiro_G1026.json\n",
      "APT28_G0007.json              Metador_G1013.json\n",
      "APT29_G0016.json              Moafee_G0002.json\n",
      "APT30_G0013.json              Mofang_G0103.json\n",
      "APT32_G0050.json              Molerats_G0021.json\n",
      "APT33_G0064.json              Moonstone Sleet_G1036.json\n",
      "APT37_G0067.json              Moses Staff_G1009.json\n",
      "APT38_G0082.json              MoustachedBouncer_G1019.json\n",
      "APT39_G0087.json              MuddyWater_G0069.json\n",
      "APT3_G0022.json               Mustang Panda_G0129.json\n",
      "APT41_G0096.json              Mustard Tempest_G1020.json\n",
      "APT5_G1023.json               Naikon_G0019.json\n",
      "Agrius_G1030.json             Nomadic Octopus_G0133.json\n",
      "Ajax Security Team_G0130.json OilRig_G0049.json\n",
      "Akira_G1024.json              Orangeworm_G0071.json\n",
      "Andariel_G0138.json           PLATINUM_G0068.json\n",
      "Aoqin Dragon_G1007.json       POLONIUM_G1005.json\n",
      "Aquatic Panda_G0143.json      PROMETHIUM_G0056.json\n",
      "Axiom_G0001.json              Patchwork_G0040.json\n",
      "BITTER_G1002.json             PittyTiger_G0011.json\n",
      "BRONZE BUTLER_G0060.json      Play_G1040.json\n",
      "BackdoorDiplomacy_G0135.json  Poseidon Group_G0033.json\n",
      "BlackOasis_G0063.json         Putter Panda_G0024.json\n",
      "BlackTech_G0098.json          RTM_G0048.json\n",
      "Blue Mockingbird_G0108.json   Rancor_G0075.json\n",
      "Bouncing Golf_G0097.json      RedCurl_G1039.json\n",
      "CURIUM_G1012.json             Rocke_G0106.json\n",
      "Carbanak_G0008.json           Saint Bear_G1031.json\n",
      "Chimera_G0114.json            Sandworm Team_G0034.json\n",
      "Cinnamon Tempest_G1021.json   Scarlet Mimic_G0029.json\n",
      "Cleaver_G0003.json            Scattered Spider_G1015.json\n",
      "Cobalt Group_G0080.json       SideCopy_G1008.json\n",
      "Confucius_G0142.json          Sidewinder_G0121.json\n",
      "CopyKittens_G0052.json        Silence_G0091.json\n",
      "Daggerfly_G1034.json          Silent Librarian_G0122.json\n",
      "Dark Caracal_G0070.json       SilverTerrier_G0083.json\n",
      "DarkHydrus_G0079.json         Sowbug_G0054.json\n",
      "DarkVishnya_G0105.json        Star Blizzard_G1033.json\n",
      "Darkhotel_G0012.json          Stealth Falcon_G0038.json\n",
      "Deep Panda_G0009.json         Strider_G0041.json\n",
      "Dragonfly_G0035.json          Suckfly_G0039.json\n",
      "EXOTIC LILY_G1011.json        TA2541_G1018.json\n",
      "Earth Lusca_G1006.json        TA459_G0062.json\n",
      "Elderwood_G0066.json          TA505_G0092.json\n",
      "Ember Bear_G1003.json         TA551_G0127.json\n",
      "Equation_G0020.json           TA577_G1037.json\n",
      "Evilnum_G0120.json            TA578_G1038.json\n",
      "FIN10_G0051.json              TEMP.Veles_G0088.json\n",
      "FIN13_G1016.json              TeamTNT_G0139.json\n",
      "FIN4_G0085.json               The White Company_G0089.json\n",
      "FIN5_G0053.json               Threat Group-1314_G0028.json\n",
      "FIN6_G0037.json               Threat Group-3390_G0027.json\n",
      "FIN7_G0046.json               Thrip_G0076.json\n",
      "FIN8_G0061.json               ToddyCat_G1022.json\n",
      "Ferocious Kitten_G0137.json   Tonto Team_G0131.json\n",
      "Fox Kitten_G0117.json         Transparent Tribe_G0134.json\n",
      "GALLIUM_G0093.json            Tropic Trooper_G0081.json\n",
      "GCMAN_G0036.json              Turla_G0010.json\n",
      "GOLD SOUTHFIELD_G0115.json    UNC788_G1029.json\n",
      "Gallmaker_G0084.json          Volatile Cedar_G0123.json\n",
      "Gamaredon Group_G0047.json    Volt Typhoon_G1017.json\n",
      "Gorgon Group_G0078.json       WIRTE_G0090.json\n",
      "Group5_G0043.json             Whitefly_G0107.json\n",
      "HAFNIUM_G0125.json            Windigo_G0124.json\n",
      "HEXANE_G1001.json             Windshift_G0112.json\n",
      "Higaisa_G0126.json            Winnti Group_G0044.json\n",
      "INC Ransom_G1032.json         Winter Vivern_G1035.json\n",
      "Inception_G0100.json          Wizard Spider_G0102.json\n",
      "IndigoZebra_G0136.json        ZIRCONIUM_G0128.json\n",
      "Indrik Spider_G0119.json      admin@338_G0018.json\n",
      "Ke3chang_G0004.json           menuPass_G0045.json\n",
      "Kimsuky_G0094.json\n"
     ]
    }
   ],
   "source": [
    "! ls *.json"
   ]
  },
  {
   "cell_type": "markdown",
   "metadata": {},
   "source": [
    "We can delete all the files with the following command."
   ]
  },
  {
   "cell_type": "code",
   "execution_count": 28,
   "metadata": {},
   "outputs": [],
   "source": [
    "! rm *.json"
   ]
  },
  {
   "cell_type": "markdown",
   "metadata": {},
   "source": [
    "# Create Navigator Group Layer Files - (Automatic)\n",
    "-----------------------"
   ]
  },
  {
   "cell_type": "code",
   "execution_count": 29,
   "metadata": {},
   "outputs": [
    {
     "name": "stdout",
     "output_type": "stream",
     "text": [
      "CPU times: user 3.34 s, sys: 314 ms, total: 3.66 s\n",
      "Wall time: 49.9 s\n"
     ]
    }
   ],
   "source": [
    "from attackcti import attack_client\n",
    "lift = attack_client()\n",
    "\n",
    "%time lift.export_groups_navigator_layers()"
   ]
  },
  {
   "cell_type": "code",
   "execution_count": 30,
   "metadata": {},
   "outputs": [
    {
     "name": "stdout",
     "output_type": "stream",
     "text": [
      "ALLANITE_G1000.json           LAPSUS$_G1004.json\n",
      "APT-C-23_G1028.json           Lazarus Group_G0032.json\n",
      "APT-C-36_G0099.json           LazyScripter_G0140.json\n",
      "APT12_G0005.json              Leafminer_G0077.json\n",
      "APT16_G0023.json              Leviathan_G0065.json\n",
      "APT17_G0025.json              LuminousMoth_G1014.json\n",
      "APT18_G0026.json              Machete_G0095.json\n",
      "APT19_G0073.json              Magic Hound_G0059.json\n",
      "APT1_G0006.json               Malteiro_G1026.json\n",
      "APT28_G0007.json              Metador_G1013.json\n",
      "APT29_G0016.json              Moafee_G0002.json\n",
      "APT30_G0013.json              Mofang_G0103.json\n",
      "APT32_G0050.json              Molerats_G0021.json\n",
      "APT33_G0064.json              Moonstone Sleet_G1036.json\n",
      "APT37_G0067.json              Moses Staff_G1009.json\n",
      "APT38_G0082.json              MoustachedBouncer_G1019.json\n",
      "APT39_G0087.json              MuddyWater_G0069.json\n",
      "APT3_G0022.json               Mustang Panda_G0129.json\n",
      "APT41_G0096.json              Mustard Tempest_G1020.json\n",
      "APT5_G1023.json               Naikon_G0019.json\n",
      "Agrius_G1030.json             Nomadic Octopus_G0133.json\n",
      "Ajax Security Team_G0130.json OilRig_G0049.json\n",
      "Akira_G1024.json              Orangeworm_G0071.json\n",
      "Andariel_G0138.json           PLATINUM_G0068.json\n",
      "Aoqin Dragon_G1007.json       POLONIUM_G1005.json\n",
      "Aquatic Panda_G0143.json      PROMETHIUM_G0056.json\n",
      "Axiom_G0001.json              Patchwork_G0040.json\n",
      "BITTER_G1002.json             PittyTiger_G0011.json\n",
      "BRONZE BUTLER_G0060.json      Play_G1040.json\n",
      "BackdoorDiplomacy_G0135.json  Poseidon Group_G0033.json\n",
      "BlackOasis_G0063.json         Putter Panda_G0024.json\n",
      "BlackTech_G0098.json          RTM_G0048.json\n",
      "Blue Mockingbird_G0108.json   Rancor_G0075.json\n",
      "Bouncing Golf_G0097.json      RedCurl_G1039.json\n",
      "CURIUM_G1012.json             Rocke_G0106.json\n",
      "Carbanak_G0008.json           Saint Bear_G1031.json\n",
      "Chimera_G0114.json            Sandworm Team_G0034.json\n",
      "Cinnamon Tempest_G1021.json   Scarlet Mimic_G0029.json\n",
      "Cleaver_G0003.json            Scattered Spider_G1015.json\n",
      "Cobalt Group_G0080.json       SideCopy_G1008.json\n",
      "Confucius_G0142.json          Sidewinder_G0121.json\n",
      "CopyKittens_G0052.json        Silence_G0091.json\n",
      "Daggerfly_G1034.json          Silent Librarian_G0122.json\n",
      "Dark Caracal_G0070.json       SilverTerrier_G0083.json\n",
      "DarkHydrus_G0079.json         Sowbug_G0054.json\n",
      "DarkVishnya_G0105.json        Star Blizzard_G1033.json\n",
      "Darkhotel_G0012.json          Stealth Falcon_G0038.json\n",
      "Deep Panda_G0009.json         Strider_G0041.json\n",
      "Dragonfly_G0035.json          Suckfly_G0039.json\n",
      "EXOTIC LILY_G1011.json        TA2541_G1018.json\n",
      "Earth Lusca_G1006.json        TA459_G0062.json\n",
      "Elderwood_G0066.json          TA505_G0092.json\n",
      "Ember Bear_G1003.json         TA551_G0127.json\n",
      "Equation_G0020.json           TA577_G1037.json\n",
      "Evilnum_G0120.json            TA578_G1038.json\n",
      "FIN10_G0051.json              TEMP.Veles_G0088.json\n",
      "FIN13_G1016.json              TeamTNT_G0139.json\n",
      "FIN4_G0085.json               The White Company_G0089.json\n",
      "FIN5_G0053.json               Threat Group-1314_G0028.json\n",
      "FIN6_G0037.json               Threat Group-3390_G0027.json\n",
      "FIN7_G0046.json               Thrip_G0076.json\n",
      "FIN8_G0061.json               ToddyCat_G1022.json\n",
      "Ferocious Kitten_G0137.json   Tonto Team_G0131.json\n",
      "Fox Kitten_G0117.json         Transparent Tribe_G0134.json\n",
      "GALLIUM_G0093.json            Tropic Trooper_G0081.json\n",
      "GCMAN_G0036.json              Turla_G0010.json\n",
      "GOLD SOUTHFIELD_G0115.json    UNC788_G1029.json\n",
      "Gallmaker_G0084.json          Volatile Cedar_G0123.json\n",
      "Gamaredon Group_G0047.json    Volt Typhoon_G1017.json\n",
      "Gorgon Group_G0078.json       WIRTE_G0090.json\n",
      "Group5_G0043.json             Whitefly_G0107.json\n",
      "HAFNIUM_G0125.json            Windigo_G0124.json\n",
      "HEXANE_G1001.json             Windshift_G0112.json\n",
      "Higaisa_G0126.json            Winnti Group_G0044.json\n",
      "INC Ransom_G1032.json         Winter Vivern_G1035.json\n",
      "Inception_G0100.json          Wizard Spider_G0102.json\n",
      "IndigoZebra_G0136.json        ZIRCONIUM_G0128.json\n",
      "Indrik Spider_G0119.json      admin@338_G0018.json\n",
      "Ke3chang_G0004.json           menuPass_G0045.json\n",
      "Kimsuky_G0094.json\n"
     ]
    }
   ],
   "source": [
    "! ls *.json"
   ]
  },
  {
   "cell_type": "markdown",
   "metadata": {},
   "source": [
    "We can delete all the files with the following command."
   ]
  },
  {
   "cell_type": "code",
   "execution_count": 31,
   "metadata": {},
   "outputs": [],
   "source": [
    "! rm *.json"
   ]
  },
  {
   "cell_type": "code",
   "execution_count": null,
   "metadata": {},
   "outputs": [],
   "source": []
  }
 ],
 "metadata": {
  "kernelspec": {
   "display_name": ".venv",
   "language": "python",
   "name": "python3"
  },
  "language_info": {
   "codemirror_mode": {
    "name": "ipython",
    "version": 3
   },
   "file_extension": ".py",
   "mimetype": "text/x-python",
   "name": "python",
   "nbconvert_exporter": "python",
   "pygments_lexer": "ipython3",
   "version": "3.13.0"
  }
 },
 "nbformat": 4,
 "nbformat_minor": 4
}
